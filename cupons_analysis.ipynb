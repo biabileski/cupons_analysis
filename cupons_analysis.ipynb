{
 "cells": [
  {
   "cell_type": "markdown",
   "metadata": {
    "application/vnd.databricks.v1+cell": {
     "cellMetadata": {},
     "inputWidgets": {},
     "nuid": "37cea358-9145-4f62-a36d-c4f2e2f5f3db",
     "showTitle": false,
     "tableResultSettingsMap": {},
     "title": ""
    }
   },
   "source": [
    "## **ESTRATÉGIA DE CUPONS NA RETENÇÃO DE USUÁRIOS**"
   ]
  },
  {
   "cell_type": "markdown",
   "metadata": {
    "application/vnd.databricks.v1+cell": {
     "cellMetadata": {},
     "inputWidgets": {},
     "nuid": "42526bfa-8ce6-43c0-aa23-1bf5bd4efaca",
     "showTitle": false,
     "tableResultSettingsMap": {},
     "title": ""
    }
   },
   "source": [
    "### BIBLIOTECAS"
   ]
  },
  {
   "cell_type": "code",
   "execution_count": 0,
   "metadata": {
    "application/vnd.databricks.v1+cell": {
     "cellMetadata": {
      "byteLimit": 2048000,
      "rowLimit": 10000
     },
     "inputWidgets": {},
     "nuid": "637541f2-969b-4d53-abd5-e293bfeee4ac",
     "showTitle": false,
     "tableResultSettingsMap": {},
     "title": ""
    }
   },
   "outputs": [],
   "source": [
    "import numpy as np\n",
    "import pandas as pd\n",
    "from scipy import stats\n",
    "import plotly.express as px\n",
    "import matplotlib.pyplot as plt\n",
    "from pyspark.ml import Pipeline\n",
    "import plotly.graph_objects as go\n",
    "from pyspark.sql.window import Window\n",
    "from pyspark.sql import functions as F\n",
    "from scipy.stats import chi2_contingency\n",
    "from pyspark.ml.clustering import KMeans\n",
    "from pyspark.sql import SparkSession, DataFrame\n",
    "from pyspark.ml.evaluation import ClusteringEvaluator\n",
    "from pyspark.ml.feature import StringIndexer, OneHotEncoder, VectorAssembler, StandardScaler\n",
    "from pyspark.sql.functions import sum as spark_sum\n",
    "from pyspark.sql.functions import col, count, sum, avg, stddev, min, max, countDistinct, datediff, from_unixtime, to_date, when, rank, dense_rank, percent_rank, ntile, lag, explode, split, year, month, dayofweek, col, current_date, datediff, to_timestamp, col, when, desc, avg, count, sum, round as spark_round\n"
   ]
  },
  {
   "cell_type": "markdown",
   "metadata": {
    "application/vnd.databricks.v1+cell": {
     "cellMetadata": {},
     "inputWidgets": {},
     "nuid": "e939bb80-daaf-4c64-96f1-bcf1461cfc56",
     "showTitle": false,
     "tableResultSettingsMap": {},
     "title": ""
    }
   },
   "source": [
    "### EXTRAÇÃO"
   ]
  },
  {
   "cell_type": "code",
   "execution_count": 0,
   "metadata": {
    "application/vnd.databricks.v1+cell": {
     "cellMetadata": {
      "byteLimit": 2048000,
      "rowLimit": 10000
     },
     "inputWidgets": {},
     "nuid": "6e4b958d-e7b1-455c-b968-3520534ce80c",
     "showTitle": false,
     "tableResultSettingsMap": {},
     "title": ""
    }
   },
   "outputs": [
    {
     "output_type": "stream",
     "name": "stdout",
     "output_type": "stream",
     "text": [
      "Conjunto de dados orders importado\nConjunto de dados consumers importado\nConjunto de dados restaurants importado\n"
     ]
    }
   ],
   "source": [
    "def import_s3_data(spark: SparkSession, s3_repositories: Dict[str, str]) -> Dict[str, DataFrame]:\n",
    "\n",
    "    dataframes = {}\n",
    "    \n",
    "    for name, path in s3_repositories.items():\n",
    "        try:\n",
    "            # Converter caminhos HTTPS S3 para o protocolo s3a\n",
    "            if path.startswith('https://'):\n",
    "                # Extrair bucket e chave da URL\n",
    "                path_parts = path.replace('https://', '').split('/', 1)\n",
    "                bucket_parts = path_parts[0].split('.')\n",
    "                bucket = bucket_parts[0]\n",
    "                key = path_parts[1] if len(path_parts) > 1 else ''\n",
    "                s3_path = f\"s3a://{bucket}/{key}\"\n",
    "            else:\n",
    "                s3_path = path\n",
    "            \n",
    "            # Detectar tipo de arquivo e compactação\n",
    "            file_extension = path.lower().split('.')[-1]\n",
    "            is_compressed = path.lower().endswith('.gz')\n",
    "            file_type = path.lower().split('.')[-2] if is_compressed else file_extension\n",
    "            \n",
    "            # Leia os dados com base no tipo de arquivo\n",
    "            if 'json' in file_type:\n",
    "                df = spark.read.option(\"compression\", \"gzip\").json(s3_path)\n",
    "            elif 'csv' in file_type:\n",
    "                df = spark.read.option(\"compression\", \"gzip\").option(\"header\", \"true\").option(\"inferSchema\", \"true\").csv(s3_path)\n",
    "            else:\n",
    "                print(f\"Aviso: Tipo de arquivo desconhecido para {name}.\")\n",
    "                continue\n",
    "                \n",
    "            dataframes[name] = df\n",
    "            print(f\"Conjunto de dados {name} importado\")\n",
    "            \n",
    "        except Exception as e:\n",
    "            print(f\"Erro ao importar {name}: {str(e)}\")\n",
    "    \n",
    "    return dataframes\n",
    "\n",
    "# Definindo os repositórios S3\n",
    "repositories = {\n",
    "    \"orders\": \"https://data-architect-test-source.s3-sa-east-1.amazonaws.com/order.json.gz\",\n",
    "    \"consumers\": \"https://data-architect-test-source.s3-sa-east-1.amazonaws.com/consumer.csv.gz\",\n",
    "    \"restaurants\": \"https://data-architect-test-source.s3-sa-east-1.amazonaws.com/restaurant.csv.gz\",\n",
    "    # \"ab_test_ref\": \"https://data-architect-test-source.s3-sa-east-1.amazonaws.com/ab_test_ref.tar.gz\"\n",
    "}\n",
    "\n",
    "# Importando os dados (exclui automaticamente o arquivo tar.gz)\n",
    "dataframes = import_s3_data(spark, repositories)"
   ]
  },
  {
   "cell_type": "markdown",
   "metadata": {
    "application/vnd.databricks.v1+cell": {
     "cellMetadata": {},
     "inputWidgets": {},
     "nuid": "b155877b-a8bb-4700-b731-c37707ff4886",
     "showTitle": false,
     "tableResultSettingsMap": {},
     "title": ""
    }
   },
   "source": [
    "#### Orders\n"
   ]
  },
  {
   "cell_type": "markdown",
   "metadata": {
    "application/vnd.databricks.v1+cell": {
     "cellMetadata": {},
     "inputWidgets": {},
     "nuid": "852bf94e-20a5-4fd8-9173-d78f90c89a68",
     "showTitle": false,
     "tableResultSettingsMap": {},
     "title": ""
    }
   },
   "source": [
    "- cpf (string): Cadastro de Pessoa Física do usuário que realizou o pedi do  \n",
    "- customer_id (string): Identificador do usuário  \n",
    "- customer_name (string): Primeiro nome do usuário  \n",
    "- delivery_address_city (string): Cidade de entrega do pedido  - delivery_address_country (string): País da entrega  \n",
    "- delivery_address_district (string): Bairro da entrega  \n",
    "- delivery_address_external_id (string): Identificador do endereço  de entrega  \n",
    "- delivery_address_latitude (float): Latitude do endereço de entre ga  a\n",
    "- delivery_address_longitude (float): Longitude do endereço de  entrega  \n",
    "- delivery_address_state (string): Estado da entrega  \n",
    "- delivery_address_zip_code (string): CEP da entrega  \n",
    "- items (array[json]): Itens que compõem o pedido, bem como informa ções complementares como preço unitário, quantidade, etc.\n",
    "- merchant_id (string): Identificador do restaurante  \n",
    "- merchant_latitude (float): Latitude do restaurante  \n",
    "- merchant_longitude (float): Longitude do reslinestringtaurante  \n",
    "- merchant_timezone (string): Fuso horário em que o restaurante está  localizado  \n",
    "- order_created_at (timestamp): Data e hora em que o pedido foi cri ado  \n",
    "- order_id (string): Identificador do pedido  \n",
    "- order_scheduled (bool): Flag indicando se o pedido foi agendado ou  não (pedidos agendados são aqueles que o usuário escolheu uma data  e hora para a entrega)  \n",
    "- order_total_amount (float): Valor total do pedido em Reais  - origin_platform (string): Sistema operacional do dispositivo do  usuário  \n",
    "- order_scheduled_date (timestamp): Data e horário para entrega do  pedido agendado  \n"
   ]
  },
  {
   "cell_type": "code",
   "execution_count": 0,
   "metadata": {
    "application/vnd.databricks.v1+cell": {
     "cellMetadata": {
      "byteLimit": 2048000,
      "rowLimit": 10000
     },
     "inputWidgets": {},
     "nuid": "5a6c2172-2fac-4f31-bc0e-080c5898a402",
     "showTitle": false,
     "tableResultSettingsMap": {},
     "title": ""
    }
   },
   "outputs": [
    {
     "output_type": "execute_result",
     "data": {
      "text/html": [
       "<div>\n",
       "<style scoped>\n",
       "    .dataframe tbody tr th:only-of-type {\n",
       "        vertical-align: middle;\n",
       "    }\n",
       "\n",
       "    .dataframe tbody tr th {\n",
       "        vertical-align: top;\n",
       "    }\n",
       "\n",
       "    .dataframe thead th {\n",
       "        text-align: right;\n",
       "    }\n",
       "</style>\n",
       "<table border=\"1\" class=\"dataframe\">\n",
       "  <thead>\n",
       "    <tr style=\"text-align: right;\">\n",
       "      <th></th>\n",
       "      <th>cpf</th>\n",
       "      <th>customer_id</th>\n",
       "      <th>customer_name</th>\n",
       "      <th>delivery_address_city</th>\n",
       "      <th>delivery_address_country</th>\n",
       "      <th>delivery_address_district</th>\n",
       "      <th>delivery_address_external_id</th>\n",
       "      <th>delivery_address_latitude</th>\n",
       "      <th>delivery_address_longitude</th>\n",
       "      <th>delivery_address_state</th>\n",
       "      <th>delivery_address_zip_code</th>\n",
       "      <th>items</th>\n",
       "      <th>merchant_id</th>\n",
       "      <th>merchant_latitude</th>\n",
       "      <th>merchant_longitude</th>\n",
       "      <th>merchant_timezone</th>\n",
       "      <th>order_created_at</th>\n",
       "      <th>order_id</th>\n",
       "      <th>order_scheduled</th>\n",
       "      <th>order_scheduled_date</th>\n",
       "      <th>order_total_amount</th>\n",
       "      <th>origin_platform</th>\n",
       "    </tr>\n",
       "  </thead>\n",
       "  <tbody>\n",
       "    <tr>\n",
       "      <th>0</th>\n",
       "      <td>80532101763</td>\n",
       "      <td>7ba88a68bb2a3504c6bd37a707af57a0b8d6e110a551c7...</td>\n",
       "      <td>GUSTAVO</td>\n",
       "      <td>FRANCA</td>\n",
       "      <td>BR</td>\n",
       "      <td>JARDIM ESPRAIADO</td>\n",
       "      <td>6736655</td>\n",
       "      <td>-47.39</td>\n",
       "      <td>-20.55</td>\n",
       "      <td>SP</td>\n",
       "      <td>14403</td>\n",
       "      <td>[{\"name\": \"Parmegiana de Filé de Frango (2 pes...</td>\n",
       "      <td>a992a079a651e699d9149423761df2427c0e3af0a2a1b5...</td>\n",
       "      <td>-47.39</td>\n",
       "      <td>-20.55</td>\n",
       "      <td>America/Sao_Paulo</td>\n",
       "      <td>2019-01-17T22:50:06.000Z</td>\n",
       "      <td>33e0612d62e5eb42aba15b58413137e441fbe906de2feb...</td>\n",
       "      <td>False</td>\n",
       "      <td>None</td>\n",
       "      <td>46.0</td>\n",
       "      <td>ANDROID</td>\n",
       "    </tr>\n",
       "    <tr>\n",
       "      <th>1</th>\n",
       "      <td>43352103961</td>\n",
       "      <td>078acecdcf7fa89d356bfa349f14a8219db1ee161ce28a...</td>\n",
       "      <td>MICHELLE</td>\n",
       "      <td>SANTOS</td>\n",
       "      <td>BR</td>\n",
       "      <td>CAMPO GRANDE</td>\n",
       "      <td>8759216</td>\n",
       "      <td>-46.34</td>\n",
       "      <td>-23.96</td>\n",
       "      <td>SP</td>\n",
       "      <td>11070</td>\n",
       "      <td>[{\"name\": \"Filé Mignon à Cubana\", \"addition\": ...</td>\n",
       "      <td>5152f28ee0518b8803ccf0a4096eb2ff8b81e9491861c9...</td>\n",
       "      <td>-46.34</td>\n",
       "      <td>-23.96</td>\n",
       "      <td>America/Sao_Paulo</td>\n",
       "      <td>2019-01-17T17:51:26.000Z</td>\n",
       "      <td>148c4353a2952f3fe7973547283265eb22b575fb712ed2...</td>\n",
       "      <td>False</td>\n",
       "      <td>None</td>\n",
       "      <td>104.5</td>\n",
       "      <td>ANDROID</td>\n",
       "    </tr>\n",
       "    <tr>\n",
       "      <th>2</th>\n",
       "      <td>38650991217</td>\n",
       "      <td>0e38a3237b5946e8ab2367b4f1a3ae6e77f1e215bc760c...</td>\n",
       "      <td>VICTOR</td>\n",
       "      <td>GUARULHOS</td>\n",
       "      <td>BR</td>\n",
       "      <td>JARDIM ROSSI</td>\n",
       "      <td>8765930</td>\n",
       "      <td>-46.53</td>\n",
       "      <td>-23.44</td>\n",
       "      <td>SP</td>\n",
       "      <td>71304</td>\n",
       "      <td>[{\"name\": \"GRANDE 2 SABORES\", \"addition\": {\"va...</td>\n",
       "      <td>b6096419455c35d06105a5ef0d25c51f9dd40e1e99ac33...</td>\n",
       "      <td>-46.53</td>\n",
       "      <td>-23.44</td>\n",
       "      <td>America/Sao_Paulo</td>\n",
       "      <td>2019-01-17T22:53:47.000Z</td>\n",
       "      <td>c37e495a91b498bb7b70a9e09ac115d0cdd443f152dc11...</td>\n",
       "      <td>False</td>\n",
       "      <td>None</td>\n",
       "      <td>35.0</td>\n",
       "      <td>IOS</td>\n",
       "    </tr>\n",
       "    <tr>\n",
       "      <th>3</th>\n",
       "      <td>63579726866</td>\n",
       "      <td>cab1a004b7206d07910092c515a79834fea0a03d7d9054...</td>\n",
       "      <td>ANNIE</td>\n",
       "      <td>SAO PAULO</td>\n",
       "      <td>BR</td>\n",
       "      <td>PARQUE SAO JORGE</td>\n",
       "      <td>7834087</td>\n",
       "      <td>-46.57</td>\n",
       "      <td>-23.53</td>\n",
       "      <td>SP</td>\n",
       "      <td>30870</td>\n",
       "      <td>[{\"name\": \"CALABRESA\", \"addition\": {\"value\": \"...</td>\n",
       "      <td>082bfdcdf6ccdc343e3c4d25ee376b5b6ca7e96ad8b04e...</td>\n",
       "      <td>-46.57</td>\n",
       "      <td>-23.53</td>\n",
       "      <td>America/Sao_Paulo</td>\n",
       "      <td>2019-01-17T23:56:53.000Z</td>\n",
       "      <td>b4df94142d21354611247da9ca94f870c09b93989b531a...</td>\n",
       "      <td>False</td>\n",
       "      <td>None</td>\n",
       "      <td>40.8</td>\n",
       "      <td>IOS</td>\n",
       "    </tr>\n",
       "    <tr>\n",
       "      <th>4</th>\n",
       "      <td>90617788806</td>\n",
       "      <td>aa7edf5b166b8c843aec3b96dc561222888734f3879123...</td>\n",
       "      <td>DANIEL</td>\n",
       "      <td>VITORIA</td>\n",
       "      <td>BR</td>\n",
       "      <td>JARDIM CAMBURI</td>\n",
       "      <td>7211683</td>\n",
       "      <td>-40.27</td>\n",
       "      <td>-20.25</td>\n",
       "      <td>ES</td>\n",
       "      <td>29090</td>\n",
       "      <td>[{\"name\": \"GRANDE (35CM) 8 PDÇ 2 SABORES\", \"ad...</td>\n",
       "      <td>d7adb764bac29ccb77fb8f746ffbd531bf05ec30a7e130...</td>\n",
       "      <td>-40.27</td>\n",
       "      <td>-20.25</td>\n",
       "      <td>America/Sao_Paulo</td>\n",
       "      <td>2019-01-17T23:40:53.000Z</td>\n",
       "      <td>4ff64b33b272c1886df21b63272220af6a82d1667dba70...</td>\n",
       "      <td>False</td>\n",
       "      <td>None</td>\n",
       "      <td>48.5</td>\n",
       "      <td>ANDROID</td>\n",
       "    </tr>\n",
       "  </tbody>\n",
       "</table>\n",
       "</div>"
      ],
      "text/plain": [
       "           cpf  ... origin_platform\n",
       "0  80532101763  ...         ANDROID\n",
       "1  43352103961  ...         ANDROID\n",
       "2  38650991217  ...             IOS\n",
       "3  63579726866  ...             IOS\n",
       "4  90617788806  ...         ANDROID\n",
       "\n",
       "[5 rows x 22 columns]"
      ]
     },
     "execution_count": 13,
     "metadata": {},
     "output_type": "execute_result"
    }
   ],
   "source": [
    "# Criando Dataframe\n",
    "orders_df = dataframes[\"orders\"]\n",
    "\n",
    "orders_df.limit(5).toPandas()"
   ]
  },
  {
   "cell_type": "code",
   "execution_count": 0,
   "metadata": {
    "application/vnd.databricks.v1+cell": {
     "cellMetadata": {
      "byteLimit": 2048000,
      "rowLimit": 10000
     },
     "inputWidgets": {},
     "nuid": "e5df0cee-a154-4eb5-a8ca-80d180daa4ec",
     "showTitle": false,
     "tableResultSettingsMap": {},
     "title": ""
    }
   },
   "outputs": [
    {
     "output_type": "stream",
     "name": "stdout",
     "output_type": "stream",
     "text": [
      "Total de linhas: 2432974\nNúmero de customer_ids duplicados: 1626507\n"
     ]
    }
   ],
   "source": [
    "# Contar o total de linhas do DataFrame\n",
    "orders_df_count = orders_df.count()\n",
    "print(f\"Total de linhas: {orders_df_count}\")\n",
    "\n",
    "# Verificando se há customer_ids duplicados\n",
    "duplicate_orders_count = orders_df_count - orders_df.dropDuplicates([\"customer_id\"]).count()\n",
    "print(f\"Número de customer_ids duplicados: {duplicate_orders_count}\")"
   ]
  },
  {
   "cell_type": "code",
   "execution_count": 0,
   "metadata": {
    "application/vnd.databricks.v1+cell": {
     "cellMetadata": {
      "byteLimit": 2048000,
      "rowLimit": 10000
     },
     "inputWidgets": {},
     "nuid": "7c00f558-25af-4387-83db-029a509cb148",
     "showTitle": false,
     "tableResultSettingsMap": {},
     "title": ""
    }
   },
   "outputs": [
    {
     "output_type": "stream",
     "name": "stdout",
     "output_type": "stream",
     "text": [
      "Total de linhas: 2432974\n"
     ]
    }
   ],
   "source": [
    "# Selecionar somente as colunas necessárias\n",
    "orders_df = orders_df[[\"customer_id\", \n",
    "        \"delivery_address_city\", \n",
    "        \"delivery_address_state\",\n",
    "        \"merchant_id\", \n",
    "        \"order_id\",\n",
    "        \"origin_platform\",\n",
    "        \"order_scheduled\",\n",
    "        \"order_total_amount\"]]\n",
    "\n",
    "# Remover os duplicados\n",
    "orders_df = orders_df.dropDuplicates()\n",
    "\n",
    "# Contar o total de linhas do DataFrame\n",
    "orders_df_count = orders_df.count()\n",
    "print(f\"Total de linhas: {orders_df_count}\")"
   ]
  },
  {
   "cell_type": "code",
   "execution_count": 0,
   "metadata": {
    "application/vnd.databricks.v1+cell": {
     "cellMetadata": {
      "byteLimit": 2048000,
      "rowLimit": 10000
     },
     "inputWidgets": {},
     "nuid": "0620a0c4-6f27-4d66-891e-645ada9b269d",
     "showTitle": false,
     "tableResultSettingsMap": {},
     "title": ""
    }
   },
   "outputs": [
    {
     "output_type": "execute_result",
     "data": {
      "text/html": [
       "<div>\n",
       "<style scoped>\n",
       "    .dataframe tbody tr th:only-of-type {\n",
       "        vertical-align: middle;\n",
       "    }\n",
       "\n",
       "    .dataframe tbody tr th {\n",
       "        vertical-align: top;\n",
       "    }\n",
       "\n",
       "    .dataframe thead th {\n",
       "        text-align: right;\n",
       "    }\n",
       "</style>\n",
       "<table border=\"1\" class=\"dataframe\">\n",
       "  <thead>\n",
       "    <tr style=\"text-align: right;\">\n",
       "      <th></th>\n",
       "      <th>customer_id</th>\n",
       "      <th>delivery_address_city</th>\n",
       "      <th>delivery_address_state</th>\n",
       "      <th>merchant_id</th>\n",
       "      <th>order_id</th>\n",
       "      <th>origin_platform</th>\n",
       "      <th>order_scheduled</th>\n",
       "      <th>order_total_amount</th>\n",
       "    </tr>\n",
       "  </thead>\n",
       "  <tbody>\n",
       "    <tr>\n",
       "      <th>0</th>\n",
       "      <td>aa7edf5b166b8c843aec3b96dc561222888734f3879123...</td>\n",
       "      <td>VITORIA</td>\n",
       "      <td>ES</td>\n",
       "      <td>d7adb764bac29ccb77fb8f746ffbd531bf05ec30a7e130...</td>\n",
       "      <td>4ff64b33b272c1886df21b63272220af6a82d1667dba70...</td>\n",
       "      <td>ANDROID</td>\n",
       "      <td>False</td>\n",
       "      <td>48.5</td>\n",
       "    </tr>\n",
       "    <tr>\n",
       "      <th>1</th>\n",
       "      <td>078acecdcf7fa89d356bfa349f14a8219db1ee161ce28a...</td>\n",
       "      <td>SANTOS</td>\n",
       "      <td>SP</td>\n",
       "      <td>5152f28ee0518b8803ccf0a4096eb2ff8b81e9491861c9...</td>\n",
       "      <td>148c4353a2952f3fe7973547283265eb22b575fb712ed2...</td>\n",
       "      <td>ANDROID</td>\n",
       "      <td>False</td>\n",
       "      <td>104.5</td>\n",
       "    </tr>\n",
       "    <tr>\n",
       "      <th>2</th>\n",
       "      <td>7ba88a68bb2a3504c6bd37a707af57a0b8d6e110a551c7...</td>\n",
       "      <td>FRANCA</td>\n",
       "      <td>SP</td>\n",
       "      <td>a992a079a651e699d9149423761df2427c0e3af0a2a1b5...</td>\n",
       "      <td>33e0612d62e5eb42aba15b58413137e441fbe906de2feb...</td>\n",
       "      <td>ANDROID</td>\n",
       "      <td>False</td>\n",
       "      <td>46.0</td>\n",
       "    </tr>\n",
       "    <tr>\n",
       "      <th>3</th>\n",
       "      <td>0e38a3237b5946e8ab2367b4f1a3ae6e77f1e215bc760c...</td>\n",
       "      <td>GUARULHOS</td>\n",
       "      <td>SP</td>\n",
       "      <td>b6096419455c35d06105a5ef0d25c51f9dd40e1e99ac33...</td>\n",
       "      <td>c37e495a91b498bb7b70a9e09ac115d0cdd443f152dc11...</td>\n",
       "      <td>IOS</td>\n",
       "      <td>False</td>\n",
       "      <td>35.0</td>\n",
       "    </tr>\n",
       "    <tr>\n",
       "      <th>4</th>\n",
       "      <td>cab1a004b7206d07910092c515a79834fea0a03d7d9054...</td>\n",
       "      <td>SAO PAULO</td>\n",
       "      <td>SP</td>\n",
       "      <td>082bfdcdf6ccdc343e3c4d25ee376b5b6ca7e96ad8b04e...</td>\n",
       "      <td>b4df94142d21354611247da9ca94f870c09b93989b531a...</td>\n",
       "      <td>IOS</td>\n",
       "      <td>False</td>\n",
       "      <td>40.8</td>\n",
       "    </tr>\n",
       "  </tbody>\n",
       "</table>\n",
       "</div>"
      ],
      "text/plain": [
       "                                         customer_id  ... order_total_amount\n",
       "0  aa7edf5b166b8c843aec3b96dc561222888734f3879123...  ...               48.5\n",
       "1  078acecdcf7fa89d356bfa349f14a8219db1ee161ce28a...  ...              104.5\n",
       "2  7ba88a68bb2a3504c6bd37a707af57a0b8d6e110a551c7...  ...               46.0\n",
       "3  0e38a3237b5946e8ab2367b4f1a3ae6e77f1e215bc760c...  ...               35.0\n",
       "4  cab1a004b7206d07910092c515a79834fea0a03d7d9054...  ...               40.8\n",
       "\n",
       "[5 rows x 8 columns]"
      ]
     },
     "execution_count": 17,
     "metadata": {},
     "output_type": "execute_result"
    }
   ],
   "source": [
    "# Verificando as primeiras linhas\n",
    "orders_df.limit(5).toPandas()"
   ]
  },
  {
   "cell_type": "markdown",
   "metadata": {
    "application/vnd.databricks.v1+cell": {
     "cellMetadata": {},
     "inputWidgets": {},
     "nuid": "e17c06e4-d1a7-4099-b424-cd7974558b4a",
     "showTitle": false,
     "tableResultSettingsMap": {},
     "title": ""
    }
   },
   "source": [
    "#### Restaurants"
   ]
  },
  {
   "cell_type": "markdown",
   "metadata": {
    "application/vnd.databricks.v1+cell": {
     "cellMetadata": {},
     "inputWidgets": {},
     "nuid": "88499bf7-10a0-476a-8703-ff535580e317",
     "showTitle": false,
     "tableResultSettingsMap": {},
     "title": ""
    }
   },
   "source": [
    "- id (string): Identificador do restaurante  \n",
    "- created_at (timestamp): Data e hora em que o restaurante foi criado  - enabled (bool): Flag indicando se o restaurante está ativo no iFood ou  não  \n",
    "- price_range (int): Classificação de preço do restaurante  \n",
    "- average_ticket (float): Ticket médio dos pedidos no restaurante  - delivery_time (float): Tempo padrão de entrega para pedidos no restaurante  \n",
    "- minimum_order_value (float): Valor mínimo para pedidos no restau rante  \n",
    "- merchant_zip_code (string): CEP do restaurante  \n",
    "- merchant_city (string): Cidade do restaurante  \n",
    "- merchant_state (string): Estado do restaurante  \n",
    "- merchant_country (string): País do restaurante"
   ]
  },
  {
   "cell_type": "code",
   "execution_count": 0,
   "metadata": {
    "application/vnd.databricks.v1+cell": {
     "cellMetadata": {
      "byteLimit": 2048000,
      "rowLimit": 10000
     },
     "inputWidgets": {},
     "nuid": "9c318f58-543a-4b18-9074-4e947f887010",
     "showTitle": false,
     "tableResultSettingsMap": {},
     "title": ""
    }
   },
   "outputs": [
    {
     "output_type": "execute_result",
     "data": {
      "text/html": [
       "<div>\n",
       "<style scoped>\n",
       "    .dataframe tbody tr th:only-of-type {\n",
       "        vertical-align: middle;\n",
       "    }\n",
       "\n",
       "    .dataframe tbody tr th {\n",
       "        vertical-align: top;\n",
       "    }\n",
       "\n",
       "    .dataframe thead th {\n",
       "        text-align: right;\n",
       "    }\n",
       "</style>\n",
       "<table border=\"1\" class=\"dataframe\">\n",
       "  <thead>\n",
       "    <tr style=\"text-align: right;\">\n",
       "      <th></th>\n",
       "      <th>id</th>\n",
       "      <th>created_at</th>\n",
       "      <th>enabled</th>\n",
       "      <th>price_range</th>\n",
       "      <th>average_ticket</th>\n",
       "      <th>takeout_time</th>\n",
       "      <th>delivery_time</th>\n",
       "      <th>minimum_order_value</th>\n",
       "      <th>merchant_zip_code</th>\n",
       "      <th>merchant_city</th>\n",
       "      <th>merchant_state</th>\n",
       "      <th>merchant_country</th>\n",
       "    </tr>\n",
       "  </thead>\n",
       "  <tbody>\n",
       "    <tr>\n",
       "      <th>0</th>\n",
       "      <td>d19ff6fca6288939bff073ad0a119d25c0365c407e9e5d...</td>\n",
       "      <td>2017-01-23 12:52:30.910</td>\n",
       "      <td>False</td>\n",
       "      <td>3</td>\n",
       "      <td>60.0</td>\n",
       "      <td>0</td>\n",
       "      <td>50</td>\n",
       "      <td>30.0</td>\n",
       "      <td>14025</td>\n",
       "      <td>RIBEIRAO PRETO</td>\n",
       "      <td>SP</td>\n",
       "      <td>BR</td>\n",
       "    </tr>\n",
       "    <tr>\n",
       "      <th>1</th>\n",
       "      <td>631df0985fdbbaf27b9b031a8f381924e3483833385748...</td>\n",
       "      <td>2017-01-20 13:14:48.286</td>\n",
       "      <td>True</td>\n",
       "      <td>3</td>\n",
       "      <td>60.0</td>\n",
       "      <td>0</td>\n",
       "      <td>0</td>\n",
       "      <td>30.0</td>\n",
       "      <td>50180</td>\n",
       "      <td>SAO PAULO</td>\n",
       "      <td>SP</td>\n",
       "      <td>BR</td>\n",
       "    </tr>\n",
       "    <tr>\n",
       "      <th>2</th>\n",
       "      <td>135c5c4ae4c1ec1fdc23e8c649f313e39be8db913d8bc5...</td>\n",
       "      <td>2017-01-23 12:46:33.457</td>\n",
       "      <td>True</td>\n",
       "      <td>5</td>\n",
       "      <td>100.0</td>\n",
       "      <td>0</td>\n",
       "      <td>45</td>\n",
       "      <td>10.0</td>\n",
       "      <td>23090</td>\n",
       "      <td>RIO DE JANEIRO</td>\n",
       "      <td>RJ</td>\n",
       "      <td>BR</td>\n",
       "    </tr>\n",
       "    <tr>\n",
       "      <th>3</th>\n",
       "      <td>d26f84c470451f752bef036c55517b6d9950d41806f10e...</td>\n",
       "      <td>2017-01-20 13:15:04.806</td>\n",
       "      <td>True</td>\n",
       "      <td>3</td>\n",
       "      <td>80.0</td>\n",
       "      <td>0</td>\n",
       "      <td>0</td>\n",
       "      <td>18.9</td>\n",
       "      <td>40255</td>\n",
       "      <td>SALVADOR</td>\n",
       "      <td>BA</td>\n",
       "      <td>BR</td>\n",
       "    </tr>\n",
       "    <tr>\n",
       "      <th>4</th>\n",
       "      <td>97b9884600ea7192314580d9115f8882b8634f5aa201ff...</td>\n",
       "      <td>2017-01-20 13:14:27.701</td>\n",
       "      <td>True</td>\n",
       "      <td>3</td>\n",
       "      <td>60.0</td>\n",
       "      <td>0</td>\n",
       "      <td>0</td>\n",
       "      <td>25.0</td>\n",
       "      <td>64600</td>\n",
       "      <td>BARUERI</td>\n",
       "      <td>SP</td>\n",
       "      <td>BR</td>\n",
       "    </tr>\n",
       "  </tbody>\n",
       "</table>\n",
       "</div>"
      ],
      "text/plain": [
       "                                                  id  ... merchant_country\n",
       "0  d19ff6fca6288939bff073ad0a119d25c0365c407e9e5d...  ...               BR\n",
       "1  631df0985fdbbaf27b9b031a8f381924e3483833385748...  ...               BR\n",
       "2  135c5c4ae4c1ec1fdc23e8c649f313e39be8db913d8bc5...  ...               BR\n",
       "3  d26f84c470451f752bef036c55517b6d9950d41806f10e...  ...               BR\n",
       "4  97b9884600ea7192314580d9115f8882b8634f5aa201ff...  ...               BR\n",
       "\n",
       "[5 rows x 12 columns]"
      ]
     },
     "execution_count": 18,
     "metadata": {},
     "output_type": "execute_result"
    }
   ],
   "source": [
    "# Criando Dataframe\n",
    "restaurants_df = dataframes[\"restaurants\"]\n",
    "\n",
    "restaurants_df.limit(5).toPandas()"
   ]
  },
  {
   "cell_type": "code",
   "execution_count": 0,
   "metadata": {
    "application/vnd.databricks.v1+cell": {
     "cellMetadata": {
      "byteLimit": 2048000,
      "rowLimit": 10000
     },
     "inputWidgets": {},
     "nuid": "d7973145-edce-43ab-8e05-22dea048acfd",
     "showTitle": false,
     "tableResultSettingsMap": {},
     "title": ""
    }
   },
   "outputs": [
    {
     "output_type": "stream",
     "name": "stdout",
     "output_type": "stream",
     "text": [
      "Total de linhas: 7292\nNúmero de id_restaurants duplicados: 0\n"
     ]
    }
   ],
   "source": [
    "# Verificando quantidade de linhas\n",
    "restaurants_df_count = restaurants_df.count()\n",
    "print(f\"Total de linhas: {restaurants_df_count}\")\n",
    "\n",
    "# Verificando se há customer_ids duplicados\n",
    "duplicate_restaurants_count = restaurants_df_count - restaurants_df.dropDuplicates([\"id\"]).count()\n",
    "print(f\"Número de id_restaurants duplicados: {duplicate_restaurants_count}\")"
   ]
  },
  {
   "cell_type": "markdown",
   "metadata": {
    "application/vnd.databricks.v1+cell": {
     "cellMetadata": {},
     "inputWidgets": {},
     "nuid": "ff04b8e6-549c-45eb-9efc-9ad4cdfaa70d",
     "showTitle": false,
     "tableResultSettingsMap": {},
     "title": ""
    }
   },
   "source": [
    "#### Consumers"
   ]
  },
  {
   "cell_type": "markdown",
   "metadata": {
    "application/vnd.databricks.v1+cell": {
     "cellMetadata": {},
     "inputWidgets": {},
     "nuid": "048d126a-8e68-4e18-956c-78983fef5620",
     "showTitle": false,
     "tableResultSettingsMap": {},
     "title": ""
    }
   },
   "source": [
    "- customer_id (string): Identificador do usuário  \n",
    "- language (string): Idioma do usuário  \n",
    "- created_at (timestamp): Data e hora em que o usuário foi criado  - active (bool): Flag indicando se o usuário está ativo ou não \n",
    "- customer_name (string): Primeiro nome do usuário  \n",
    "- customer_phone_area (string): Código de área do telefone do usuá rio  \n",
    "- customer_phone_number (string): Número do telefone do usuário  "
   ]
  },
  {
   "cell_type": "code",
   "execution_count": 0,
   "metadata": {
    "application/vnd.databricks.v1+cell": {
     "cellMetadata": {
      "byteLimit": 2048000,
      "rowLimit": 10000
     },
     "inputWidgets": {},
     "nuid": "50799e86-5c9b-49b6-8ae2-b3285ebb869c",
     "showTitle": false,
     "tableResultSettingsMap": {},
     "title": ""
    }
   },
   "outputs": [
    {
     "output_type": "execute_result",
     "data": {
      "text/html": [
       "<div>\n",
       "<style scoped>\n",
       "    .dataframe tbody tr th:only-of-type {\n",
       "        vertical-align: middle;\n",
       "    }\n",
       "\n",
       "    .dataframe tbody tr th {\n",
       "        vertical-align: top;\n",
       "    }\n",
       "\n",
       "    .dataframe thead th {\n",
       "        text-align: right;\n",
       "    }\n",
       "</style>\n",
       "<table border=\"1\" class=\"dataframe\">\n",
       "  <thead>\n",
       "    <tr style=\"text-align: right;\">\n",
       "      <th></th>\n",
       "      <th>customer_id</th>\n",
       "      <th>language</th>\n",
       "      <th>created_at</th>\n",
       "      <th>active</th>\n",
       "      <th>customer_name</th>\n",
       "      <th>customer_phone_area</th>\n",
       "      <th>customer_phone_number</th>\n",
       "    </tr>\n",
       "  </thead>\n",
       "  <tbody>\n",
       "    <tr>\n",
       "      <th>0</th>\n",
       "      <td>e8cc60860e09c0bb19610b06ced69c973eb83982cfc98e...</td>\n",
       "      <td>pt-br</td>\n",
       "      <td>2018-04-05 14:49:18.165</td>\n",
       "      <td>True</td>\n",
       "      <td>NUNO</td>\n",
       "      <td>46</td>\n",
       "      <td>816135924</td>\n",
       "    </tr>\n",
       "    <tr>\n",
       "      <th>1</th>\n",
       "      <td>a2834a38a9876cf74e016524dd2e8c1f010ee12b2b684d...</td>\n",
       "      <td>pt-br</td>\n",
       "      <td>2018-01-14 21:40:02.141</td>\n",
       "      <td>True</td>\n",
       "      <td>ADRIELLY</td>\n",
       "      <td>59</td>\n",
       "      <td>231330577</td>\n",
       "    </tr>\n",
       "    <tr>\n",
       "      <th>2</th>\n",
       "      <td>41e1051728eba13341136d67d0757f8d8cc44b2a405b71...</td>\n",
       "      <td>pt-br</td>\n",
       "      <td>2018-01-07 03:47:15.554</td>\n",
       "      <td>True</td>\n",
       "      <td>PAULA</td>\n",
       "      <td>62</td>\n",
       "      <td>347597883</td>\n",
       "    </tr>\n",
       "    <tr>\n",
       "      <th>3</th>\n",
       "      <td>8e7c1dcb64edf95c935147f6d560cb068c44714cb1b21b...</td>\n",
       "      <td>pt-br</td>\n",
       "      <td>2018-01-10 22:17:08.160</td>\n",
       "      <td>True</td>\n",
       "      <td>HELTON</td>\n",
       "      <td>13</td>\n",
       "      <td>719366842</td>\n",
       "    </tr>\n",
       "    <tr>\n",
       "      <th>4</th>\n",
       "      <td>7823d4cf4150c5daeae0bd799206852fc123bdef0cf5d1...</td>\n",
       "      <td>pt-br</td>\n",
       "      <td>2018-04-06 00:16:20.935</td>\n",
       "      <td>True</td>\n",
       "      <td>WENDER</td>\n",
       "      <td>76</td>\n",
       "      <td>543232158</td>\n",
       "    </tr>\n",
       "  </tbody>\n",
       "</table>\n",
       "</div>"
      ],
      "text/plain": [
       "                                         customer_id  ... customer_phone_number\n",
       "0  e8cc60860e09c0bb19610b06ced69c973eb83982cfc98e...  ...             816135924\n",
       "1  a2834a38a9876cf74e016524dd2e8c1f010ee12b2b684d...  ...             231330577\n",
       "2  41e1051728eba13341136d67d0757f8d8cc44b2a405b71...  ...             347597883\n",
       "3  8e7c1dcb64edf95c935147f6d560cb068c44714cb1b21b...  ...             719366842\n",
       "4  7823d4cf4150c5daeae0bd799206852fc123bdef0cf5d1...  ...             543232158\n",
       "\n",
       "[5 rows x 7 columns]"
      ]
     },
     "execution_count": 20,
     "metadata": {},
     "output_type": "execute_result"
    }
   ],
   "source": [
    "consumers_df = dataframes[\"consumers\"]\n",
    "\n",
    "consumers_df.limit(5).toPandas()"
   ]
  },
  {
   "cell_type": "code",
   "execution_count": 0,
   "metadata": {
    "application/vnd.databricks.v1+cell": {
     "cellMetadata": {
      "byteLimit": 2048000,
      "rowLimit": 10000
     },
     "inputWidgets": {},
     "nuid": "d28fc62c-46d3-400b-93cf-13037be2a07d",
     "showTitle": false,
     "tableResultSettingsMap": {},
     "title": ""
    }
   },
   "outputs": [
    {
     "output_type": "stream",
     "name": "stdout",
     "output_type": "stream",
     "text": [
      "Total de linhas: 806156\nNúmero de customer_ids duplicados: 0\n"
     ]
    }
   ],
   "source": [
    "# Verificando quantidade de linhas\n",
    "consumers_df_count = consumers_df.count()\n",
    "print(f\"Total de linhas: {consumers_df_count}\")\n",
    "\n",
    "# Verificando se há customer_ids duplicados\n",
    "duplicate_consumers_count = consumers_df_count - consumers_df.dropDuplicates([\"customer_id\"]).count()\n",
    "print(f\"Número de customer_ids duplicados: {duplicate_consumers_count}\")"
   ]
  },
  {
   "cell_type": "markdown",
   "metadata": {
    "application/vnd.databricks.v1+cell": {
     "cellMetadata": {},
     "inputWidgets": {},
     "nuid": "686e7fa7-306f-4930-b628-1c2ce5284437",
     "showTitle": false,
     "tableResultSettingsMap": {},
     "title": ""
    }
   },
   "source": [
    "#### AB"
   ]
  },
  {
   "cell_type": "markdown",
   "metadata": {
    "application/vnd.databricks.v1+cell": {
     "cellMetadata": {},
     "inputWidgets": {},
     "nuid": "39b895a1-1f1c-4d43-b42e-bacbe73514b4",
     "showTitle": false,
     "tableResultSettingsMap": {},
     "title": ""
    }
   },
   "source": [
    "- customer_id (string): Identificador do usuário  \n",
    "- is_target (string): Grupo ao qual o usuário pertence ('target' ou  'control')."
   ]
  },
  {
   "cell_type": "code",
   "execution_count": 0,
   "metadata": {
    "application/vnd.databricks.v1+cell": {
     "cellMetadata": {
      "byteLimit": 2048000,
      "rowLimit": 10000
     },
     "inputWidgets": {},
     "nuid": "ec4f6a6c-bf3e-4f8a-a216-5b83c42a20fe",
     "showTitle": false,
     "tableResultSettingsMap": {},
     "title": ""
    }
   },
   "outputs": [
    {
     "output_type": "execute_result",
     "data": {
      "text/html": [
       "<div>\n",
       "<style scoped>\n",
       "    .dataframe tbody tr th:only-of-type {\n",
       "        vertical-align: middle;\n",
       "    }\n",
       "\n",
       "    .dataframe tbody tr th {\n",
       "        vertical-align: top;\n",
       "    }\n",
       "\n",
       "    .dataframe thead th {\n",
       "        text-align: right;\n",
       "    }\n",
       "</style>\n",
       "<table border=\"1\" class=\"dataframe\">\n",
       "  <thead>\n",
       "    <tr style=\"text-align: right;\">\n",
       "      <th></th>\n",
       "      <th>customer_id</th>\n",
       "      <th>is_target</th>\n",
       "    </tr>\n",
       "  </thead>\n",
       "  <tbody>\n",
       "    <tr>\n",
       "      <th>0</th>\n",
       "      <td>755e1fa18f25caec5edffb188b13fd844b2af8cf5adedc...</td>\n",
       "      <td>target</td>\n",
       "    </tr>\n",
       "    <tr>\n",
       "      <th>1</th>\n",
       "      <td>b821aa8372b8e5b82cdc283742757df8c45eecdd72adf4...</td>\n",
       "      <td>control</td>\n",
       "    </tr>\n",
       "    <tr>\n",
       "      <th>2</th>\n",
       "      <td>d425d6ee4c9d4e211b71da8fc60bf6c5336b2ea9af9cc0...</td>\n",
       "      <td>control</td>\n",
       "    </tr>\n",
       "    <tr>\n",
       "      <th>3</th>\n",
       "      <td>6a7089eea0a5dc294fbccd4fa24d0d84a90c1cc12e829c...</td>\n",
       "      <td>target</td>\n",
       "    </tr>\n",
       "    <tr>\n",
       "      <th>4</th>\n",
       "      <td>dad6b7e222bab31c0332b0ccd9fa5dbd147008facd268f...</td>\n",
       "      <td>control</td>\n",
       "    </tr>\n",
       "  </tbody>\n",
       "</table>\n",
       "</div>"
      ],
      "text/plain": [
       "                                         customer_id is_target\n",
       "0  755e1fa18f25caec5edffb188b13fd844b2af8cf5adedc...    target\n",
       "1  b821aa8372b8e5b82cdc283742757df8c45eecdd72adf4...   control\n",
       "2  d425d6ee4c9d4e211b71da8fc60bf6c5336b2ea9af9cc0...   control\n",
       "3  6a7089eea0a5dc294fbccd4fa24d0d84a90c1cc12e829c...    target\n",
       "4  dad6b7e222bab31c0332b0ccd9fa5dbd147008facd268f...   control"
      ]
     },
     "execution_count": 22,
     "metadata": {},
     "output_type": "execute_result"
    }
   ],
   "source": [
    "# Localização e tipo de arquivo\n",
    "file_location = \"/FileStore/tables/ab_test_ref-1.csv\"\n",
    "file_type = \"csv\"\n",
    "\n",
    "# Opções de CSV\n",
    "infer_schema = \"false\"\n",
    "first_row_is_header = \"true\"\n",
    "delimiter = \",\"\n",
    "\n",
    "# As opções aplicadas são para arquivos CSV. Para outros tipos de arquivo, elas serão ignoradas.\n",
    "ab_test_df = spark.read.format(file_type) \\\n",
    "  .option(\"inferSchema\", infer_schema) \\\n",
    "  .option(\"header\", first_row_is_header) \\\n",
    "  .option(\"sep\", delimiter) \\\n",
    "  .load(file_location) \n",
    "\n",
    "ab_test_df.limit(5).toPandas()"
   ]
  },
  {
   "cell_type": "code",
   "execution_count": 0,
   "metadata": {
    "application/vnd.databricks.v1+cell": {
     "cellMetadata": {
      "byteLimit": 2048000,
      "rowLimit": 10000
     },
     "inputWidgets": {},
     "nuid": "2362fc90-07ca-420b-849f-4e1fbca29e4a",
     "showTitle": false,
     "tableResultSettingsMap": {},
     "title": ""
    }
   },
   "outputs": [
    {
     "output_type": "stream",
     "name": "stdout",
     "output_type": "stream",
     "text": [
      "+--------------------+---------+\n|         customer_id|is_target|\n+--------------------+---------+\n|755e1fa18f25caec5...|     true|\n|b821aa8372b8e5b82...|    false|\n|d425d6ee4c9d4e211...|    false|\n|6a7089eea0a5dc294...|     true|\n|dad6b7e222bab31c0...|    false|\n+--------------------+---------+\nonly showing top 5 rows\n\n"
     ]
    }
   ],
   "source": [
    "# Transformando is_target em booleano\n",
    "ab_test_df = ab_test_df.withColumn(\"is_target\", F.when(F.col(\"is_target\") == \"target\", True).otherwise(False))\n",
    "ab_test_df.show(5)"
   ]
  },
  {
   "cell_type": "code",
   "execution_count": 0,
   "metadata": {
    "application/vnd.databricks.v1+cell": {
     "cellMetadata": {
      "byteLimit": 2048000,
      "rowLimit": 10000
     },
     "inputWidgets": {},
     "nuid": "002679e6-c44b-4867-86fa-01b08e1b3064",
     "showTitle": false,
     "tableResultSettingsMap": {},
     "title": ""
    }
   },
   "outputs": [
    {
     "output_type": "stream",
     "name": "stdout",
     "output_type": "stream",
     "text": [
      "Total de linhas: 806467\nNúmero de customer_ids duplicados: 0\n"
     ]
    }
   ],
   "source": [
    "# Verificando quantidade de linhas\n",
    "ab_test_df_count = ab_test_df.count()\n",
    "print(f\"Total de linhas: {ab_test_df_count}\")\n",
    "\n",
    "# Verificando se há customer_ids duplicados\n",
    "duplicate_ab_count = ab_test_df_count - ab_test_df.dropDuplicates([\"customer_id\"]).count()\n",
    "print(f\"Número de customer_ids duplicados: {duplicate_ab_count}\")"
   ]
  },
  {
   "cell_type": "code",
   "execution_count": 0,
   "metadata": {
    "application/vnd.databricks.v1+cell": {
     "cellMetadata": {
      "byteLimit": 2048000,
      "rowLimit": 10000
     },
     "inputWidgets": {},
     "nuid": "59e29e0f-a39d-4e16-9fd5-007886ed5cc3",
     "showTitle": false,
     "tableResultSettingsMap": {},
     "title": ""
    }
   },
   "outputs": [
    {
     "output_type": "stream",
     "name": "stdout",
     "output_type": "stream",
     "text": [
      "445925\n"
     ]
    }
   ],
   "source": [
    "participantes_acao = ab_test_df[ab_test_df['is_target'] == True].count()\n",
    "print(participantes_acao)"
   ]
  },
  {
   "cell_type": "markdown",
   "metadata": {
    "application/vnd.databricks.v1+cell": {
     "cellMetadata": {},
     "inputWidgets": {},
     "nuid": "88ce9678-99fa-433d-84b4-8bb9caca1aaf",
     "showTitle": false,
     "tableResultSettingsMap": {},
     "title": ""
    }
   },
   "source": [
    "LEFT JOIN com a tabela consumers"
   ]
  },
  {
   "cell_type": "code",
   "execution_count": 0,
   "metadata": {
    "application/vnd.databricks.v1+cell": {
     "cellMetadata": {
      "byteLimit": 2048000,
      "rowLimit": 10000
     },
     "inputWidgets": {},
     "nuid": "a4b5c043-c4a8-4c52-b382-1358fc1991ed",
     "showTitle": false,
     "tableResultSettingsMap": {},
     "title": ""
    }
   },
   "outputs": [
    {
     "output_type": "stream",
     "name": "stdout",
     "output_type": "stream",
     "text": [
      "+--------------------+---------+--------+--------------------+------+-------------+-------------------+---------------------+-----------+\n|         customer_id|is_target|language|          created_at|active|customer_name|customer_phone_area|customer_phone_number|days_active|\n+--------------------+---------+--------+--------------------+------+-------------+-------------------+---------------------+-----------+\n|11eec65ca267ea72e...|     true|   pt-br|2018-04-05 15:01:...|  true|     CRISTINA|                 74|            330062794|       2601|\n|175a183c35e59a5f0...|     true|   pt-br|2018-01-12 23:13:...|  true|       MARCUS|                 41|            800931027|       2684|\n|23da1100a38d20dc7...|    false|   pt-br|2018-01-13 15:57:...|  true|       CLEUSA|                 91|            560342283|       2683|\n|4d16176ed8c115d29...|     true|   pt-br|2018-04-06 04:10:...|  true|      RAFAELA|                 22|            703520378|       2600|\n|50ad6b6855b69a84e...|    false|   pt-br|2018-04-06 05:04:...|  true|      GABRIEL|                  5|            364414384|       2600|\n+--------------------+---------+--------+--------------------+------+-------------+-------------------+---------------------+-----------+\nonly showing top 5 rows\n\n"
     ]
    }
   ],
   "source": [
    "# Testando LEFT JOIN com a tabela consumers\n",
    "consumers_target_df = ab_test_df.join(consumers_df, on=\"customer_id\", how=\"left\")\n",
    "\n",
    "# Convertendo a coluna 'created_at' para timestamp e calculando os dias ativos\n",
    "consumers_target_df = consumers_target_df.withColumn(\n",
    "    \"created_at\", to_timestamp(col(\"created_at\"))\n",
    ").withColumn(\n",
    "    \"days_active\", datediff(current_date(), col(\"created_at\"))\n",
    ")\n",
    "\n",
    "consumers_target_df.show(5)"
   ]
  },
  {
   "cell_type": "code",
   "execution_count": 0,
   "metadata": {
    "application/vnd.databricks.v1+cell": {
     "cellMetadata": {
      "byteLimit": 2048000,
      "rowLimit": 10000
     },
     "inputWidgets": {},
     "nuid": "8c445e2a-ae72-4226-a0fd-2ce8c7049aaf",
     "showTitle": false,
     "tableResultSettingsMap": {},
     "title": ""
    }
   },
   "outputs": [
    {
     "output_type": "stream",
     "name": "stdout",
     "output_type": "stream",
     "text": [
      "Total de clientes sem cadastro: 311\n"
     ]
    }
   ],
   "source": [
    "# Filtrando os casos que não possuem correspondência em consumers_df\n",
    "missing_in_consumers_df = consumers_target_df.filter(col(\"customer_phone_number\").isNull())\n",
    "\n",
    "count_missing = missing_in_consumers_df.count()\n",
    "\n",
    "# Validando se todos os casos estão com cadastro na tabela consumers\n",
    "print(f\"Total de clientes sem cadastro: {count_missing}\")"
   ]
  },
  {
   "cell_type": "markdown",
   "metadata": {
    "application/vnd.databricks.v1+cell": {
     "cellMetadata": {},
     "inputWidgets": {},
     "nuid": "f2058914-8ee1-4571-820f-9f3af97edc21",
     "showTitle": false,
     "tableResultSettingsMap": {},
     "title": ""
    }
   },
   "source": [
    "LEFT JOIN com a tabela orders"
   ]
  },
  {
   "cell_type": "code",
   "execution_count": 0,
   "metadata": {
    "application/vnd.databricks.v1+cell": {
     "cellMetadata": {
      "byteLimit": 2048000,
      "rowLimit": 10000
     },
     "inputWidgets": {},
     "nuid": "cb43dac2-19c4-4c4c-b3c5-128a94b78483",
     "showTitle": false,
     "tableResultSettingsMap": {},
     "title": ""
    }
   },
   "outputs": [
    {
     "output_type": "stream",
     "name": "stdout",
     "output_type": "stream",
     "text": [
      "+--------------------+---------+---------------------+----------------------+--------------------+--------------------+---------------+---------------+------------------+\n|         customer_id|is_target|delivery_address_city|delivery_address_state|         merchant_id|            order_id|origin_platform|order_scheduled|order_total_amount|\n+--------------------+---------+---------------------+----------------------+--------------------+--------------------+---------------+---------------+------------------+\n|11eec65ca267ea72e...|     true|            SAO PAULO|                    SP|c977882744482811e...|a92eab62ae7621630...|        ANDROID|          false|              22.1|\n|11eec65ca267ea72e...|     true|            SAO PAULO|                    SP|33491db6e7d1f3304...|69472729e1500d894...|        ANDROID|          false|              37.5|\n|175a183c35e59a5f0...|     true| SAO BERNARDO DO C...|                    SP|fde057e2cea363bee...|6de889df7bc232e8a...|        ANDROID|          false|              57.0|\n|175a183c35e59a5f0...|     true| SAO BERNARDO DO C...|                    SP|1ca997daf04f5203e...|285528bb10648e6dd...|        ANDROID|          false|              23.7|\n|175a183c35e59a5f0...|     true| SAO BERNARDO DO C...|                    SP|1ca997daf04f5203e...|1ee3ae507a5e811ab...|        DESKTOP|          false|              39.9|\n+--------------------+---------+---------------------+----------------------+--------------------+--------------------+---------------+---------------+------------------+\nonly showing top 5 rows\n\n"
     ]
    }
   ],
   "source": [
    "# LEFT JOIN com a tabela orders\n",
    "consumers_orders = ab_test_df.join(orders_df, on=\"customer_id\", how=\"left\")\n",
    "\n",
    "consumers_orders.show(5)"
   ]
  },
  {
   "cell_type": "code",
   "execution_count": 0,
   "metadata": {
    "application/vnd.databricks.v1+cell": {
     "cellMetadata": {
      "byteLimit": 2048000,
      "rowLimit": 10000
     },
     "inputWidgets": {},
     "nuid": "1819d0c9-06c8-4cbc-98ff-db2a6fd86e35",
     "showTitle": false,
     "tableResultSettingsMap": {},
     "title": ""
    }
   },
   "outputs": [
    {
     "output_type": "stream",
     "name": "stdout",
     "output_type": "stream",
     "text": [
      "Total de linhas: 2427416\n"
     ]
    }
   ],
   "source": [
    "# Verificando quantidade de linhas\n",
    "consumers_orders_count = consumers_orders.count()\n",
    "print(f\"Total de linhas: {consumers_orders_count}\")"
   ]
  },
  {
   "cell_type": "code",
   "execution_count": 0,
   "metadata": {
    "application/vnd.databricks.v1+cell": {
     "cellMetadata": {
      "byteLimit": 2048000,
      "rowLimit": 10000
     },
     "inputWidgets": {},
     "nuid": "a0baa736-1bfe-4582-9a5b-608715065086",
     "showTitle": false,
     "tableResultSettingsMap": {},
     "title": ""
    }
   },
   "outputs": [
    {
     "output_type": "stream",
     "name": "stdout",
     "output_type": "stream",
     "text": [
      "+--------------------+---------+---------------------+----------------------+---------------+---------------+------------+---------------+------------------+\n|         customer_id|is_target|delivery_address_city|delivery_address_state|origin_platform|order_scheduled|total_orders|total_merchants|      total_amount|\n+--------------------+---------+---------------------+----------------------+---------------+---------------+------------+---------------+------------------+\n|0001226e517517758...|     true|       RIO DE JANEIRO|                    RJ|        ANDROID|          false|           2|              2|              86.5|\n|00021cd56b6d6c980...|     true|             CAMPINAS|                    SP|        ANDROID|          false|           3|              3|              47.8|\n|00021f6dc15d10418...|     true|            SAO PAULO|                    SP|        ANDROID|          false|           1|              1|             128.6|\n|00021f6dc15d10418...|     true|            GUARULHOS|                    SP|        ANDROID|          false|           1|              1|              46.0|\n|00022b8c0c7af061f...|    false|             LONDRINA|                    PR|        DESKTOP|          false|           5|              5|              80.9|\n|00029b26fb2121119...|     true|       RIO DE JANEIRO|                    RJ|            IOS|          false|           1|              1|              54.6|\n|0002cc7394d677fdf...|    false|             BRASILIA|                    DF|        ANDROID|          false|           1|              1|              43.9|\n|0003fc1a7fe21c5f4...|    false|               SANTOS|                    SP|        ANDROID|          false|           2|              2|              69.0|\n|000405bb6de6550fe...|     true|       RIO DE JANEIRO|                    RJ|            IOS|          false|           3|              3|            175.07|\n|0005bc77d13c12d94...|     true|             CURITIBA|                    PR|            IOS|          false|           5|              5|             315.9|\n|0006aba7fd94d9de3...|    false|             SAO JOSE|                    SC|            IOS|          false|           2|              2|             109.9|\n|00070461cb50a86cd...|    false|         PORTO ALEGRE|                    RS|        ANDROID|          false|           1|              1|              62.0|\n|0007d5fca15f492fd...|    false|       RIO DE JANEIRO|                    RJ|        ANDROID|          false|           2|              2|              79.0|\n|000949d1dc848191d...|     true|            SAO PAULO|                    SP|            IOS|          false|           7|              7|440.32000000000005|\n|0009fce56b3f5a32a...|    false|            SAO PAULO|                    SP|        ANDROID|          false|           1|              1|              45.2|\n|000ac4b0d62aaf489...|    false|            SAO PAULO|                    SP|            IOS|          false|           1|              1|             86.03|\n|000b00a8ed79b373f...|     true|         JUIZ DE FORA|                    MG|        DESKTOP|          false|           2|              2| 69.69999999999999|\n|000bcdcc4266f8340...|     true| JABOATAO DOS GUAR...|                    PE|            IOS|          false|           2|              2|             247.9|\n|000bcdcc4266f8340...|     true|               RECIFE|                    PE|            IOS|          false|           5|              5|             370.6|\n|000efeb24da772c59...|     true|          NOVA IGUACU|                    RJ|        ANDROID|          false|           1|              1|              51.8|\n+--------------------+---------+---------------------+----------------------+---------------+---------------+------------+---------------+------------------+\nonly showing top 20 rows\n\n"
     ]
    }
   ],
   "source": [
    "# Agrupando e calculando a contagem e soma\n",
    "result_df = consumers_orders.groupBy(\"customer_id\", \"is_target\", \"delivery_address_city\",\"delivery_address_state\",\"origin_platform\", \"order_scheduled\") \\\n",
    "    .agg(\n",
    "        F.count(\"order_id\").alias(\"total_orders\"),\n",
    "        F.count(\"merchant_id\").alias(\"total_merchants\"),\n",
    "        F.sum(\"order_total_amount\").alias(\"total_amount\")\n",
    "    )\n",
    "\n",
    "# Exibindo o resultado\n",
    "result_df.show(5)\n"
   ]
  },
  {
   "cell_type": "code",
   "execution_count": 0,
   "metadata": {
    "application/vnd.databricks.v1+cell": {
     "cellMetadata": {
      "byteLimit": 2048000,
      "rowLimit": 10000
     },
     "inputWidgets": {},
     "nuid": "46afaa89-f8b3-482b-ad04-0722fe3c2634",
     "showTitle": false,
     "tableResultSettingsMap": {},
     "title": ""
    }
   },
   "outputs": [
    {
     "output_type": "stream",
     "name": "stdout",
     "output_type": "stream",
     "text": [
      "Total de linhas: 879195\n"
     ]
    }
   ],
   "source": [
    "# Verificando quantidade de linhas\n",
    "filtered_df_count = result_df.count()\n",
    "print(f\"Total de linhas: {filtered_df_count}\")\n"
   ]
  },
  {
   "cell_type": "code",
   "execution_count": 0,
   "metadata": {
    "application/vnd.databricks.v1+cell": {
     "cellMetadata": {
      "byteLimit": 2048000,
      "rowLimit": 10000
     },
     "inputWidgets": {},
     "nuid": "ad65de44-078a-4da1-95ed-a389afdbf34c",
     "showTitle": false,
     "tableResultSettingsMap": {},
     "title": ""
    }
   },
   "outputs": [
    {
     "output_type": "execute_result",
     "data": {
      "text/html": [
       "<div>\n",
       "<style scoped>\n",
       "    .dataframe tbody tr th:only-of-type {\n",
       "        vertical-align: middle;\n",
       "    }\n",
       "\n",
       "    .dataframe tbody tr th {\n",
       "        vertical-align: top;\n",
       "    }\n",
       "\n",
       "    .dataframe thead th {\n",
       "        text-align: right;\n",
       "    }\n",
       "</style>\n",
       "<table border=\"1\" class=\"dataframe\">\n",
       "  <thead>\n",
       "    <tr style=\"text-align: right;\">\n",
       "      <th></th>\n",
       "      <th>customer_id</th>\n",
       "      <th>is_target</th>\n",
       "      <th>customer_name</th>\n",
       "      <th>delivery_address_city</th>\n",
       "      <th>delivery_address_state</th>\n",
       "      <th>origin_platform</th>\n",
       "      <th>order_scheduled_date</th>\n",
       "      <th>total_orders</th>\n",
       "      <th>total_merchants</th>\n",
       "      <th>total_amount</th>\n",
       "    </tr>\n",
       "  </thead>\n",
       "  <tbody>\n",
       "    <tr>\n",
       "      <th>0</th>\n",
       "      <td>00021cd56b6d6c980c3b48ca0fdf8c53cf3fea776d74ab...</td>\n",
       "      <td>True</td>\n",
       "      <td>SILVIA</td>\n",
       "      <td>CAMPINAS</td>\n",
       "      <td>SP</td>\n",
       "      <td>ANDROID</td>\n",
       "      <td>None</td>\n",
       "      <td>3</td>\n",
       "      <td>3</td>\n",
       "      <td>47.8</td>\n",
       "    </tr>\n",
       "  </tbody>\n",
       "</table>\n",
       "</div>"
      ],
      "text/plain": [
       "                                         customer_id  ...  total_amount\n",
       "0  00021cd56b6d6c980c3b48ca0fdf8c53cf3fea776d74ab...  ...          47.8\n",
       "\n",
       "[1 rows x 10 columns]"
      ]
     },
     "execution_count": 57,
     "metadata": {},
     "output_type": "execute_result"
    }
   ],
   "source": [
    "# Definindo cliente para validação\n",
    "target_customer_id = \"00021cd56b6d6c980c3b48ca0fdf8c53cf3fea776d74ab401d02b84a5bc1bbad\"\n",
    "\n",
    "filtered_df = result_df.filter(F.col(\"customer_id\") == target_customer_id)\n",
    "\n",
    "# Verificando as primeiras linhas\n",
    "filtered_df.limit(200).toPandas()"
   ]
  },
  {
   "cell_type": "code",
   "execution_count": 0,
   "metadata": {
    "application/vnd.databricks.v1+cell": {
     "cellMetadata": {
      "byteLimit": 2048000,
      "rowLimit": 10000
     },
     "inputWidgets": {},
     "nuid": "0e2a72be-186c-4158-b7e9-8b4cab8d3781",
     "showTitle": false,
     "tableResultSettingsMap": {},
     "title": ""
    }
   },
   "outputs": [
    {
     "output_type": "stream",
     "name": "stdout",
     "output_type": "stream",
     "text": [
      "+-----------+---------+---------------------+----------------------+---------------+---------------+------------+---------------+------------+\n|customer_id|is_target|delivery_address_city|delivery_address_state|origin_platform|order_scheduled|total_orders|total_merchants|total_amount|\n+-----------+---------+---------------------+----------------------+---------------+---------------+------------+---------------+------------+\n|       null|     true|                 NULL|                  NULL|           NULL|           NULL|           0|              0|        NULL|\n+-----------+---------+---------------------+----------------------+---------------+---------------+------------+---------------+------------+\n\n"
     ]
    }
   ],
   "source": [
    "# Filtrando os registros onde total_orders = 0\n",
    "df_filtered = result_df.filter(col(\"total_orders\") == 0)\n",
    "\n",
    "# Mostrando o resultado\n",
    "df_filtered.show()"
   ]
  },
  {
   "cell_type": "code",
   "execution_count": 0,
   "metadata": {
    "application/vnd.databricks.v1+cell": {
     "cellMetadata": {
      "byteLimit": 2048000,
      "rowLimit": 10000
     },
     "inputWidgets": {},
     "nuid": "6503b22a-41d9-4fde-b96d-b2a318a9cb70",
     "showTitle": false,
     "tableResultSettingsMap": {},
     "title": ""
    }
   },
   "outputs": [],
   "source": [
    "# Removendo os registros onde total_orders = 0\n",
    "result_df = result_df.filter(col(\"total_orders\") != 0)"
   ]
  },
  {
   "cell_type": "markdown",
   "metadata": {
    "application/vnd.databricks.v1+cell": {
     "cellMetadata": {},
     "inputWidgets": {},
     "nuid": "b53e47d9-7360-4c2b-9a81-1481ed0162ee",
     "showTitle": false,
     "tableResultSettingsMap": {},
     "title": ""
    }
   },
   "source": [
    "### ANÁLISE EXPLORATÓRIA"
   ]
  },
  {
   "cell_type": "markdown",
   "metadata": {
    "application/vnd.databricks.v1+cell": {
     "cellMetadata": {},
     "inputWidgets": {},
     "nuid": "4546a04b-7509-452e-b75d-49c65e40427f",
     "showTitle": false,
     "tableResultSettingsMap": {},
     "title": ""
    }
   },
   "source": [
    "#### 1. ANÁLISE DE VOLUME DE PEDIDOS\n"
   ]
  },
  {
   "cell_type": "markdown",
   "metadata": {
    "application/vnd.databricks.v1+cell": {
     "cellMetadata": {},
     "inputWidgets": {},
     "nuid": "0b2153bc-ca7c-46c3-a9f7-6b705c15576b",
     "showTitle": false,
     "tableResultSettingsMap": {},
     "title": ""
    }
   },
   "source": [
    "**Principais Observações:**\n",
    "\n",
    "- Os clientes contemplados na campanha de cupons apresentam, em média, um número maior de pedidos por cliente (2,89) em comparação com o grupo de controle (2,59).\n",
    "\n",
    "- A variabilidade dos pedidos, medida pelo desvio padrão, é um pouco maior entre os clientes contemplados (3,52) em relação ao grupo de controle (3,29).\n",
    "\n",
    "- O volume máximo de pedidos entre os clientes contemplados (157) é bastante superior ao do grupo de controle (86), apresentando uma maior dispersão. No entanto, ao analisarmos as medianas, identificamos a presença de outliers: a mediana para os clientes contemplados é de 2 pedidos, enquanto para o grupo de controle é de 1. **Concluindo que os clientes contemplados tendem a realizar mais pedidos**."
   ]
  },
  {
   "cell_type": "code",
   "execution_count": 0,
   "metadata": {
    "application/vnd.databricks.v1+cell": {
     "cellMetadata": {
      "byteLimit": 2048000,
      "rowLimit": 10000
     },
     "inputWidgets": {},
     "nuid": "8ab261fb-6434-4042-9a82-1ba09b67b954",
     "showTitle": false,
     "tableResultSettingsMap": {},
     "title": ""
    }
   },
   "outputs": [
    {
     "output_type": "stream",
     "name": "stdout",
     "output_type": "stream",
     "text": [
      "Contagem de clientes por grupo:\n+---------+------+\n|is_target| count|\n+---------+------+\n|     true|489461|\n|    false|389807|\n+---------+------+\n\n"
     ]
    }
   ],
   "source": [
    "# Mostrar algumas estatísticas básicas do conjunto de dados\n",
    "print(\"Contagem de clientes por grupo:\")\n",
    "result_df.groupBy(\"is_target\").count().show()"
   ]
  },
  {
   "cell_type": "code",
   "execution_count": 0,
   "metadata": {
    "application/vnd.databricks.v1+cell": {
     "cellMetadata": {
      "byteLimit": 2048000,
      "rowLimit": 10000
     },
     "inputWidgets": {},
     "nuid": "8b003e56-c39d-41a3-b22f-175812415387",
     "showTitle": false,
     "tableResultSettingsMap": {},
     "title": ""
    }
   },
   "outputs": [
    {
     "output_type": "stream",
     "name": "stdout",
     "output_type": "stream",
     "text": [
      "Estatísticas de volume:\n+---------+------------+-------------+------------------+---------------------+-----------+-----------+---------------+\n|is_target|num_clientes|total_pedidos|     media_pedidos|desvio_padrao_pedidos|min_pedidos|max_pedidos|mediana_pedidos|\n+---------+------------+-------------+------------------+---------------------+-----------+-----------+---------------+\n|    false|      389763|      1010738|2.5932117722821304|   3.2874292158233844|          1|         86|              1|\n|     true|      489431|      1416677|  2.89453876031555|   3.5209643016848897|          1|        157|              2|\n+---------+------------+-------------+------------------+---------------------+-----------+-----------+---------------+\n\n"
     ]
    }
   ],
   "source": [
    "# Estatísticas: target vs controle\n",
    "volume_stats = result_df.groupBy(\"is_target\").agg(\n",
    "    F.count(\"customer_id\").alias(\"num_clientes\"),\n",
    "    F.sum(\"total_orders\").alias(\"total_pedidos\"),\n",
    "    F.avg(\"total_orders\").alias(\"media_pedidos\"),\n",
    "    F.stddev(\"total_orders\").alias(\"desvio_padrao_pedidos\"),\n",
    "    F.min(\"total_orders\").alias(\"min_pedidos\"),\n",
    "    F.max(\"total_orders\").alias(\"max_pedidos\"),\n",
    "    F.expr(\"percentile_approx(total_orders, 0.5)\").alias(\"mediana_pedidos\")\n",
    ").orderBy(\"is_target\")\n",
    "\n",
    "print(\"Estatísticas de volume:\")\n",
    "volume_stats.show()"
   ]
  },
  {
   "cell_type": "code",
   "execution_count": 0,
   "metadata": {
    "application/vnd.databricks.v1+cell": {
     "cellMetadata": {
      "byteLimit": 2048000,
      "rowLimit": 10000
     },
     "inputWidgets": {},
     "nuid": "5ba789a1-51f4-4b25-9f76-d391d07ac451",
     "showTitle": false,
     "tableResultSettingsMap": {},
     "title": ""
    }
   },
   "outputs": [
    {
     "output_type": "display_data",
     "data": {
      "text/html": [
       "<html>\n",
       "<head><meta charset=\"utf-8\" /></head>\n",
       "<body>\n",
       "    <div>            <script src=\"https://cdnjs.cloudflare.com/ajax/libs/mathjax/2.7.5/MathJax.js?config=TeX-AMS-MML_SVG\"></script><script type=\"text/javascript\">if (window.MathJax && window.MathJax.Hub && window.MathJax.Hub.Config) {window.MathJax.Hub.Config({SVG: {font: \"STIX-Web\"}});}</script>                <script type=\"text/javascript\">window.PlotlyConfig = {MathJaxConfig: 'local'};</script>\n",
       "        <script src=\"https://cdn.plot.ly/plotly-2.12.1.min.js\"></script>                <div id=\"b7323fa7-6bff-47a5-8df6-4aaa4ced1c63\" class=\"plotly-graph-div\" style=\"height:100%; width:100%;\"></div>            <script type=\"text/javascript\">                                    window.PLOTLYENV=window.PLOTLYENV || {};                                    if (document.getElementById(\"b7323fa7-6bff-47a5-8df6-4aaa4ced1c63\")) {                    Plotly.newPlot(                        \"b7323fa7-6bff-47a5-8df6-4aaa4ced1c63\",                        [{\"hole\":0.0,\"labels\":[\"Controle (1010738)\",\"Contemplado (1416677)\"],\"marker\":{\"colors\":[\"#808080\",\"#FF0000\"]},\"textinfo\":\"percent+label\",\"values\":[41.63845077994492,58.361549220055075],\"type\":\"pie\"}],                        {\"template\":{\"data\":{\"histogram2dcontour\":[{\"type\":\"histogram2dcontour\",\"colorbar\":{\"outlinewidth\":0,\"ticks\":\"\"},\"colorscale\":[[0.0,\"#0d0887\"],[0.1111111111111111,\"#46039f\"],[0.2222222222222222,\"#7201a8\"],[0.3333333333333333,\"#9c179e\"],[0.4444444444444444,\"#bd3786\"],[0.5555555555555556,\"#d8576b\"],[0.6666666666666666,\"#ed7953\"],[0.7777777777777778,\"#fb9f3a\"],[0.8888888888888888,\"#fdca26\"],[1.0,\"#f0f921\"]]}],\"choropleth\":[{\"type\":\"choropleth\",\"colorbar\":{\"outlinewidth\":0,\"ticks\":\"\"}}],\"histogram2d\":[{\"type\":\"histogram2d\",\"colorbar\":{\"outlinewidth\":0,\"ticks\":\"\"},\"colorscale\":[[0.0,\"#0d0887\"],[0.1111111111111111,\"#46039f\"],[0.2222222222222222,\"#7201a8\"],[0.3333333333333333,\"#9c179e\"],[0.4444444444444444,\"#bd3786\"],[0.5555555555555556,\"#d8576b\"],[0.6666666666666666,\"#ed7953\"],[0.7777777777777778,\"#fb9f3a\"],[0.8888888888888888,\"#fdca26\"],[1.0,\"#f0f921\"]]}],\"heatmap\":[{\"type\":\"heatmap\",\"colorbar\":{\"outlinewidth\":0,\"ticks\":\"\"},\"colorscale\":[[0.0,\"#0d0887\"],[0.1111111111111111,\"#46039f\"],[0.2222222222222222,\"#7201a8\"],[0.3333333333333333,\"#9c179e\"],[0.4444444444444444,\"#bd3786\"],[0.5555555555555556,\"#d8576b\"],[0.6666666666666666,\"#ed7953\"],[0.7777777777777778,\"#fb9f3a\"],[0.8888888888888888,\"#fdca26\"],[1.0,\"#f0f921\"]]}],\"heatmapgl\":[{\"type\":\"heatmapgl\",\"colorbar\":{\"outlinewidth\":0,\"ticks\":\"\"},\"colorscale\":[[0.0,\"#0d0887\"],[0.1111111111111111,\"#46039f\"],[0.2222222222222222,\"#7201a8\"],[0.3333333333333333,\"#9c179e\"],[0.4444444444444444,\"#bd3786\"],[0.5555555555555556,\"#d8576b\"],[0.6666666666666666,\"#ed7953\"],[0.7777777777777778,\"#fb9f3a\"],[0.8888888888888888,\"#fdca26\"],[1.0,\"#f0f921\"]]}],\"contourcarpet\":[{\"type\":\"contourcarpet\",\"colorbar\":{\"outlinewidth\":0,\"ticks\":\"\"}}],\"contour\":[{\"type\":\"contour\",\"colorbar\":{\"outlinewidth\":0,\"ticks\":\"\"},\"colorscale\":[[0.0,\"#0d0887\"],[0.1111111111111111,\"#46039f\"],[0.2222222222222222,\"#7201a8\"],[0.3333333333333333,\"#9c179e\"],[0.4444444444444444,\"#bd3786\"],[0.5555555555555556,\"#d8576b\"],[0.6666666666666666,\"#ed7953\"],[0.7777777777777778,\"#fb9f3a\"],[0.8888888888888888,\"#fdca26\"],[1.0,\"#f0f921\"]]}],\"surface\":[{\"type\":\"surface\",\"colorbar\":{\"outlinewidth\":0,\"ticks\":\"\"},\"colorscale\":[[0.0,\"#0d0887\"],[0.1111111111111111,\"#46039f\"],[0.2222222222222222,\"#7201a8\"],[0.3333333333333333,\"#9c179e\"],[0.4444444444444444,\"#bd3786\"],[0.5555555555555556,\"#d8576b\"],[0.6666666666666666,\"#ed7953\"],[0.7777777777777778,\"#fb9f3a\"],[0.8888888888888888,\"#fdca26\"],[1.0,\"#f0f921\"]]}],\"mesh3d\":[{\"type\":\"mesh3d\",\"colorbar\":{\"outlinewidth\":0,\"ticks\":\"\"}}],\"scatter\":[{\"fillpattern\":{\"fillmode\":\"overlay\",\"size\":10,\"solidity\":0.2},\"type\":\"scatter\"}],\"parcoords\":[{\"type\":\"parcoords\",\"line\":{\"colorbar\":{\"outlinewidth\":0,\"ticks\":\"\"}}}],\"scatterpolargl\":[{\"type\":\"scatterpolargl\",\"marker\":{\"colorbar\":{\"outlinewidth\":0,\"ticks\":\"\"}}}],\"bar\":[{\"error_x\":{\"color\":\"#2a3f5f\"},\"error_y\":{\"color\":\"#2a3f5f\"},\"marker\":{\"line\":{\"color\":\"#E5ECF6\",\"width\":0.5},\"pattern\":{\"fillmode\":\"overlay\",\"size\":10,\"solidity\":0.2}},\"type\":\"bar\"}],\"scattergeo\":[{\"type\":\"scattergeo\",\"marker\":{\"colorbar\":{\"outlinewidth\":0,\"ticks\":\"\"}}}],\"scatterpolar\":[{\"type\":\"scatterpolar\",\"marker\":{\"colorbar\":{\"outlinewidth\":0,\"ticks\":\"\"}}}],\"histogram\":[{\"marker\":{\"pattern\":{\"fillmode\":\"overlay\",\"size\":10,\"solidity\":0.2}},\"type\":\"histogram\"}],\"scattergl\":[{\"type\":\"scattergl\",\"marker\":{\"colorbar\":{\"outlinewidth\":0,\"ticks\":\"\"}}}],\"scatter3d\":[{\"type\":\"scatter3d\",\"line\":{\"colorbar\":{\"outlinewidth\":0,\"ticks\":\"\"}},\"marker\":{\"colorbar\":{\"outlinewidth\":0,\"ticks\":\"\"}}}],\"scattermapbox\":[{\"type\":\"scattermapbox\",\"marker\":{\"colorbar\":{\"outlinewidth\":0,\"ticks\":\"\"}}}],\"scatterternary\":[{\"type\":\"scatterternary\",\"marker\":{\"colorbar\":{\"outlinewidth\":0,\"ticks\":\"\"}}}],\"scattercarpet\":[{\"type\":\"scattercarpet\",\"marker\":{\"colorbar\":{\"outlinewidth\":0,\"ticks\":\"\"}}}],\"carpet\":[{\"aaxis\":{\"endlinecolor\":\"#2a3f5f\",\"gridcolor\":\"white\",\"linecolor\":\"white\",\"minorgridcolor\":\"white\",\"startlinecolor\":\"#2a3f5f\"},\"baxis\":{\"endlinecolor\":\"#2a3f5f\",\"gridcolor\":\"white\",\"linecolor\":\"white\",\"minorgridcolor\":\"white\",\"startlinecolor\":\"#2a3f5f\"},\"type\":\"carpet\"}],\"table\":[{\"cells\":{\"fill\":{\"color\":\"#EBF0F8\"},\"line\":{\"color\":\"white\"}},\"header\":{\"fill\":{\"color\":\"#C8D4E3\"},\"line\":{\"color\":\"white\"}},\"type\":\"table\"}],\"barpolar\":[{\"marker\":{\"line\":{\"color\":\"#E5ECF6\",\"width\":0.5},\"pattern\":{\"fillmode\":\"overlay\",\"size\":10,\"solidity\":0.2}},\"type\":\"barpolar\"}],\"pie\":[{\"automargin\":true,\"type\":\"pie\"}]},\"layout\":{\"autotypenumbers\":\"strict\",\"colorway\":[\"#636efa\",\"#EF553B\",\"#00cc96\",\"#ab63fa\",\"#FFA15A\",\"#19d3f3\",\"#FF6692\",\"#B6E880\",\"#FF97FF\",\"#FECB52\"],\"font\":{\"color\":\"#2a3f5f\"},\"hovermode\":\"closest\",\"hoverlabel\":{\"align\":\"left\"},\"paper_bgcolor\":\"white\",\"plot_bgcolor\":\"#E5ECF6\",\"polar\":{\"bgcolor\":\"#E5ECF6\",\"angularaxis\":{\"gridcolor\":\"white\",\"linecolor\":\"white\",\"ticks\":\"\"},\"radialaxis\":{\"gridcolor\":\"white\",\"linecolor\":\"white\",\"ticks\":\"\"}},\"ternary\":{\"bgcolor\":\"#E5ECF6\",\"aaxis\":{\"gridcolor\":\"white\",\"linecolor\":\"white\",\"ticks\":\"\"},\"baxis\":{\"gridcolor\":\"white\",\"linecolor\":\"white\",\"ticks\":\"\"},\"caxis\":{\"gridcolor\":\"white\",\"linecolor\":\"white\",\"ticks\":\"\"}},\"coloraxis\":{\"colorbar\":{\"outlinewidth\":0,\"ticks\":\"\"}},\"colorscale\":{\"sequential\":[[0.0,\"#0d0887\"],[0.1111111111111111,\"#46039f\"],[0.2222222222222222,\"#7201a8\"],[0.3333333333333333,\"#9c179e\"],[0.4444444444444444,\"#bd3786\"],[0.5555555555555556,\"#d8576b\"],[0.6666666666666666,\"#ed7953\"],[0.7777777777777778,\"#fb9f3a\"],[0.8888888888888888,\"#fdca26\"],[1.0,\"#f0f921\"]],\"sequentialminus\":[[0.0,\"#0d0887\"],[0.1111111111111111,\"#46039f\"],[0.2222222222222222,\"#7201a8\"],[0.3333333333333333,\"#9c179e\"],[0.4444444444444444,\"#bd3786\"],[0.5555555555555556,\"#d8576b\"],[0.6666666666666666,\"#ed7953\"],[0.7777777777777778,\"#fb9f3a\"],[0.8888888888888888,\"#fdca26\"],[1.0,\"#f0f921\"]],\"diverging\":[[0,\"#8e0152\"],[0.1,\"#c51b7d\"],[0.2,\"#de77ae\"],[0.3,\"#f1b6da\"],[0.4,\"#fde0ef\"],[0.5,\"#f7f7f7\"],[0.6,\"#e6f5d0\"],[0.7,\"#b8e186\"],[0.8,\"#7fbc41\"],[0.9,\"#4d9221\"],[1,\"#276419\"]]},\"xaxis\":{\"gridcolor\":\"white\",\"linecolor\":\"white\",\"ticks\":\"\",\"title\":{\"standoff\":15},\"zerolinecolor\":\"white\",\"automargin\":true,\"zerolinewidth\":2},\"yaxis\":{\"gridcolor\":\"white\",\"linecolor\":\"white\",\"ticks\":\"\",\"title\":{\"standoff\":15},\"zerolinecolor\":\"white\",\"automargin\":true,\"zerolinewidth\":2},\"scene\":{\"xaxis\":{\"backgroundcolor\":\"#E5ECF6\",\"gridcolor\":\"white\",\"linecolor\":\"white\",\"showbackground\":true,\"ticks\":\"\",\"zerolinecolor\":\"white\",\"gridwidth\":2},\"yaxis\":{\"backgroundcolor\":\"#E5ECF6\",\"gridcolor\":\"white\",\"linecolor\":\"white\",\"showbackground\":true,\"ticks\":\"\",\"zerolinecolor\":\"white\",\"gridwidth\":2},\"zaxis\":{\"backgroundcolor\":\"#E5ECF6\",\"gridcolor\":\"white\",\"linecolor\":\"white\",\"showbackground\":true,\"ticks\":\"\",\"zerolinecolor\":\"white\",\"gridwidth\":2}},\"shapedefaults\":{\"line\":{\"color\":\"#2a3f5f\"}},\"annotationdefaults\":{\"arrowcolor\":\"#2a3f5f\",\"arrowhead\":0,\"arrowwidth\":1},\"geo\":{\"bgcolor\":\"white\",\"landcolor\":\"#E5ECF6\",\"subunitcolor\":\"white\",\"showland\":true,\"showlakes\":true,\"lakecolor\":\"white\"},\"title\":{\"x\":0.05},\"mapbox\":{\"style\":\"light\"}}},\"title\":{\"text\":\"Distribui\\u00e7\\u00e3o do Volume de Pedidos por Grupo (Contemplado vs Controle)\"},\"showlegend\":true},                        {\"responsive\": true}                    )                };                            </script>        </div>\n",
       "</body>\n",
       "</html>"
      ]
     },
     "metadata": {},
     "output_type": "display_data"
    }
   ],
   "source": [
    "import plotly.graph_objects as go\n",
    "\n",
    "# Coletando os dados do volume de pedidos por grupo (target vs controle)\n",
    "volume_stats_df = volume_stats.toPandas()\n",
    "\n",
    "# Calculando a porcentagem do volume de pedidos\n",
    "volume_stats_df[\"perc_total_pedidos\"] = (volume_stats_df[\"total_pedidos\"] / volume_stats_df[\"total_pedidos\"].sum()) * 100\n",
    "\n",
    "#Usando os dados da tabela volume_stats_df\n",
    "labels = volume_stats_df[\"is_target\"].replace({True: 'Contemplado', False: 'Controle'}).tolist()\n",
    "values = volume_stats_df[\"perc_total_pedidos\"].tolist()\n",
    "quantities = volume_stats_df[\"total_pedidos\"].tolist()\n",
    "\n",
    "# Ajustando os labels para incluir as quantidades\n",
    "labels = [f\"{label} ({quantity})\" for label, quantity in zip(labels, quantities)]\n",
    "\n",
    "# Garantindo a ordem correta das cores com códigos hexadecimais\n",
    "colors = ['#FF0000' if 'Contemplado' in label else '#808080' for label in labels]\n",
    "\n",
    "# Criando o gráfico de pizza com Plotly\n",
    "fig = go.Figure(go.Pie(\n",
    "    labels=labels,\n",
    "    values=values,\n",
    "    marker=dict(colors=colors), \n",
    "    textinfo='percent+label',\n",
    "    hole=0.0 \n",
    "))\n",
    "\n",
    "# Configurando o layout\n",
    "fig.update_layout(\n",
    "    title=\"Distribuição do Volume de Pedidos por Grupo (Contemplado vs Controle)\",\n",
    "    showlegend=True\n",
    ")\n",
    "\n",
    "fig.show()\n"
   ]
  },
  {
   "cell_type": "code",
   "execution_count": 0,
   "metadata": {
    "application/vnd.databricks.v1+cell": {
     "cellMetadata": {
      "byteLimit": 2048000,
      "rowLimit": 10000
     },
     "inputWidgets": {},
     "nuid": "2e7809dd-5014-4544-8959-9f94f64f62b4",
     "showTitle": false,
     "tableResultSettingsMap": {},
     "title": ""
    }
   },
   "outputs": [
    {
     "output_type": "stream",
     "name": "stdout",
     "output_type": "stream",
     "text": [
      "Teste t para diferença nas médias de pedidos:\nt-statistic: 41.3893, p-value: 0.0000\nConclusão: Diferença estatisticamente significativa\n"
     ]
    }
   ],
   "source": [
    "# Converter para pandas para realizar teste t\n",
    "pedidos_pandas = result_df.select(\"is_target\", \"total_orders\").toPandas()\n",
    "target_orders = pedidos_pandas[pedidos_pandas[\"is_target\"] == True][\"total_orders\"]\n",
    "non_target_orders = pedidos_pandas[pedidos_pandas[\"is_target\"] == False][\"total_orders\"]\n",
    "\n",
    "# Teste t para diferença nas médias de pedidos\n",
    "t_stat, p_value = stats.ttest_ind(target_orders, non_target_orders, equal_var=False)\n",
    "print(f\"Teste t para diferença nas médias de pedidos:\")\n",
    "print(f\"t-statistic: {t_stat:.4f}, p-value: {p_value:.4f}\")\n",
    "print(f\"Conclusão: {'Diferença estatisticamente significativa' if p_value < 0.05 else 'Diferença não significativa'}\")"
   ]
  },
  {
   "cell_type": "markdown",
   "metadata": {
    "application/vnd.databricks.v1+cell": {
     "cellMetadata": {},
     "inputWidgets": {},
     "nuid": "088b9275-145e-4e2e-9561-220ec3720f34",
     "showTitle": false,
     "tableResultSettingsMap": {},
     "title": ""
    }
   },
   "source": [
    "#### 2. ANÁLISE DO VALOR\n"
   ]
  },
  {
   "cell_type": "markdown",
   "metadata": {
    "application/vnd.databricks.v1+cell": {
     "cellMetadata": {},
     "inputWidgets": {},
     "nuid": "6dfb025e-9596-49e7-8ea5-174bd56dc97d",
     "showTitle": false,
     "tableResultSettingsMap": {},
     "title": ""
    }
   },
   "source": [
    "**Principais Observações:**\n",
    "- Clientes que receberam os cupons possuem maior valor médio por cliente (R$ 138,38) em comparação ao grupo de controle (R$ 124,25).\n",
    "\n",
    "- O Ticket Médio por Pedido é praticamente igual em ambos os grupos (R$ 47,92 vs R$ 47,81).\n",
    "\n",
    "- O desvio padrão do valor é maior no grupo de controle (R$ 297,42), indicando maior dispersão.\n",
    "\n",
    "- Embora o valor máximo dos pedidos seja superior no grupo de controle (R$ 140.338,90), trata-se de um outlier, o que reforça a importância de analisar a mediana.\n",
    "\n",
    "- A mediana do valor gasto pelos clientes contemplados é de R$ 73,50, enquanto no grupo controle é de aproximadamente R$ 63,10, sugerindo que **os clientes contemplados tendem a gastar mais.**"
   ]
  },
  {
   "cell_type": "code",
   "execution_count": 0,
   "metadata": {
    "application/vnd.databricks.v1+cell": {
     "cellMetadata": {
      "byteLimit": 2048000,
      "rowLimit": 10000
     },
     "inputWidgets": {},
     "nuid": "1fdf11d6-6963-429e-a485-d46ecb1da3bf",
     "showTitle": false,
     "tableResultSettingsMap": {},
     "title": ""
    }
   },
   "outputs": [
    {
     "output_type": "stream",
     "name": "stdout",
     "output_type": "stream",
     "text": [
      "Estatísticas de valor (com mediana):\n+---------+------------+--------------------+-----------------------+-----------------------+---------+------------------+-------------------+-------------+\n|is_target|num_clientes|         valor_total|valor_medio_por_cliente|ticket_medio_por_pedido|valor_min|         valor_max|desvio_padrao_valor|mediana_valor|\n+---------+------------+--------------------+-----------------------+-----------------------+---------+------------------+-------------------+-------------+\n|    false|      389763|4.8432203490002446E7|     124.26064939463839|      47.91766361807159|      0.0|          140338.9|  297.5308806947236|         63.1|\n|     true|      489431| 6.772998645000698E7|     138.38515837780398|      47.80905347514428|      0.0|37218.799999999996| 210.51717902972612|         73.5|\n+---------+------------+--------------------+-----------------------+-----------------------+---------+------------------+-------------------+-------------+\n\n"
     ]
    }
   ],
   "source": [
    "# Estatísticas: target vs controle\n",
    "valor_stats = result_df.groupBy(\"is_target\").agg(\n",
    "    F.count(\"customer_id\").alias(\"num_clientes\"),\n",
    "    F.sum(\"total_amount\").alias(\"valor_total\"),\n",
    "    F.avg(\"total_amount\").alias(\"valor_medio_por_cliente\"),\n",
    "    (F.sum(\"total_amount\") / F.sum(\"total_orders\")).alias(\"ticket_medio_por_pedido\"),\n",
    "    F.min(\"total_amount\").alias(\"valor_min\"),\n",
    "    F.max(\"total_amount\").alias(\"valor_max\"),\n",
    "    F.stddev(\"total_amount\").alias(\"desvio_padrao_valor\"),\n",
    "    F.expr(\"percentile_approx(total_amount, 0.5)\").alias(\"mediana_valor\")\n",
    ").orderBy(\"is_target\")\n",
    "\n",
    "print(\"Estatísticas de valor (com mediana):\")\n",
    "valor_stats.show()"
   ]
  },
  {
   "cell_type": "code",
   "execution_count": 0,
   "metadata": {
    "application/vnd.databricks.v1+cell": {
     "cellMetadata": {
      "byteLimit": 2048000,
      "rowLimit": 10000
     },
     "inputWidgets": {},
     "nuid": "c9d7fab4-d5e3-4fdf-9d2e-a411c5d7cd44",
     "showTitle": false,
     "tableResultSettingsMap": {},
     "title": ""
    }
   },
   "outputs": [
    {
     "output_type": "display_data",
     "data": {
      "text/html": [
       "<html>\n",
       "<head><meta charset=\"utf-8\" /></head>\n",
       "<body>\n",
       "    <div>            <script src=\"https://cdnjs.cloudflare.com/ajax/libs/mathjax/2.7.5/MathJax.js?config=TeX-AMS-MML_SVG\"></script><script type=\"text/javascript\">if (window.MathJax && window.MathJax.Hub && window.MathJax.Hub.Config) {window.MathJax.Hub.Config({SVG: {font: \"STIX-Web\"}});}</script>                <script type=\"text/javascript\">window.PlotlyConfig = {MathJaxConfig: 'local'};</script>\n",
       "        <script src=\"https://cdn.plot.ly/plotly-2.12.1.min.js\"></script>                <div id=\"78462327-fa7a-4d5d-a969-4be0f6cd774f\" class=\"plotly-graph-div\" style=\"height:100%; width:100%;\"></div>            <script type=\"text/javascript\">                                    window.PLOTLYENV=window.PLOTLYENV || {};                                    if (document.getElementById(\"78462327-fa7a-4d5d-a969-4be0f6cd774f\")) {                    Plotly.newPlot(                        \"78462327-fa7a-4d5d-a969-4be0f6cd774f\",                        [{\"hole\":0.0,\"labels\":[\"Controle (R$ 48,432,203.49)\",\"Contemplado (R$ 67,729,986.45)\"],\"marker\":{\"colors\":[\"#808080\",\"#FF0000\"]},\"textinfo\":\"percent+label\",\"values\":[41.69360401608706,58.30639598391294],\"type\":\"pie\"}],                        {\"template\":{\"data\":{\"histogram2dcontour\":[{\"type\":\"histogram2dcontour\",\"colorbar\":{\"outlinewidth\":0,\"ticks\":\"\"},\"colorscale\":[[0.0,\"#0d0887\"],[0.1111111111111111,\"#46039f\"],[0.2222222222222222,\"#7201a8\"],[0.3333333333333333,\"#9c179e\"],[0.4444444444444444,\"#bd3786\"],[0.5555555555555556,\"#d8576b\"],[0.6666666666666666,\"#ed7953\"],[0.7777777777777778,\"#fb9f3a\"],[0.8888888888888888,\"#fdca26\"],[1.0,\"#f0f921\"]]}],\"choropleth\":[{\"type\":\"choropleth\",\"colorbar\":{\"outlinewidth\":0,\"ticks\":\"\"}}],\"histogram2d\":[{\"type\":\"histogram2d\",\"colorbar\":{\"outlinewidth\":0,\"ticks\":\"\"},\"colorscale\":[[0.0,\"#0d0887\"],[0.1111111111111111,\"#46039f\"],[0.2222222222222222,\"#7201a8\"],[0.3333333333333333,\"#9c179e\"],[0.4444444444444444,\"#bd3786\"],[0.5555555555555556,\"#d8576b\"],[0.6666666666666666,\"#ed7953\"],[0.7777777777777778,\"#fb9f3a\"],[0.8888888888888888,\"#fdca26\"],[1.0,\"#f0f921\"]]}],\"heatmap\":[{\"type\":\"heatmap\",\"colorbar\":{\"outlinewidth\":0,\"ticks\":\"\"},\"colorscale\":[[0.0,\"#0d0887\"],[0.1111111111111111,\"#46039f\"],[0.2222222222222222,\"#7201a8\"],[0.3333333333333333,\"#9c179e\"],[0.4444444444444444,\"#bd3786\"],[0.5555555555555556,\"#d8576b\"],[0.6666666666666666,\"#ed7953\"],[0.7777777777777778,\"#fb9f3a\"],[0.8888888888888888,\"#fdca26\"],[1.0,\"#f0f921\"]]}],\"heatmapgl\":[{\"type\":\"heatmapgl\",\"colorbar\":{\"outlinewidth\":0,\"ticks\":\"\"},\"colorscale\":[[0.0,\"#0d0887\"],[0.1111111111111111,\"#46039f\"],[0.2222222222222222,\"#7201a8\"],[0.3333333333333333,\"#9c179e\"],[0.4444444444444444,\"#bd3786\"],[0.5555555555555556,\"#d8576b\"],[0.6666666666666666,\"#ed7953\"],[0.7777777777777778,\"#fb9f3a\"],[0.8888888888888888,\"#fdca26\"],[1.0,\"#f0f921\"]]}],\"contourcarpet\":[{\"type\":\"contourcarpet\",\"colorbar\":{\"outlinewidth\":0,\"ticks\":\"\"}}],\"contour\":[{\"type\":\"contour\",\"colorbar\":{\"outlinewidth\":0,\"ticks\":\"\"},\"colorscale\":[[0.0,\"#0d0887\"],[0.1111111111111111,\"#46039f\"],[0.2222222222222222,\"#7201a8\"],[0.3333333333333333,\"#9c179e\"],[0.4444444444444444,\"#bd3786\"],[0.5555555555555556,\"#d8576b\"],[0.6666666666666666,\"#ed7953\"],[0.7777777777777778,\"#fb9f3a\"],[0.8888888888888888,\"#fdca26\"],[1.0,\"#f0f921\"]]}],\"surface\":[{\"type\":\"surface\",\"colorbar\":{\"outlinewidth\":0,\"ticks\":\"\"},\"colorscale\":[[0.0,\"#0d0887\"],[0.1111111111111111,\"#46039f\"],[0.2222222222222222,\"#7201a8\"],[0.3333333333333333,\"#9c179e\"],[0.4444444444444444,\"#bd3786\"],[0.5555555555555556,\"#d8576b\"],[0.6666666666666666,\"#ed7953\"],[0.7777777777777778,\"#fb9f3a\"],[0.8888888888888888,\"#fdca26\"],[1.0,\"#f0f921\"]]}],\"mesh3d\":[{\"type\":\"mesh3d\",\"colorbar\":{\"outlinewidth\":0,\"ticks\":\"\"}}],\"scatter\":[{\"fillpattern\":{\"fillmode\":\"overlay\",\"size\":10,\"solidity\":0.2},\"type\":\"scatter\"}],\"parcoords\":[{\"type\":\"parcoords\",\"line\":{\"colorbar\":{\"outlinewidth\":0,\"ticks\":\"\"}}}],\"scatterpolargl\":[{\"type\":\"scatterpolargl\",\"marker\":{\"colorbar\":{\"outlinewidth\":0,\"ticks\":\"\"}}}],\"bar\":[{\"error_x\":{\"color\":\"#2a3f5f\"},\"error_y\":{\"color\":\"#2a3f5f\"},\"marker\":{\"line\":{\"color\":\"#E5ECF6\",\"width\":0.5},\"pattern\":{\"fillmode\":\"overlay\",\"size\":10,\"solidity\":0.2}},\"type\":\"bar\"}],\"scattergeo\":[{\"type\":\"scattergeo\",\"marker\":{\"colorbar\":{\"outlinewidth\":0,\"ticks\":\"\"}}}],\"scatterpolar\":[{\"type\":\"scatterpolar\",\"marker\":{\"colorbar\":{\"outlinewidth\":0,\"ticks\":\"\"}}}],\"histogram\":[{\"marker\":{\"pattern\":{\"fillmode\":\"overlay\",\"size\":10,\"solidity\":0.2}},\"type\":\"histogram\"}],\"scattergl\":[{\"type\":\"scattergl\",\"marker\":{\"colorbar\":{\"outlinewidth\":0,\"ticks\":\"\"}}}],\"scatter3d\":[{\"type\":\"scatter3d\",\"line\":{\"colorbar\":{\"outlinewidth\":0,\"ticks\":\"\"}},\"marker\":{\"colorbar\":{\"outlinewidth\":0,\"ticks\":\"\"}}}],\"scattermapbox\":[{\"type\":\"scattermapbox\",\"marker\":{\"colorbar\":{\"outlinewidth\":0,\"ticks\":\"\"}}}],\"scatterternary\":[{\"type\":\"scatterternary\",\"marker\":{\"colorbar\":{\"outlinewidth\":0,\"ticks\":\"\"}}}],\"scattercarpet\":[{\"type\":\"scattercarpet\",\"marker\":{\"colorbar\":{\"outlinewidth\":0,\"ticks\":\"\"}}}],\"carpet\":[{\"aaxis\":{\"endlinecolor\":\"#2a3f5f\",\"gridcolor\":\"white\",\"linecolor\":\"white\",\"minorgridcolor\":\"white\",\"startlinecolor\":\"#2a3f5f\"},\"baxis\":{\"endlinecolor\":\"#2a3f5f\",\"gridcolor\":\"white\",\"linecolor\":\"white\",\"minorgridcolor\":\"white\",\"startlinecolor\":\"#2a3f5f\"},\"type\":\"carpet\"}],\"table\":[{\"cells\":{\"fill\":{\"color\":\"#EBF0F8\"},\"line\":{\"color\":\"white\"}},\"header\":{\"fill\":{\"color\":\"#C8D4E3\"},\"line\":{\"color\":\"white\"}},\"type\":\"table\"}],\"barpolar\":[{\"marker\":{\"line\":{\"color\":\"#E5ECF6\",\"width\":0.5},\"pattern\":{\"fillmode\":\"overlay\",\"size\":10,\"solidity\":0.2}},\"type\":\"barpolar\"}],\"pie\":[{\"automargin\":true,\"type\":\"pie\"}]},\"layout\":{\"autotypenumbers\":\"strict\",\"colorway\":[\"#636efa\",\"#EF553B\",\"#00cc96\",\"#ab63fa\",\"#FFA15A\",\"#19d3f3\",\"#FF6692\",\"#B6E880\",\"#FF97FF\",\"#FECB52\"],\"font\":{\"color\":\"#2a3f5f\"},\"hovermode\":\"closest\",\"hoverlabel\":{\"align\":\"left\"},\"paper_bgcolor\":\"white\",\"plot_bgcolor\":\"#E5ECF6\",\"polar\":{\"bgcolor\":\"#E5ECF6\",\"angularaxis\":{\"gridcolor\":\"white\",\"linecolor\":\"white\",\"ticks\":\"\"},\"radialaxis\":{\"gridcolor\":\"white\",\"linecolor\":\"white\",\"ticks\":\"\"}},\"ternary\":{\"bgcolor\":\"#E5ECF6\",\"aaxis\":{\"gridcolor\":\"white\",\"linecolor\":\"white\",\"ticks\":\"\"},\"baxis\":{\"gridcolor\":\"white\",\"linecolor\":\"white\",\"ticks\":\"\"},\"caxis\":{\"gridcolor\":\"white\",\"linecolor\":\"white\",\"ticks\":\"\"}},\"coloraxis\":{\"colorbar\":{\"outlinewidth\":0,\"ticks\":\"\"}},\"colorscale\":{\"sequential\":[[0.0,\"#0d0887\"],[0.1111111111111111,\"#46039f\"],[0.2222222222222222,\"#7201a8\"],[0.3333333333333333,\"#9c179e\"],[0.4444444444444444,\"#bd3786\"],[0.5555555555555556,\"#d8576b\"],[0.6666666666666666,\"#ed7953\"],[0.7777777777777778,\"#fb9f3a\"],[0.8888888888888888,\"#fdca26\"],[1.0,\"#f0f921\"]],\"sequentialminus\":[[0.0,\"#0d0887\"],[0.1111111111111111,\"#46039f\"],[0.2222222222222222,\"#7201a8\"],[0.3333333333333333,\"#9c179e\"],[0.4444444444444444,\"#bd3786\"],[0.5555555555555556,\"#d8576b\"],[0.6666666666666666,\"#ed7953\"],[0.7777777777777778,\"#fb9f3a\"],[0.8888888888888888,\"#fdca26\"],[1.0,\"#f0f921\"]],\"diverging\":[[0,\"#8e0152\"],[0.1,\"#c51b7d\"],[0.2,\"#de77ae\"],[0.3,\"#f1b6da\"],[0.4,\"#fde0ef\"],[0.5,\"#f7f7f7\"],[0.6,\"#e6f5d0\"],[0.7,\"#b8e186\"],[0.8,\"#7fbc41\"],[0.9,\"#4d9221\"],[1,\"#276419\"]]},\"xaxis\":{\"gridcolor\":\"white\",\"linecolor\":\"white\",\"ticks\":\"\",\"title\":{\"standoff\":15},\"zerolinecolor\":\"white\",\"automargin\":true,\"zerolinewidth\":2},\"yaxis\":{\"gridcolor\":\"white\",\"linecolor\":\"white\",\"ticks\":\"\",\"title\":{\"standoff\":15},\"zerolinecolor\":\"white\",\"automargin\":true,\"zerolinewidth\":2},\"scene\":{\"xaxis\":{\"backgroundcolor\":\"#E5ECF6\",\"gridcolor\":\"white\",\"linecolor\":\"white\",\"showbackground\":true,\"ticks\":\"\",\"zerolinecolor\":\"white\",\"gridwidth\":2},\"yaxis\":{\"backgroundcolor\":\"#E5ECF6\",\"gridcolor\":\"white\",\"linecolor\":\"white\",\"showbackground\":true,\"ticks\":\"\",\"zerolinecolor\":\"white\",\"gridwidth\":2},\"zaxis\":{\"backgroundcolor\":\"#E5ECF6\",\"gridcolor\":\"white\",\"linecolor\":\"white\",\"showbackground\":true,\"ticks\":\"\",\"zerolinecolor\":\"white\",\"gridwidth\":2}},\"shapedefaults\":{\"line\":{\"color\":\"#2a3f5f\"}},\"annotationdefaults\":{\"arrowcolor\":\"#2a3f5f\",\"arrowhead\":0,\"arrowwidth\":1},\"geo\":{\"bgcolor\":\"white\",\"landcolor\":\"#E5ECF6\",\"subunitcolor\":\"white\",\"showland\":true,\"showlakes\":true,\"lakecolor\":\"white\"},\"title\":{\"x\":0.05},\"mapbox\":{\"style\":\"light\"}}},\"title\":{\"text\":\"Distribui\\u00e7\\u00e3o do Valor Total por Grupo (Contemplado vs Controle)\"},\"showlegend\":true},                        {\"responsive\": true}                    )                };                            </script>        </div>\n",
       "</body>\n",
       "</html>"
      ]
     },
     "metadata": {},
     "output_type": "display_data"
    }
   ],
   "source": [
    "import plotly.graph_objects as go\n",
    "import pandas as pd\n",
    "\n",
    "# Coletando os dados do volume de pedidos por grupo (target vs controle)\n",
    "valor_stats_df = valor_stats.toPandas()\n",
    "\n",
    "# Calculando a porcentagem do valor total\n",
    "valor_stats_df[\"perc_total_valor\"] = (valor_stats_df[\"valor_total\"] / valor_stats_df[\"valor_total\"].sum()) * 100\n",
    "\n",
    "# Usando os dados da tabela valor_stats_df\n",
    "labels = valor_stats_df[\"is_target\"].replace({True: 'Contemplado', False: 'Controle'}).tolist()\n",
    "values = valor_stats_df[\"perc_total_valor\"].tolist()\n",
    "quantities = valor_stats_df[\"valor_total\"].tolist()\n",
    "\n",
    "# Ajustando os labels para incluir os valores totais\n",
    "labels = [f\"{label} (R$ {quantity:,.2f})\" for label, quantity in zip(labels, quantities)]\n",
    "\n",
    "# Garantindo a ordem correta das cores\n",
    "colors = ['#FF0000' if 'Contemplado' in label else '#808080' for label in labels]\n",
    "\n",
    "# Criando o gráfico de pizza com Plotly\n",
    "fig = go.Figure(go.Pie(\n",
    "    labels=labels,\n",
    "    values=values,\n",
    "    marker=dict(colors=colors), \n",
    "    textinfo='percent+label',\n",
    "    hole=0.0\n",
    "))\n",
    "\n",
    "# Configurando o layout\n",
    "fig.update_layout(\n",
    "    title=\"Distribuição do Valor Total por Grupo (Contemplado vs Controle)\",\n",
    "    showlegend=True\n",
    ")\n",
    "\n",
    "fig.show()"
   ]
  },
  {
   "cell_type": "code",
   "execution_count": 0,
   "metadata": {
    "application/vnd.databricks.v1+cell": {
     "cellMetadata": {
      "byteLimit": 2048000,
      "rowLimit": 10000
     },
     "inputWidgets": {},
     "nuid": "a6aa4e4c-11cc-4845-95c3-99d8c477c275",
     "showTitle": false,
     "tableResultSettingsMap": {},
     "title": ""
    }
   },
   "outputs": [
    {
     "output_type": "stream",
     "name": "stdout",
     "output_type": "stream",
     "text": [
      "Teste t para diferença nas médias de valor:\nt-statistic: 25.0785, p-value: 0.0000\nConclusão: Diferença estatisticamente significativa\n"
     ]
    }
   ],
   "source": [
    "# Teste t para diferença nas médias de valor\n",
    "valor_pandas = result_df.select(\"is_target\", \"total_amount\").toPandas()\n",
    "target_amount = valor_pandas[valor_pandas[\"is_target\"] == True][\"total_amount\"]\n",
    "non_target_amount = valor_pandas[valor_pandas[\"is_target\"] == False][\"total_amount\"]\n",
    "\n",
    "t_stat_valor, p_value_valor = stats.ttest_ind(target_amount, non_target_amount, equal_var=False)\n",
    "print(f\"Teste t para diferença nas médias de valor:\")\n",
    "print(f\"t-statistic: {t_stat_valor:.4f}, p-value: {p_value_valor:.4f}\")\n",
    "print(f\"Conclusão: {'Diferença estatisticamente significativa' if p_value_valor < 0.05 else 'Diferença não significativa'}\")"
   ]
  },
  {
   "cell_type": "markdown",
   "metadata": {
    "application/vnd.databricks.v1+cell": {
     "cellMetadata": {},
     "inputWidgets": {},
     "nuid": "61446d75-1561-4035-84e8-cd12a4882ff2",
     "showTitle": false,
     "tableResultSettingsMap": {},
     "title": ""
    }
   },
   "source": [
    "#### 3. ANÁLISE DE MERCHANTS\n"
   ]
  },
  {
   "cell_type": "markdown",
   "metadata": {
    "application/vnd.databricks.v1+cell": {
     "cellMetadata": {},
     "inputWidgets": {},
     "nuid": "9a772274-30e4-42ff-a135-e05be9e2121f",
     "showTitle": false,
     "tableResultSettingsMap": {},
     "title": ""
    }
   },
   "source": [
    "**Principais Observações:**\n",
    "\n",
    "- Clientes que receberam os cupons possuem maior diversidade de merchants por cliente (2,89) em comparação aos do grupo de controle (2,59).\n",
    "\n",
    "- O desvio padrão é maior para os clientes que foram contemplados pelos cupons (3,52), indicando maior variação na quantidade de merchants visitados.\n",
    "\n",
    "- O máximo de merchants visitados por um único cliente é maior entre os clientes que receberam os cupons (157), enquanto o máximo entre o grupo de controle é 86."
   ]
  },
  {
   "cell_type": "code",
   "execution_count": 0,
   "metadata": {
    "application/vnd.databricks.v1+cell": {
     "cellMetadata": {
      "byteLimit": 2048000,
      "rowLimit": 10000
     },
     "inputWidgets": {},
     "nuid": "60ca602b-c515-4001-816b-3d910953e5f2",
     "showTitle": false,
     "tableResultSettingsMap": {},
     "title": ""
    }
   },
   "outputs": [
    {
     "output_type": "display_data",
     "data": {
      "text/plain": [
       "com.databricks.backend.common.rpc.CommandCancelledException\n",
       "\tat com.databricks.spark.chauffeur.ExecContextState.cancel(ExecContextState.scala:445)\n",
       "\tat com.databricks.spark.chauffeur.ExecutionContextManagerV1.cancelExecution(ExecutionContextManagerV1.scala:464)\n",
       "\tat com.databricks.spark.chauffeur.ChauffeurState.$anonfun$process$1(ChauffeurState.scala:571)\n",
       "\tat com.databricks.logging.UsageLogging.$anonfun$recordOperation$1(UsageLogging.scala:528)\n",
       "\tat com.databricks.logging.UsageLogging.executeThunkAndCaptureResultTags$1(UsageLogging.scala:633)\n",
       "\tat com.databricks.logging.UsageLogging.$anonfun$recordOperationWithResultTags$4(UsageLogging.scala:656)\n",
       "\tat com.databricks.logging.AttributionContextTracing.$anonfun$withAttributionContext$1(AttributionContextTracing.scala:48)\n",
       "\tat com.databricks.logging.AttributionContext$.$anonfun$withValue$1(AttributionContext.scala:276)\n",
       "\tat scala.util.DynamicVariable.withValue(DynamicVariable.scala:62)\n",
       "\tat com.databricks.logging.AttributionContext$.withValue(AttributionContext.scala:272)\n",
       "\tat com.databricks.logging.AttributionContextTracing.withAttributionContext(AttributionContextTracing.scala:46)\n",
       "\tat com.databricks.logging.AttributionContextTracing.withAttributionContext$(AttributionContextTracing.scala:43)\n",
       "\tat com.databricks.spark.chauffeur.ChauffeurState.withAttributionContext(ChauffeurState.scala:51)\n",
       "\tat com.databricks.logging.AttributionContextTracing.withAttributionTags(AttributionContextTracing.scala:95)\n",
       "\tat com.databricks.logging.AttributionContextTracing.withAttributionTags$(AttributionContextTracing.scala:76)\n",
       "\tat com.databricks.spark.chauffeur.ChauffeurState.withAttributionTags(ChauffeurState.scala:51)\n",
       "\tat com.databricks.logging.UsageLogging.recordOperationWithResultTags(UsageLogging.scala:628)\n",
       "\tat com.databricks.logging.UsageLogging.recordOperationWithResultTags$(UsageLogging.scala:537)\n",
       "\tat com.databricks.spark.chauffeur.ChauffeurState.recordOperationWithResultTags(ChauffeurState.scala:51)\n",
       "\tat com.databricks.logging.UsageLogging.recordOperation(UsageLogging.scala:529)\n",
       "\tat com.databricks.logging.UsageLogging.recordOperation$(UsageLogging.scala:495)\n",
       "\tat com.databricks.spark.chauffeur.ChauffeurState.recordOperation(ChauffeurState.scala:51)\n",
       "\tat com.databricks.spark.chauffeur.ChauffeurState.process(ChauffeurState.scala:553)\n",
       "\tat com.databricks.spark.chauffeur.Chauffeur$$anon$1$$anonfun$receive$1.handleDriverRequest$1(Chauffeur.scala:846)\n",
       "\tat com.databricks.spark.chauffeur.Chauffeur$$anon$1$$anonfun$receive$1.handleDriverRequestWithUsageLogging$1(Chauffeur.scala:862)\n",
       "\tat com.databricks.spark.chauffeur.Chauffeur$$anon$1$$anonfun$receive$1.applyOrElse(Chauffeur.scala:926)\n",
       "\tat com.databricks.spark.chauffeur.Chauffeur$$anon$1$$anonfun$receive$1.applyOrElse(Chauffeur.scala:719)\n",
       "\tat com.databricks.rpc.ServerBackend.$anonfun$internalReceive0$2(ServerBackend.scala:174)\n",
       "\tat com.databricks.rpc.ServerBackend$$anonfun$commonReceive$1.applyOrElse(ServerBackend.scala:200)\n",
       "\tat com.databricks.rpc.ServerBackend$$anonfun$commonReceive$1.applyOrElse(ServerBackend.scala:200)\n",
       "\tat com.databricks.rpc.ServerBackend.internalReceive0(ServerBackend.scala:171)\n",
       "\tat com.databricks.rpc.ServerBackend.$anonfun$internalReceive$1(ServerBackend.scala:147)\n",
       "\tat com.databricks.logging.UsageLogging.$anonfun$recordOperation$1(UsageLogging.scala:528)\n",
       "\tat com.databricks.logging.UsageLogging.executeThunkAndCaptureResultTags$1(UsageLogging.scala:633)\n",
       "\tat com.databricks.logging.UsageLogging.$anonfun$recordOperationWithResultTags$4(UsageLogging.scala:656)\n",
       "\tat com.databricks.logging.AttributionContextTracing.$anonfun$withAttributionContext$1(AttributionContextTracing.scala:48)\n",
       "\tat com.databricks.logging.AttributionContext$.$anonfun$withValue$1(AttributionContext.scala:276)\n",
       "\tat scala.util.DynamicVariable.withValue(DynamicVariable.scala:62)\n",
       "\tat com.databricks.logging.AttributionContext$.withValue(AttributionContext.scala:272)\n",
       "\tat com.databricks.logging.AttributionContextTracing.withAttributionContext(AttributionContextTracing.scala:46)\n",
       "\tat com.databricks.logging.AttributionContextTracing.withAttributionContext$(AttributionContextTracing.scala:43)\n",
       "\tat com.databricks.rpc.ServerBackend.withAttributionContext(ServerBackend.scala:22)\n",
       "\tat com.databricks.logging.AttributionContextTracing.withAttributionTags(AttributionContextTracing.scala:95)\n",
       "\tat com.databricks.logging.AttributionContextTracing.withAttributionTags$(AttributionContextTracing.scala:76)\n",
       "\tat com.databricks.rpc.ServerBackend.withAttributionTags(ServerBackend.scala:22)\n",
       "\tat com.databricks.logging.UsageLogging.recordOperationWithResultTags(UsageLogging.scala:628)\n",
       "\tat com.databricks.logging.UsageLogging.recordOperationWithResultTags$(UsageLogging.scala:537)\n",
       "\tat com.databricks.rpc.ServerBackend.recordOperationWithResultTags(ServerBackend.scala:22)\n",
       "\tat com.databricks.logging.UsageLogging.recordOperation(UsageLogging.scala:529)\n",
       "\tat com.databricks.logging.UsageLogging.recordOperation$(UsageLogging.scala:495)\n",
       "\tat com.databricks.rpc.ServerBackend.recordOperation(ServerBackend.scala:22)\n",
       "\tat com.databricks.rpc.ServerBackend.internalReceive(ServerBackend.scala:146)\n",
       "\tat com.databricks.rpc.JettyServer$RequestManager.handleRPC(JettyServer.scala:1021)\n",
       "\tat com.databricks.rpc.JettyServer$RequestManager.handleRequestAndRespond(JettyServer.scala:942)\n",
       "\tat com.databricks.rpc.JettyServer$RequestManager.$anonfun$handleHttp$6(JettyServer.scala:546)\n",
       "\tat com.databricks.rpc.JettyServer$RequestManager.$anonfun$handleHttp$6$adapted(JettyServer.scala:515)\n",
       "\tat com.databricks.logging.activity.ActivityContextFactory$.$anonfun$withActivityInternal$6(ActivityContextFactory.scala:545)\n",
       "\tat com.databricks.logging.AttributionContextTracing.$anonfun$withAttributionContext$1(AttributionContextTracing.scala:48)\n",
       "\tat com.databricks.logging.AttributionContext$.$anonfun$withValue$1(AttributionContext.scala:276)\n",
       "\tat scala.util.DynamicVariable.withValue(DynamicVariable.scala:62)\n",
       "\tat com.databricks.logging.AttributionContext$.withValue(AttributionContext.scala:272)\n",
       "\tat com.databricks.logging.AttributionContextTracing.withAttributionContext(AttributionContextTracing.scala:46)\n",
       "\tat com.databricks.logging.AttributionContextTracing.withAttributionContext$(AttributionContextTracing.scala:43)\n",
       "\tat com.databricks.logging.activity.ActivityContextFactory$.withAttributionContext(ActivityContextFactory.scala:48)\n",
       "\tat com.databricks.logging.activity.ActivityContextFactory$.$anonfun$withActivityInternal$3(ActivityContextFactory.scala:545)\n",
       "\tat com.databricks.context.integrity.IntegrityCheckContext$ThreadLocalStorage$.withValue(IntegrityCheckContext.scala:73)\n",
       "\tat com.databricks.logging.activity.ActivityContextFactory$.withActivityInternal(ActivityContextFactory.scala:523)\n",
       "\tat com.databricks.logging.activity.ActivityContextFactory$.withServiceRequestActivity(ActivityContextFactory.scala:175)\n",
       "\tat com.databricks.rpc.JettyServer$RequestManager.handleHttp(JettyServer.scala:515)\n",
       "\tat com.databricks.rpc.JettyServer$RequestManager.doPost(JettyServer.scala:405)\n",
       "\tat javax.servlet.http.HttpServlet.service(HttpServlet.java:665)\n",
       "\tat com.databricks.rpc.HttpServletWithPatch.service(HttpServletWithPatch.scala:33)\n",
       "\tat javax.servlet.http.HttpServlet.service(HttpServlet.java:750)\n",
       "\tat org.eclipse.jetty.servlet.ServletHolder.handle(ServletHolder.java:799)\n",
       "\tat org.eclipse.jetty.servlet.ServletHandler.doHandle(ServletHandler.java:554)\n",
       "\tat org.eclipse.jetty.server.handler.ScopedHandler.nextScope(ScopedHandler.java:190)\n",
       "\tat org.eclipse.jetty.servlet.ServletHandler.doScope(ServletHandler.java:505)\n",
       "\tat org.eclipse.jetty.server.handler.ScopedHandler.handle(ScopedHandler.java:141)\n",
       "\tat org.eclipse.jetty.server.handler.HandlerWrapper.handle(HandlerWrapper.java:127)\n",
       "\tat org.eclipse.jetty.server.Server.handle(Server.java:516)\n",
       "\tat org.eclipse.jetty.server.HttpChannel.lambda$handle$1(HttpChannel.java:487)\n",
       "\tat org.eclipse.jetty.server.HttpChannel.dispatch(HttpChannel.java:732)\n",
       "\tat org.eclipse.jetty.server.HttpChannel.handle(HttpChannel.java:479)\n",
       "\tat org.eclipse.jetty.server.HttpConnection.onFillable(HttpConnection.java:277)\n",
       "\tat org.eclipse.jetty.io.AbstractConnection$ReadCallback.succeeded(AbstractConnection.java:311)\n",
       "\tat org.eclipse.jetty.io.FillInterest.fillable(FillInterest.java:105)\n",
       "\tat org.eclipse.jetty.io.ssl.SslConnection$DecryptedEndPoint.onFillable(SslConnection.java:555)\n",
       "\tat org.eclipse.jetty.io.ssl.SslConnection.onFillable(SslConnection.java:410)\n",
       "\tat org.eclipse.jetty.io.ssl.SslConnection$2.succeeded(SslConnection.java:164)\n",
       "\tat org.eclipse.jetty.io.FillInterest.fillable(FillInterest.java:105)\n",
       "\tat org.eclipse.jetty.io.ChannelEndPoint$1.run(ChannelEndPoint.java:104)\n",
       "\tat org.eclipse.jetty.util.thread.strategy.EatWhatYouKill.runTask(EatWhatYouKill.java:338)\n",
       "\tat org.eclipse.jetty.util.thread.strategy.EatWhatYouKill.doProduce(EatWhatYouKill.java:315)\n",
       "\tat org.eclipse.jetty.util.thread.strategy.EatWhatYouKill.tryProduce(EatWhatYouKill.java:173)\n",
       "\tat org.eclipse.jetty.util.thread.strategy.EatWhatYouKill.run(EatWhatYouKill.java:131)\n",
       "\tat org.eclipse.jetty.util.thread.ReservedThreadExecutor$ReservedThread.run(ReservedThreadExecutor.java:409)\n",
       "\tat com.databricks.rpc.InstrumentedQueuedThreadPool$$anon$1.$anonfun$run$2(InstrumentedQueuedThreadPool.scala:105)\n",
       "\tat scala.runtime.java8.JFunction0$mcV$sp.apply(JFunction0$mcV$sp.java:23)\n",
       "\tat com.databricks.logging.AttributionContextTracing.$anonfun$withAttributionContext$1(AttributionContextTracing.scala:48)\n",
       "\tat com.databricks.logging.AttributionContext$.$anonfun$withValue$1(AttributionContext.scala:276)\n",
       "\tat scala.util.DynamicVariable.withValue(DynamicVariable.scala:62)\n",
       "\tat com.databricks.logging.AttributionContext$.withValue(AttributionContext.scala:272)\n",
       "\tat com.databricks.logging.AttributionContextTracing.withAttributionContext(AttributionContextTracing.scala:46)\n",
       "\tat com.databricks.logging.AttributionContextTracing.withAttributionContext$(AttributionContextTracing.scala:43)\n",
       "\tat com.databricks.rpc.InstrumentedQueuedThreadPool.withAttributionContext(InstrumentedQueuedThreadPool.scala:45)\n",
       "\tat com.databricks.rpc.InstrumentedQueuedThreadPool$$anon$1.$anonfun$run$1(InstrumentedQueuedThreadPool.scala:105)\n",
       "\tat scala.runtime.java8.JFunction0$mcV$sp.apply(JFunction0$mcV$sp.java:23)\n",
       "\tat com.databricks.instrumentation.QueuedThreadPoolInstrumenter.trackActiveThreads(QueuedThreadPoolInstrumenter.scala:110)\n",
       "\tat com.databricks.instrumentation.QueuedThreadPoolInstrumenter.trackActiveThreads$(QueuedThreadPoolInstrumenter.scala:107)\n",
       "\tat com.databricks.rpc.InstrumentedQueuedThreadPool.trackActiveThreads(InstrumentedQueuedThreadPool.scala:45)\n",
       "\tat com.databricks.rpc.InstrumentedQueuedThreadPool$$anon$1.run(InstrumentedQueuedThreadPool.scala:87)\n",
       "\tat org.eclipse.jetty.util.thread.QueuedThreadPool.runJob(QueuedThreadPool.java:883)\n",
       "\tat org.eclipse.jetty.util.thread.QueuedThreadPool$Runner.run(QueuedThreadPool.java:1034)\n",
       "\tat java.lang.Thread.run(Thread.java:750)"
      ]
     },
     "metadata": {
      "application/vnd.databricks.v1+output": {
       "addedWidgets": {},
       "arguments": {},
       "datasetInfos": [],
       "jupyterProps": null,
       "metadata": {
        "errorSummary": "Cancelled"
       },
       "removedWidgets": [],
       "sqlProps": null,
       "stackFrames": [
        "com.databricks.backend.common.rpc.CommandCancelledException",
        "\tat com.databricks.spark.chauffeur.ExecContextState.cancel(ExecContextState.scala:445)",
        "\tat com.databricks.spark.chauffeur.ExecutionContextManagerV1.cancelExecution(ExecutionContextManagerV1.scala:464)",
        "\tat com.databricks.spark.chauffeur.ChauffeurState.$anonfun$process$1(ChauffeurState.scala:571)",
        "\tat com.databricks.logging.UsageLogging.$anonfun$recordOperation$1(UsageLogging.scala:528)",
        "\tat com.databricks.logging.UsageLogging.executeThunkAndCaptureResultTags$1(UsageLogging.scala:633)",
        "\tat com.databricks.logging.UsageLogging.$anonfun$recordOperationWithResultTags$4(UsageLogging.scala:656)",
        "\tat com.databricks.logging.AttributionContextTracing.$anonfun$withAttributionContext$1(AttributionContextTracing.scala:48)",
        "\tat com.databricks.logging.AttributionContext$.$anonfun$withValue$1(AttributionContext.scala:276)",
        "\tat scala.util.DynamicVariable.withValue(DynamicVariable.scala:62)",
        "\tat com.databricks.logging.AttributionContext$.withValue(AttributionContext.scala:272)",
        "\tat com.databricks.logging.AttributionContextTracing.withAttributionContext(AttributionContextTracing.scala:46)",
        "\tat com.databricks.logging.AttributionContextTracing.withAttributionContext$(AttributionContextTracing.scala:43)",
        "\tat com.databricks.spark.chauffeur.ChauffeurState.withAttributionContext(ChauffeurState.scala:51)",
        "\tat com.databricks.logging.AttributionContextTracing.withAttributionTags(AttributionContextTracing.scala:95)",
        "\tat com.databricks.logging.AttributionContextTracing.withAttributionTags$(AttributionContextTracing.scala:76)",
        "\tat com.databricks.spark.chauffeur.ChauffeurState.withAttributionTags(ChauffeurState.scala:51)",
        "\tat com.databricks.logging.UsageLogging.recordOperationWithResultTags(UsageLogging.scala:628)",
        "\tat com.databricks.logging.UsageLogging.recordOperationWithResultTags$(UsageLogging.scala:537)",
        "\tat com.databricks.spark.chauffeur.ChauffeurState.recordOperationWithResultTags(ChauffeurState.scala:51)",
        "\tat com.databricks.logging.UsageLogging.recordOperation(UsageLogging.scala:529)",
        "\tat com.databricks.logging.UsageLogging.recordOperation$(UsageLogging.scala:495)",
        "\tat com.databricks.spark.chauffeur.ChauffeurState.recordOperation(ChauffeurState.scala:51)",
        "\tat com.databricks.spark.chauffeur.ChauffeurState.process(ChauffeurState.scala:553)",
        "\tat com.databricks.spark.chauffeur.Chauffeur$$anon$1$$anonfun$receive$1.handleDriverRequest$1(Chauffeur.scala:846)",
        "\tat com.databricks.spark.chauffeur.Chauffeur$$anon$1$$anonfun$receive$1.handleDriverRequestWithUsageLogging$1(Chauffeur.scala:862)",
        "\tat com.databricks.spark.chauffeur.Chauffeur$$anon$1$$anonfun$receive$1.applyOrElse(Chauffeur.scala:926)",
        "\tat com.databricks.spark.chauffeur.Chauffeur$$anon$1$$anonfun$receive$1.applyOrElse(Chauffeur.scala:719)",
        "\tat com.databricks.rpc.ServerBackend.$anonfun$internalReceive0$2(ServerBackend.scala:174)",
        "\tat com.databricks.rpc.ServerBackend$$anonfun$commonReceive$1.applyOrElse(ServerBackend.scala:200)",
        "\tat com.databricks.rpc.ServerBackend$$anonfun$commonReceive$1.applyOrElse(ServerBackend.scala:200)",
        "\tat com.databricks.rpc.ServerBackend.internalReceive0(ServerBackend.scala:171)",
        "\tat com.databricks.rpc.ServerBackend.$anonfun$internalReceive$1(ServerBackend.scala:147)",
        "\tat com.databricks.logging.UsageLogging.$anonfun$recordOperation$1(UsageLogging.scala:528)",
        "\tat com.databricks.logging.UsageLogging.executeThunkAndCaptureResultTags$1(UsageLogging.scala:633)",
        "\tat com.databricks.logging.UsageLogging.$anonfun$recordOperationWithResultTags$4(UsageLogging.scala:656)",
        "\tat com.databricks.logging.AttributionContextTracing.$anonfun$withAttributionContext$1(AttributionContextTracing.scala:48)",
        "\tat com.databricks.logging.AttributionContext$.$anonfun$withValue$1(AttributionContext.scala:276)",
        "\tat scala.util.DynamicVariable.withValue(DynamicVariable.scala:62)",
        "\tat com.databricks.logging.AttributionContext$.withValue(AttributionContext.scala:272)",
        "\tat com.databricks.logging.AttributionContextTracing.withAttributionContext(AttributionContextTracing.scala:46)",
        "\tat com.databricks.logging.AttributionContextTracing.withAttributionContext$(AttributionContextTracing.scala:43)",
        "\tat com.databricks.rpc.ServerBackend.withAttributionContext(ServerBackend.scala:22)",
        "\tat com.databricks.logging.AttributionContextTracing.withAttributionTags(AttributionContextTracing.scala:95)",
        "\tat com.databricks.logging.AttributionContextTracing.withAttributionTags$(AttributionContextTracing.scala:76)",
        "\tat com.databricks.rpc.ServerBackend.withAttributionTags(ServerBackend.scala:22)",
        "\tat com.databricks.logging.UsageLogging.recordOperationWithResultTags(UsageLogging.scala:628)",
        "\tat com.databricks.logging.UsageLogging.recordOperationWithResultTags$(UsageLogging.scala:537)",
        "\tat com.databricks.rpc.ServerBackend.recordOperationWithResultTags(ServerBackend.scala:22)",
        "\tat com.databricks.logging.UsageLogging.recordOperation(UsageLogging.scala:529)",
        "\tat com.databricks.logging.UsageLogging.recordOperation$(UsageLogging.scala:495)",
        "\tat com.databricks.rpc.ServerBackend.recordOperation(ServerBackend.scala:22)",
        "\tat com.databricks.rpc.ServerBackend.internalReceive(ServerBackend.scala:146)",
        "\tat com.databricks.rpc.JettyServer$RequestManager.handleRPC(JettyServer.scala:1021)",
        "\tat com.databricks.rpc.JettyServer$RequestManager.handleRequestAndRespond(JettyServer.scala:942)",
        "\tat com.databricks.rpc.JettyServer$RequestManager.$anonfun$handleHttp$6(JettyServer.scala:546)",
        "\tat com.databricks.rpc.JettyServer$RequestManager.$anonfun$handleHttp$6$adapted(JettyServer.scala:515)",
        "\tat com.databricks.logging.activity.ActivityContextFactory$.$anonfun$withActivityInternal$6(ActivityContextFactory.scala:545)",
        "\tat com.databricks.logging.AttributionContextTracing.$anonfun$withAttributionContext$1(AttributionContextTracing.scala:48)",
        "\tat com.databricks.logging.AttributionContext$.$anonfun$withValue$1(AttributionContext.scala:276)",
        "\tat scala.util.DynamicVariable.withValue(DynamicVariable.scala:62)",
        "\tat com.databricks.logging.AttributionContext$.withValue(AttributionContext.scala:272)",
        "\tat com.databricks.logging.AttributionContextTracing.withAttributionContext(AttributionContextTracing.scala:46)",
        "\tat com.databricks.logging.AttributionContextTracing.withAttributionContext$(AttributionContextTracing.scala:43)",
        "\tat com.databricks.logging.activity.ActivityContextFactory$.withAttributionContext(ActivityContextFactory.scala:48)",
        "\tat com.databricks.logging.activity.ActivityContextFactory$.$anonfun$withActivityInternal$3(ActivityContextFactory.scala:545)",
        "\tat com.databricks.context.integrity.IntegrityCheckContext$ThreadLocalStorage$.withValue(IntegrityCheckContext.scala:73)",
        "\tat com.databricks.logging.activity.ActivityContextFactory$.withActivityInternal(ActivityContextFactory.scala:523)",
        "\tat com.databricks.logging.activity.ActivityContextFactory$.withServiceRequestActivity(ActivityContextFactory.scala:175)",
        "\tat com.databricks.rpc.JettyServer$RequestManager.handleHttp(JettyServer.scala:515)",
        "\tat com.databricks.rpc.JettyServer$RequestManager.doPost(JettyServer.scala:405)",
        "\tat javax.servlet.http.HttpServlet.service(HttpServlet.java:665)",
        "\tat com.databricks.rpc.HttpServletWithPatch.service(HttpServletWithPatch.scala:33)",
        "\tat javax.servlet.http.HttpServlet.service(HttpServlet.java:750)",
        "\tat org.eclipse.jetty.servlet.ServletHolder.handle(ServletHolder.java:799)",
        "\tat org.eclipse.jetty.servlet.ServletHandler.doHandle(ServletHandler.java:554)",
        "\tat org.eclipse.jetty.server.handler.ScopedHandler.nextScope(ScopedHandler.java:190)",
        "\tat org.eclipse.jetty.servlet.ServletHandler.doScope(ServletHandler.java:505)",
        "\tat org.eclipse.jetty.server.handler.ScopedHandler.handle(ScopedHandler.java:141)",
        "\tat org.eclipse.jetty.server.handler.HandlerWrapper.handle(HandlerWrapper.java:127)",
        "\tat org.eclipse.jetty.server.Server.handle(Server.java:516)",
        "\tat org.eclipse.jetty.server.HttpChannel.lambda$handle$1(HttpChannel.java:487)",
        "\tat org.eclipse.jetty.server.HttpChannel.dispatch(HttpChannel.java:732)",
        "\tat org.eclipse.jetty.server.HttpChannel.handle(HttpChannel.java:479)",
        "\tat org.eclipse.jetty.server.HttpConnection.onFillable(HttpConnection.java:277)",
        "\tat org.eclipse.jetty.io.AbstractConnection$ReadCallback.succeeded(AbstractConnection.java:311)",
        "\tat org.eclipse.jetty.io.FillInterest.fillable(FillInterest.java:105)",
        "\tat org.eclipse.jetty.io.ssl.SslConnection$DecryptedEndPoint.onFillable(SslConnection.java:555)",
        "\tat org.eclipse.jetty.io.ssl.SslConnection.onFillable(SslConnection.java:410)",
        "\tat org.eclipse.jetty.io.ssl.SslConnection$2.succeeded(SslConnection.java:164)",
        "\tat org.eclipse.jetty.io.FillInterest.fillable(FillInterest.java:105)",
        "\tat org.eclipse.jetty.io.ChannelEndPoint$1.run(ChannelEndPoint.java:104)",
        "\tat org.eclipse.jetty.util.thread.strategy.EatWhatYouKill.runTask(EatWhatYouKill.java:338)",
        "\tat org.eclipse.jetty.util.thread.strategy.EatWhatYouKill.doProduce(EatWhatYouKill.java:315)",
        "\tat org.eclipse.jetty.util.thread.strategy.EatWhatYouKill.tryProduce(EatWhatYouKill.java:173)",
        "\tat org.eclipse.jetty.util.thread.strategy.EatWhatYouKill.run(EatWhatYouKill.java:131)",
        "\tat org.eclipse.jetty.util.thread.ReservedThreadExecutor$ReservedThread.run(ReservedThreadExecutor.java:409)",
        "\tat com.databricks.rpc.InstrumentedQueuedThreadPool$$anon$1.$anonfun$run$2(InstrumentedQueuedThreadPool.scala:105)",
        "\tat scala.runtime.java8.JFunction0$mcV$sp.apply(JFunction0$mcV$sp.java:23)",
        "\tat com.databricks.logging.AttributionContextTracing.$anonfun$withAttributionContext$1(AttributionContextTracing.scala:48)",
        "\tat com.databricks.logging.AttributionContext$.$anonfun$withValue$1(AttributionContext.scala:276)",
        "\tat scala.util.DynamicVariable.withValue(DynamicVariable.scala:62)",
        "\tat com.databricks.logging.AttributionContext$.withValue(AttributionContext.scala:272)",
        "\tat com.databricks.logging.AttributionContextTracing.withAttributionContext(AttributionContextTracing.scala:46)",
        "\tat com.databricks.logging.AttributionContextTracing.withAttributionContext$(AttributionContextTracing.scala:43)",
        "\tat com.databricks.rpc.InstrumentedQueuedThreadPool.withAttributionContext(InstrumentedQueuedThreadPool.scala:45)",
        "\tat com.databricks.rpc.InstrumentedQueuedThreadPool$$anon$1.$anonfun$run$1(InstrumentedQueuedThreadPool.scala:105)",
        "\tat scala.runtime.java8.JFunction0$mcV$sp.apply(JFunction0$mcV$sp.java:23)",
        "\tat com.databricks.instrumentation.QueuedThreadPoolInstrumenter.trackActiveThreads(QueuedThreadPoolInstrumenter.scala:110)",
        "\tat com.databricks.instrumentation.QueuedThreadPoolInstrumenter.trackActiveThreads$(QueuedThreadPoolInstrumenter.scala:107)",
        "\tat com.databricks.rpc.InstrumentedQueuedThreadPool.trackActiveThreads(InstrumentedQueuedThreadPool.scala:45)",
        "\tat com.databricks.rpc.InstrumentedQueuedThreadPool$$anon$1.run(InstrumentedQueuedThreadPool.scala:87)",
        "\tat org.eclipse.jetty.util.thread.QueuedThreadPool.runJob(QueuedThreadPool.java:883)",
        "\tat org.eclipse.jetty.util.thread.QueuedThreadPool$Runner.run(QueuedThreadPool.java:1034)",
        "\tat java.lang.Thread.run(Thread.java:750)"
       ],
       "type": "baseError"
      }
     },
     "output_type": "display_data"
    }
   ],
   "source": [
    "# Estatísticas: target vs controle\n",
    "merchants_stats = result_df.groupBy(\"is_target\").agg(\n",
    "    count(\"customer_id\").alias(\"num_clientes\"),\n",
    "    sum(\"total_merchants\").alias(\"total_merchants\"),\n",
    "    avg(\"total_merchants\").alias(\"media_merchants_por_cliente\"),\n",
    "    stddev(\"total_merchants\").alias(\"desvio_padrao_merchants\"),\n",
    "    min(\"total_merchants\").alias(\"min_merchants\"),\n",
    "    max(\"total_merchants\").alias(\"max_merchants\")\n",
    ").orderBy(\"is_target\")\n",
    "\n",
    "print(\"Estatísticas de diversidade de merchants:\")\n",
    "merchants_stats.show()"
   ]
  },
  {
   "cell_type": "code",
   "execution_count": 0,
   "metadata": {
    "application/vnd.databricks.v1+cell": {
     "cellMetadata": {
      "byteLimit": 2048000,
      "rowLimit": 10000
     },
     "inputWidgets": {},
     "nuid": "078e832c-c8d0-49c5-b20e-a12439bd6c95",
     "showTitle": false,
     "tableResultSettingsMap": {},
     "title": ""
    },
    "jupyter": {
     "outputs_hidden": true
    }
   },
   "outputs": [
    {
     "output_type": "stream",
     "name": "stdout",
     "output_type": "stream",
     "text": [
      "Proporção de pedidos por merchants:\n+---------+---------------------------+-----------------------------------+\n|is_target|media_pedidos_por_merchants|desvio_padrao_pedidos_por_merchants|\n+---------+---------------------------+-----------------------------------+\n|    false|                        1.0|                                0.0|\n|     true|                        1.0|                                0.0|\n+---------+---------------------------+-----------------------------------+\n\n"
     ]
    }
   ],
   "source": [
    "# Calcular a proporção de merchants por pedidos para cada grupo\n",
    "\n",
    "df = result_df.withColumn(\n",
    "    \"pedidos_por_merchants\", \n",
    "    F.when(F.col(\"total_orders\") > 0, F.col(\"total_orders\") / F.col(\"total_merchants\")).otherwise(0)\n",
    ")\n",
    "\n",
    "pedidos_por_merchants_stats = df.groupBy(\"is_target\").agg(\n",
    "    F.avg(\"pedidos_por_merchants\").alias(\"media_pedidos_por_merchants\"),\n",
    "    F.stddev(\"pedidos_por_merchants\").alias(\"desvio_padrao_pedidos_por_merchants\")\n",
    ").orderBy(\"is_target\")\n",
    "\n",
    "print(\"Proporção de pedidos por merchants:\")\n",
    "\n"
   ]
  },
  {
   "cell_type": "code",
   "execution_count": 0,
   "metadata": {
    "application/vnd.databricks.v1+cell": {
     "cellMetadata": {
      "byteLimit": 2048000,
      "rowLimit": 10000
     },
     "inputWidgets": {},
     "nuid": "8f66b0de-e3d9-485f-961c-9f122724eaac",
     "showTitle": false,
     "tableResultSettingsMap": {},
     "title": ""
    }
   },
   "outputs": [
    {
     "output_type": "stream",
     "name": "stdout",
     "output_type": "stream",
     "text": [
      "+---------+---------------------------+-----------------------------------+\n|is_target|media_pedidos_por_merchants|desvio_padrao_pedidos_por_merchants|\n+---------+---------------------------+-----------------------------------+\n|    false|                        1.0|                                0.0|\n|     true|                        1.0|                                0.0|\n+---------+---------------------------+-----------------------------------+\n\n"
     ]
    }
   ],
   "source": [
    "pedidos_por_merchants_stats.show()"
   ]
  },
  {
   "cell_type": "markdown",
   "metadata": {
    "application/vnd.databricks.v1+cell": {
     "cellMetadata": {},
     "inputWidgets": {},
     "nuid": "21d2b5b6-c0fc-4364-b884-8ce6f33135f2",
     "showTitle": false,
     "tableResultSettingsMap": {},
     "title": ""
    }
   },
   "source": [
    "#### 4. ANÁLISE GEOGRÁFICA\n"
   ]
  },
  {
   "cell_type": "code",
   "execution_count": 0,
   "metadata": {
    "application/vnd.databricks.v1+cell": {
     "cellMetadata": {
      "byteLimit": 2048000,
      "rowLimit": 10000
     },
     "inputWidgets": {},
     "nuid": "b703b5ac-0e47-4696-bb66-c89aef0a01c1",
     "showTitle": false,
     "tableResultSettingsMap": {},
     "title": ""
    }
   },
   "outputs": [],
   "source": [
    "# Distribuição geográfica por estado\n",
    "geo_state_dist = result_df.groupBy(\"is_target\", \"delivery_address_state\").count().orderBy(\"is_target\", \"delivery_address_state\")"
   ]
  },
  {
   "cell_type": "code",
   "execution_count": 0,
   "metadata": {
    "application/vnd.databricks.v1+cell": {
     "cellMetadata": {
      "byteLimit": 2048000,
      "rowLimit": 10000
     },
     "inputWidgets": {},
     "nuid": "dd1dbb4a-75a9-40ed-8b72-da06d2475360",
     "showTitle": false,
     "tableResultSettingsMap": {},
     "title": ""
    }
   },
   "outputs": [
    {
     "output_type": "stream",
     "name": "stdout",
     "output_type": "stream",
     "text": [
      "Distribuição geográfica por estado:\n+---------+----------------------+------+--------------------+\n|is_target|delivery_address_state| count|          percentual|\n+---------+----------------------+------+--------------------+\n|    false|                    AC|     1|2.565372094395431...|\n|    false|                    AL|  2033|  0.5215401467905912|\n|    false|                    AM|  4723|  1.2116252401829624|\n|    false|                    BA| 11338|    2.90861888062554|\n|    false|                    CE| 14049|   3.604091255416142|\n|    false|                    DF| 13699|  3.5143032321123013|\n|    false|                    ES|  8040|  2.0625591638939267|\n|    false|                    GO|  3450|  0.8850533725664239|\n|    false|                    MA|   896| 0.22985733965783067|\n|    false|                    MG| 21764|   5.583275826242217|\n|    false|                    MS|  1826|  0.4684369444366058|\n|    false|                    MT|   437| 0.11210676052508035|\n|    false|                    PA|  2462|  0.6315946096401552|\n|    false|                    PB|  5939|  1.5235744868614467|\n|    false|                    PE| 15540|   3.986588234690501|\n|    false|                    PI|    87|0.022318737221240253|\n|    false|                    PR| 19034|  4.8829292444722645|\n|    false|                    RJ| 73200|   18.77852373097456|\n|    false|                    RN|  3765|    0.96586259353988|\n|    false|                    RS| 11819|  3.0320132783659606|\n|    false|                    SC|  8317|  2.1336199709086805|\n|    false|                    SE|   983|  0.2521760768790709|\n|    false|                    SP|166405|   42.68907433678718|\n|     true|                    AC|     1|2.043067870714665E-4|\n|     true|                    AL|  2466|  0.5038205369182364|\n|     true|                    AM|  5917|  1.2088832591018674|\n|     true|                    BA| 14070|  2.8745964940955337|\n|     true|                    CE| 18074|  3.6926408695296855|\n|     true|                    DF| 17093|  3.4922159114125773|\n|     true|                    ES| 10465|   2.138070526702897|\n+---------+----------------------+------+--------------------+\nonly showing top 30 rows\n\n"
     ]
    }
   ],
   "source": [
    "# Calcular percentuais dentro de cada grupo\n",
    "window_spec = Window.partitionBy(\"is_target\")\n",
    "geo_state_dist = geo_state_dist.withColumn(\"percentual\", \n",
    "                                          col(\"count\") / sum(\"count\").over(window_spec) * 100)\n",
    "\n",
    "print(\"Distribuição geográfica por estado:\")\n",
    "geo_state_dist.show(30)  # Mostrar mais linhas para ver múltiplos estados"
   ]
  },
  {
   "cell_type": "code",
   "execution_count": 0,
   "metadata": {
    "application/vnd.databricks.v1+cell": {
     "cellMetadata": {
      "byteLimit": 2048000,
      "rowLimit": 10000
     },
     "inputWidgets": {},
     "nuid": "71e41fec-2810-4b56-8ef5-970189dd9671",
     "showTitle": false,
     "tableResultSettingsMap": {},
     "title": ""
    }
   },
   "outputs": [],
   "source": [
    "# Distribuição por cidade (top 10 para cada grupo)\n",
    "geo_city_dist = result_df.groupBy(\"is_target\", \"delivery_address_city\").count()"
   ]
  },
  {
   "cell_type": "code",
   "execution_count": 0,
   "metadata": {
    "application/vnd.databricks.v1+cell": {
     "cellMetadata": {
      "byteLimit": 2048000,
      "rowLimit": 10000
     },
     "inputWidgets": {},
     "nuid": "47440485-f968-4c58-b3ca-dbf3c2eaa33d",
     "showTitle": false,
     "tableResultSettingsMap": {},
     "title": ""
    }
   },
   "outputs": [
    {
     "output_type": "stream",
     "name": "stdout",
     "output_type": "stream",
     "text": [
      "Top 10 cidades por grupo:\n+---------+---------------------+------+------------------+----+\n|is_target|delivery_address_city| count|        percentual|rank|\n+---------+---------------------+------+------------------+----+\n|    false|            SAO PAULO|104240|  26.7444575293191|   1|\n|    false|       RIO DE JANEIRO| 62090|15.930193476548569|   2|\n|    false|            FORTALEZA| 14014|3.5955183021477155|   3|\n|    false|       BELO HORIZONTE| 13888|3.5631909647657682|   4|\n|    false|             BRASILIA| 13699| 3.514699958692847|   5|\n|    false|               RECIFE| 13255| 3.400784579346936|   6|\n|    false|             CURITIBA| 12206| 3.131646667333739|   7|\n|    false|             SALVADOR| 10868|2.7883611322778203|   8|\n|    false|         PORTO ALEGRE| 10604|2.7206276634775493|   9|\n|    false|             CAMPINAS|  7808| 2.003268653001953|  10|\n|     true|            SAO PAULO|130597|26.683434437132096|   1|\n|     true|       RIO DE JANEIRO| 78872| 16.11503970937681|   2|\n|     true|            FORTALEZA| 18038| 3.685504187515707|   3|\n|     true|             BRASILIA| 17093|3.4924228338621783|   4|\n|     true|               RECIFE| 16918| 3.456667027630044|   5|\n|     true|       BELO HORIZONTE| 16881| 3.449107228598107|   6|\n|     true|             CURITIBA| 15285| 3.123014275761037|   7|\n|     true|             SALVADOR| 13554| 2.769338272402034|   8|\n|     true|         PORTO ALEGRE| 13488|2.7558532254802004|   9|\n|     true|             CAMPINAS|  9781|1.9984430900372065|  10|\n+---------+---------------------+------+------------------+----+\n\n"
     ]
    }
   ],
   "source": [
    "# janela para soma por grupo\n",
    "window_spec = Window.partitionBy(\"is_target\")\n",
    "\n",
    "# calcular percentual\n",
    "geo_city_dist = geo_city_dist.withColumn(\n",
    "    \"percentual\",\n",
    "    (F.col(\"count\") / F.sum(F.col(\"count\")).over(window_spec)) * 100\n",
    ")\n",
    "\n",
    "# janela para rank\n",
    "rank_window = Window.partitionBy(\"is_target\").orderBy(F.col(\"count\").desc())\n",
    "\n",
    "# calcular rank\n",
    "geo_city_dist = geo_city_dist.withColumn(\"rank\", F.rank().over(rank_window))\n",
    "\n",
    "print(\"Top 10 cidades por grupo:\")\n",
    "geo_city_dist.filter(F.col(\"rank\") <= 10).orderBy(\"is_target\", \"rank\").show(20)\n"
   ]
  },
  {
   "cell_type": "code",
   "execution_count": 0,
   "metadata": {
    "application/vnd.databricks.v1+cell": {
     "cellMetadata": {
      "byteLimit": 2048000,
      "rowLimit": 10000
     },
     "inputWidgets": {},
     "nuid": "69566e6b-3f9b-460b-ad49-42a2eb892980",
     "showTitle": false,
     "tableResultSettingsMap": {},
     "title": ""
    }
   },
   "outputs": [
    {
     "output_type": "display_data",
     "data": {
      "text/html": [
       "<html>\n",
       "<head><meta charset=\"utf-8\" /></head>\n",
       "<body>\n",
       "    <div>            <script src=\"https://cdnjs.cloudflare.com/ajax/libs/mathjax/2.7.5/MathJax.js?config=TeX-AMS-MML_SVG\"></script><script type=\"text/javascript\">if (window.MathJax && window.MathJax.Hub && window.MathJax.Hub.Config) {window.MathJax.Hub.Config({SVG: {font: \"STIX-Web\"}});}</script>                <script type=\"text/javascript\">window.PlotlyConfig = {MathJaxConfig: 'local'};</script>\n",
       "        <script src=\"https://cdn.plot.ly/plotly-2.12.1.min.js\"></script>                <div id=\"4e97ebd4-7432-44f1-981f-70b3a4f64b20\" class=\"plotly-graph-div\" style=\"height:600px; width:800px;\"></div>            <script type=\"text/javascript\">                                    window.PLOTLYENV=window.PLOTLYENV || {};                                    if (document.getElementById(\"4e97ebd4-7432-44f1-981f-70b3a4f64b20\")) {                    Plotly.newPlot(                        \"4e97ebd4-7432-44f1-981f-70b3a4f64b20\",                        [{\"marker\":{\"color\":\"#e15759\"},\"name\":\"Clientes Contemplados\",\"orientation\":\"h\",\"text\":[\"2.00%\",\"2.76%\",\"2.77%\",\"3.12%\",\"3.46%\",\"3.49%\",\"3.45%\",\"3.69%\",\"16.12%\",\"26.68%\"],\"textposition\":\"auto\",\"x\":[1.9984430900372065,2.7558532254802004,2.769338272402034,3.123014275761037,3.456667027630044,3.4924228338621783,3.449107228598107,3.685504187515707,16.11503970937681,26.683434437132096],\"y\":[\"CAMPINAS\",\"PORTO ALEGRE\",\"SALVADOR\",\"CURITIBA\",\"RECIFE\",\"BRASILIA\",\"BELO HORIZONTE\",\"FORTALEZA\",\"RIO DE JANEIRO\",\"SAO PAULO\"],\"type\":\"bar\"},{\"marker\":{\"color\":\"#bab0ac\"},\"name\":\"Clientes Controle\",\"orientation\":\"h\",\"text\":[\"2.00%\",\"2.72%\",\"2.79%\",\"3.13%\",\"3.40%\",\"3.51%\",\"3.56%\",\"3.60%\",\"15.93%\",\"26.74%\"],\"textposition\":\"auto\",\"x\":[2.003268653001953,2.7206276634775493,2.7883611322778203,3.131646667333739,3.400784579346936,3.514699958692847,3.5631909647657682,3.5955183021477155,15.930193476548569,26.7444575293191],\"y\":[\"CAMPINAS\",\"PORTO ALEGRE\",\"SALVADOR\",\"CURITIBA\",\"RECIFE\",\"BRASILIA\",\"BELO HORIZONTE\",\"FORTALEZA\",\"RIO DE JANEIRO\",\"SAO PAULO\"],\"type\":\"bar\"}],                        {\"template\":{\"data\":{\"barpolar\":[{\"marker\":{\"line\":{\"color\":\"white\",\"width\":0.5},\"pattern\":{\"fillmode\":\"overlay\",\"size\":10,\"solidity\":0.2}},\"type\":\"barpolar\"}],\"bar\":[{\"error_x\":{\"color\":\"rgb(36,36,36)\"},\"error_y\":{\"color\":\"rgb(36,36,36)\"},\"marker\":{\"line\":{\"color\":\"white\",\"width\":0.5},\"pattern\":{\"fillmode\":\"overlay\",\"size\":10,\"solidity\":0.2}},\"type\":\"bar\"}],\"carpet\":[{\"aaxis\":{\"endlinecolor\":\"rgb(36,36,36)\",\"gridcolor\":\"white\",\"linecolor\":\"white\",\"minorgridcolor\":\"white\",\"startlinecolor\":\"rgb(36,36,36)\"},\"baxis\":{\"endlinecolor\":\"rgb(36,36,36)\",\"gridcolor\":\"white\",\"linecolor\":\"white\",\"minorgridcolor\":\"white\",\"startlinecolor\":\"rgb(36,36,36)\"},\"type\":\"carpet\"}],\"choropleth\":[{\"colorbar\":{\"outlinewidth\":1,\"tickcolor\":\"rgb(36,36,36)\",\"ticks\":\"outside\"},\"type\":\"choropleth\"}],\"contourcarpet\":[{\"colorbar\":{\"outlinewidth\":1,\"tickcolor\":\"rgb(36,36,36)\",\"ticks\":\"outside\"},\"type\":\"contourcarpet\"}],\"contour\":[{\"colorbar\":{\"outlinewidth\":1,\"tickcolor\":\"rgb(36,36,36)\",\"ticks\":\"outside\"},\"colorscale\":[[0.0,\"#440154\"],[0.1111111111111111,\"#482878\"],[0.2222222222222222,\"#3e4989\"],[0.3333333333333333,\"#31688e\"],[0.4444444444444444,\"#26828e\"],[0.5555555555555556,\"#1f9e89\"],[0.6666666666666666,\"#35b779\"],[0.7777777777777778,\"#6ece58\"],[0.8888888888888888,\"#b5de2b\"],[1.0,\"#fde725\"]],\"type\":\"contour\"}],\"heatmapgl\":[{\"colorbar\":{\"outlinewidth\":1,\"tickcolor\":\"rgb(36,36,36)\",\"ticks\":\"outside\"},\"colorscale\":[[0.0,\"#440154\"],[0.1111111111111111,\"#482878\"],[0.2222222222222222,\"#3e4989\"],[0.3333333333333333,\"#31688e\"],[0.4444444444444444,\"#26828e\"],[0.5555555555555556,\"#1f9e89\"],[0.6666666666666666,\"#35b779\"],[0.7777777777777778,\"#6ece58\"],[0.8888888888888888,\"#b5de2b\"],[1.0,\"#fde725\"]],\"type\":\"heatmapgl\"}],\"heatmap\":[{\"colorbar\":{\"outlinewidth\":1,\"tickcolor\":\"rgb(36,36,36)\",\"ticks\":\"outside\"},\"colorscale\":[[0.0,\"#440154\"],[0.1111111111111111,\"#482878\"],[0.2222222222222222,\"#3e4989\"],[0.3333333333333333,\"#31688e\"],[0.4444444444444444,\"#26828e\"],[0.5555555555555556,\"#1f9e89\"],[0.6666666666666666,\"#35b779\"],[0.7777777777777778,\"#6ece58\"],[0.8888888888888888,\"#b5de2b\"],[1.0,\"#fde725\"]],\"type\":\"heatmap\"}],\"histogram2dcontour\":[{\"colorbar\":{\"outlinewidth\":1,\"tickcolor\":\"rgb(36,36,36)\",\"ticks\":\"outside\"},\"colorscale\":[[0.0,\"#440154\"],[0.1111111111111111,\"#482878\"],[0.2222222222222222,\"#3e4989\"],[0.3333333333333333,\"#31688e\"],[0.4444444444444444,\"#26828e\"],[0.5555555555555556,\"#1f9e89\"],[0.6666666666666666,\"#35b779\"],[0.7777777777777778,\"#6ece58\"],[0.8888888888888888,\"#b5de2b\"],[1.0,\"#fde725\"]],\"type\":\"histogram2dcontour\"}],\"histogram2d\":[{\"colorbar\":{\"outlinewidth\":1,\"tickcolor\":\"rgb(36,36,36)\",\"ticks\":\"outside\"},\"colorscale\":[[0.0,\"#440154\"],[0.1111111111111111,\"#482878\"],[0.2222222222222222,\"#3e4989\"],[0.3333333333333333,\"#31688e\"],[0.4444444444444444,\"#26828e\"],[0.5555555555555556,\"#1f9e89\"],[0.6666666666666666,\"#35b779\"],[0.7777777777777778,\"#6ece58\"],[0.8888888888888888,\"#b5de2b\"],[1.0,\"#fde725\"]],\"type\":\"histogram2d\"}],\"histogram\":[{\"marker\":{\"line\":{\"color\":\"white\",\"width\":0.6}},\"type\":\"histogram\"}],\"mesh3d\":[{\"colorbar\":{\"outlinewidth\":1,\"tickcolor\":\"rgb(36,36,36)\",\"ticks\":\"outside\"},\"type\":\"mesh3d\"}],\"parcoords\":[{\"line\":{\"colorbar\":{\"outlinewidth\":1,\"tickcolor\":\"rgb(36,36,36)\",\"ticks\":\"outside\"}},\"type\":\"parcoords\"}],\"pie\":[{\"automargin\":true,\"type\":\"pie\"}],\"scatter3d\":[{\"line\":{\"colorbar\":{\"outlinewidth\":1,\"tickcolor\":\"rgb(36,36,36)\",\"ticks\":\"outside\"}},\"marker\":{\"colorbar\":{\"outlinewidth\":1,\"tickcolor\":\"rgb(36,36,36)\",\"ticks\":\"outside\"}},\"type\":\"scatter3d\"}],\"scattercarpet\":[{\"marker\":{\"colorbar\":{\"outlinewidth\":1,\"tickcolor\":\"rgb(36,36,36)\",\"ticks\":\"outside\"}},\"type\":\"scattercarpet\"}],\"scattergeo\":[{\"marker\":{\"colorbar\":{\"outlinewidth\":1,\"tickcolor\":\"rgb(36,36,36)\",\"ticks\":\"outside\"}},\"type\":\"scattergeo\"}],\"scattergl\":[{\"marker\":{\"colorbar\":{\"outlinewidth\":1,\"tickcolor\":\"rgb(36,36,36)\",\"ticks\":\"outside\"}},\"type\":\"scattergl\"}],\"scattermapbox\":[{\"marker\":{\"colorbar\":{\"outlinewidth\":1,\"tickcolor\":\"rgb(36,36,36)\",\"ticks\":\"outside\"}},\"type\":\"scattermapbox\"}],\"scatterpolargl\":[{\"marker\":{\"colorbar\":{\"outlinewidth\":1,\"tickcolor\":\"rgb(36,36,36)\",\"ticks\":\"outside\"}},\"type\":\"scatterpolargl\"}],\"scatterpolar\":[{\"marker\":{\"colorbar\":{\"outlinewidth\":1,\"tickcolor\":\"rgb(36,36,36)\",\"ticks\":\"outside\"}},\"type\":\"scatterpolar\"}],\"scatter\":[{\"fillpattern\":{\"fillmode\":\"overlay\",\"size\":10,\"solidity\":0.2},\"type\":\"scatter\"}],\"scatterternary\":[{\"marker\":{\"colorbar\":{\"outlinewidth\":1,\"tickcolor\":\"rgb(36,36,36)\",\"ticks\":\"outside\"}},\"type\":\"scatterternary\"}],\"surface\":[{\"colorbar\":{\"outlinewidth\":1,\"tickcolor\":\"rgb(36,36,36)\",\"ticks\":\"outside\"},\"colorscale\":[[0.0,\"#440154\"],[0.1111111111111111,\"#482878\"],[0.2222222222222222,\"#3e4989\"],[0.3333333333333333,\"#31688e\"],[0.4444444444444444,\"#26828e\"],[0.5555555555555556,\"#1f9e89\"],[0.6666666666666666,\"#35b779\"],[0.7777777777777778,\"#6ece58\"],[0.8888888888888888,\"#b5de2b\"],[1.0,\"#fde725\"]],\"type\":\"surface\"}],\"table\":[{\"cells\":{\"fill\":{\"color\":\"rgb(237,237,237)\"},\"line\":{\"color\":\"white\"}},\"header\":{\"fill\":{\"color\":\"rgb(217,217,217)\"},\"line\":{\"color\":\"white\"}},\"type\":\"table\"}]},\"layout\":{\"annotationdefaults\":{\"arrowhead\":0,\"arrowwidth\":1},\"autotypenumbers\":\"strict\",\"coloraxis\":{\"colorbar\":{\"outlinewidth\":1,\"tickcolor\":\"rgb(36,36,36)\",\"ticks\":\"outside\"}},\"colorscale\":{\"diverging\":[[0.0,\"rgb(103,0,31)\"],[0.1,\"rgb(178,24,43)\"],[0.2,\"rgb(214,96,77)\"],[0.3,\"rgb(244,165,130)\"],[0.4,\"rgb(253,219,199)\"],[0.5,\"rgb(247,247,247)\"],[0.6,\"rgb(209,229,240)\"],[0.7,\"rgb(146,197,222)\"],[0.8,\"rgb(67,147,195)\"],[0.9,\"rgb(33,102,172)\"],[1.0,\"rgb(5,48,97)\"]],\"sequential\":[[0.0,\"#440154\"],[0.1111111111111111,\"#482878\"],[0.2222222222222222,\"#3e4989\"],[0.3333333333333333,\"#31688e\"],[0.4444444444444444,\"#26828e\"],[0.5555555555555556,\"#1f9e89\"],[0.6666666666666666,\"#35b779\"],[0.7777777777777778,\"#6ece58\"],[0.8888888888888888,\"#b5de2b\"],[1.0,\"#fde725\"]],\"sequentialminus\":[[0.0,\"#440154\"],[0.1111111111111111,\"#482878\"],[0.2222222222222222,\"#3e4989\"],[0.3333333333333333,\"#31688e\"],[0.4444444444444444,\"#26828e\"],[0.5555555555555556,\"#1f9e89\"],[0.6666666666666666,\"#35b779\"],[0.7777777777777778,\"#6ece58\"],[0.8888888888888888,\"#b5de2b\"],[1.0,\"#fde725\"]]},\"colorway\":[\"#1F77B4\",\"#FF7F0E\",\"#2CA02C\",\"#D62728\",\"#9467BD\",\"#8C564B\",\"#E377C2\",\"#7F7F7F\",\"#BCBD22\",\"#17BECF\"],\"font\":{\"color\":\"rgb(36,36,36)\"},\"geo\":{\"bgcolor\":\"white\",\"lakecolor\":\"white\",\"landcolor\":\"white\",\"showlakes\":true,\"showland\":true,\"subunitcolor\":\"white\"},\"hoverlabel\":{\"align\":\"left\"},\"hovermode\":\"closest\",\"mapbox\":{\"style\":\"light\"},\"paper_bgcolor\":\"white\",\"plot_bgcolor\":\"white\",\"polar\":{\"angularaxis\":{\"gridcolor\":\"rgb(232,232,232)\",\"linecolor\":\"rgb(36,36,36)\",\"showgrid\":false,\"showline\":true,\"ticks\":\"outside\"},\"bgcolor\":\"white\",\"radialaxis\":{\"gridcolor\":\"rgb(232,232,232)\",\"linecolor\":\"rgb(36,36,36)\",\"showgrid\":false,\"showline\":true,\"ticks\":\"outside\"}},\"scene\":{\"xaxis\":{\"backgroundcolor\":\"white\",\"gridcolor\":\"rgb(232,232,232)\",\"gridwidth\":2,\"linecolor\":\"rgb(36,36,36)\",\"showbackground\":true,\"showgrid\":false,\"showline\":true,\"ticks\":\"outside\",\"zeroline\":false,\"zerolinecolor\":\"rgb(36,36,36)\"},\"yaxis\":{\"backgroundcolor\":\"white\",\"gridcolor\":\"rgb(232,232,232)\",\"gridwidth\":2,\"linecolor\":\"rgb(36,36,36)\",\"showbackground\":true,\"showgrid\":false,\"showline\":true,\"ticks\":\"outside\",\"zeroline\":false,\"zerolinecolor\":\"rgb(36,36,36)\"},\"zaxis\":{\"backgroundcolor\":\"white\",\"gridcolor\":\"rgb(232,232,232)\",\"gridwidth\":2,\"linecolor\":\"rgb(36,36,36)\",\"showbackground\":true,\"showgrid\":false,\"showline\":true,\"ticks\":\"outside\",\"zeroline\":false,\"zerolinecolor\":\"rgb(36,36,36)\"}},\"shapedefaults\":{\"fillcolor\":\"black\",\"line\":{\"width\":0},\"opacity\":0.3},\"ternary\":{\"aaxis\":{\"gridcolor\":\"rgb(232,232,232)\",\"linecolor\":\"rgb(36,36,36)\",\"showgrid\":false,\"showline\":true,\"ticks\":\"outside\"},\"baxis\":{\"gridcolor\":\"rgb(232,232,232)\",\"linecolor\":\"rgb(36,36,36)\",\"showgrid\":false,\"showline\":true,\"ticks\":\"outside\"},\"bgcolor\":\"white\",\"caxis\":{\"gridcolor\":\"rgb(232,232,232)\",\"linecolor\":\"rgb(36,36,36)\",\"showgrid\":false,\"showline\":true,\"ticks\":\"outside\"}},\"title\":{\"x\":0.05},\"xaxis\":{\"automargin\":true,\"gridcolor\":\"rgb(232,232,232)\",\"linecolor\":\"rgb(36,36,36)\",\"showgrid\":false,\"showline\":true,\"ticks\":\"outside\",\"title\":{\"standoff\":15},\"zeroline\":false,\"zerolinecolor\":\"rgb(36,36,36)\"},\"yaxis\":{\"automargin\":true,\"gridcolor\":\"rgb(232,232,232)\",\"linecolor\":\"rgb(36,36,36)\",\"showgrid\":false,\"showline\":true,\"ticks\":\"outside\",\"title\":{\"standoff\":15},\"zeroline\":false,\"zerolinecolor\":\"rgb(36,36,36)\"}}},\"title\":{\"text\":\"Top 10 Cidades por Grupo (Clientes Contemplados vs Controle)\"},\"xaxis\":{\"title\":{\"text\":\"Percentual (%)\"}},\"yaxis\":{\"title\":{\"text\":\"Cidades\"}},\"barmode\":\"group\",\"height\":600,\"width\":800},                        {\"responsive\": true}                    )                };                            </script>        </div>\n",
       "</body>\n",
       "</html>"
      ]
     },
     "metadata": {},
     "output_type": "display_data"
    }
   ],
   "source": [
    "# Convertendo para DataFrame do Pandas\n",
    "geo_df = geo_city_dist.toPandas()\n",
    "\n",
    "# Separando os dois grupos\n",
    "geo_df_true = geo_df[geo_df[\"is_target\"] == True].nlargest(10, \"percentual\")\n",
    "geo_df_false = geo_df[geo_df[\"is_target\"] == False].nlargest(10, \"percentual\")\n",
    "\n",
    "# Garantindo que as cidades estejam alinhadas e ordenadas\n",
    "cities = list(set(geo_df_true[\"delivery_address_city\"].tolist() + geo_df_false[\"delivery_address_city\"].tolist()))\n",
    "geo_df_true = geo_df_true.set_index(\"delivery_address_city\").reindex(cities).fillna(0)\n",
    "geo_df_false = geo_df_false.set_index(\"delivery_address_city\").reindex(cities).fillna(0)\n",
    "\n",
    "# Ordenando as cidades pela soma dos percentuais\n",
    "geo_df_combined = geo_df_true[\"percentual\"] + geo_df_false[\"percentual\"]\n",
    "cities = geo_df_combined.sort_values(ascending=True).index.tolist()\n",
    "geo_df_true = geo_df_true.loc[cities]\n",
    "geo_df_false = geo_df_false.loc[cities]\n",
    "\n",
    "# Criando o gráfico com Plotly\n",
    "fig = go.Figure()\n",
    "\n",
    "fig.add_trace(go.Bar(\n",
    "    y=cities,\n",
    "    x=geo_df_true[\"percentual\"],\n",
    "    name=\"Clientes Contemplados\",\n",
    "    orientation=\"h\",\n",
    "    marker_color=\"#e15759\",\n",
    "    text=[f'{val:.2f}%' for val in geo_df_true[\"percentual\"]],\n",
    "    textposition=\"auto\"\n",
    "))\n",
    "\n",
    "fig.add_trace(go.Bar(\n",
    "    y=cities,\n",
    "    x=geo_df_false[\"percentual\"],\n",
    "    name=\"Clientes Controle\",\n",
    "    orientation=\"h\",\n",
    "    marker_color=\"#bab0ac\",\n",
    "    text=[f'{val:.2f}%' for val in geo_df_false[\"percentual\"]],\n",
    "    textposition=\"auto\"\n",
    "))\n",
    "\n",
    "fig.update_layout(\n",
    "    title=\"Top 10 Cidades por Grupo (Clientes Contemplados vs Controle)\",\n",
    "    xaxis_title=\"Percentual (%)\",\n",
    "    yaxis_title=\"Cidades\",\n",
    "    barmode=\"group\",\n",
    "    template=\"simple_white\",\n",
    "    height=600,\n",
    "    width=800\n",
    ")\n",
    "\n",
    "fig.show()"
   ]
  },
  {
   "cell_type": "markdown",
   "metadata": {
    "application/vnd.databricks.v1+cell": {
     "cellMetadata": {},
     "inputWidgets": {},
     "nuid": "b6ce5880-b5d9-4ffb-bcee-3b907dda8ca0",
     "showTitle": false,
     "tableResultSettingsMap": {},
     "title": ""
    }
   },
   "source": [
    "#### 5. ANÁLISE DE RETENÇÃO"
   ]
  },
  {
   "cell_type": "markdown",
   "metadata": {
    "application/vnd.databricks.v1+cell": {
     "cellMetadata": {},
     "inputWidgets": {},
     "nuid": "0d31e5b9-734c-4ad8-b905-03a18b2a45d8",
     "showTitle": false,
     "tableResultSettingsMap": {},
     "title": ""
    }
   },
   "source": [
    "**Principais Observações:**\n",
    "\n",
    "- Os clientes do grupo que recebeu os cupons apresentam uma taxa de retenção significativamente maior (53,35%) em comparação com o grupo de controle (44,80%), indicando maior fidelidade.\n",
    "\n",
    "- O número total de pedidos realizados pelo grupo contemplado (1.416.677) é consideravelmente maior que o do grupo de controle (1.010.738), sugerindo maior engajamento dos clientes contemplados.\n",
    "\n",
    "- O valor total gasto pelos clientes contemplados (aproximadamente 67,7 milhões) supera o valor gasto pelo grupo de controle (cerca de 48,4 milhões), mostrando um impacto positivo no faturamento.\n",
    "\n",
    "Sendo assim, os clientes **contemplados pela campanha de aumento são mais engajados e geram maior valor para o negócio**, refletindo em melhores métricas de retenção e consumo."
   ]
  },
  {
   "cell_type": "code",
   "execution_count": 0,
   "metadata": {
    "application/vnd.databricks.v1+cell": {
     "cellMetadata": {
      "byteLimit": 2048000,
      "rowLimit": 10000
     },
     "inputWidgets": {},
     "nuid": "f6bc6a86-dd1d-49d8-9796-90a4c4a1d002",
     "showTitle": false,
     "tableResultSettingsMap": {},
     "title": ""
    }
   },
   "outputs": [],
   "source": [
    "df = result_df.withColumn(\"is_retained\", F.when(F.col(\"total_orders\") > 1, 1).otherwise(0))"
   ]
  },
  {
   "cell_type": "code",
   "execution_count": 0,
   "metadata": {
    "application/vnd.databricks.v1+cell": {
     "cellMetadata": {
      "byteLimit": 2048000,
      "rowLimit": 10000
     },
     "inputWidgets": {},
     "nuid": "2006a8b3-4438-4474-bbd2-88d41fbc1d1f",
     "showTitle": false,
     "tableResultSettingsMap": {},
     "title": ""
    }
   },
   "outputs": [],
   "source": [
    "retention_df = df.groupBy(\"is_target\") \\\n",
    "    .agg(\n",
    "        F.countDistinct(\"customer_id\").alias(\"total_customers\"),\n",
    "        F.sum(\"is_retained\").alias(\"retained_customers\")\n",
    "    ) \\\n",
    "    .withColumn(\"retention_rate\", F.col(\"retained_customers\") / F.col(\"total_customers\"))\n"
   ]
  },
  {
   "cell_type": "code",
   "execution_count": 0,
   "metadata": {
    "application/vnd.databricks.v1+cell": {
     "cellMetadata": {
      "byteLimit": 2048000,
      "rowLimit": 10000
     },
     "inputWidgets": {},
     "nuid": "d6d0fee6-d94d-4e4d-abc0-74c7f3bb5377",
     "showTitle": false,
     "tableResultSettingsMap": {},
     "title": ""
    }
   },
   "outputs": [
    {
     "output_type": "stream",
     "name": "stdout",
     "output_type": "stream",
     "text": [
      "+---------+---------------+------------------+------------------+------------+--------------------+\n|is_target|total_customers|retained_customers|    retention_rate|total_orders|        total_amount|\n+---------+---------------+------------------+------------------+------------+--------------------+\n|     true|         489431|            261117|0.5335113631952205|     1416677| 6.772998645000698E7|\n|    false|         389763|            174596| 0.447954269645913|     1010738|4.8432203490002446E7|\n+---------+---------------+------------------+------------------+------------+--------------------+\n\n"
     ]
    }
   ],
   "source": [
    "# Calculando retenção por grupo de is_target\n",
    "retention_analysis = (\n",
    "    df.groupBy(\"is_target\")\n",
    "    .agg(\n",
    "        F.count(\"customer_id\").alias(\"total_customers\"),\n",
    "        F.sum(F.when(F.col(\"is_retained\") == 1, 1).otherwise(0)).alias(\"retained_customers\"),\n",
    "        F.avg(\"is_retained\").alias(\"retention_rate\"),\n",
    "        F.sum(\"total_orders\").alias(\"total_orders\"),\n",
    "        F.sum(\"total_amount\").alias(\"total_amount\")\n",
    "    )\n",
    ")\n",
    "\n",
    "retention_analysis.show()"
   ]
  },
  {
   "cell_type": "markdown",
   "metadata": {
    "application/vnd.databricks.v1+cell": {
     "cellMetadata": {},
     "inputWidgets": {},
     "nuid": "3c98e973-dcb1-45cc-95f6-79d445c8b869",
     "showTitle": false,
     "tableResultSettingsMap": {},
     "title": ""
    }
   },
   "source": [
    "### **CLUSTERIZAÇÃO**"
   ]
  },
  {
   "cell_type": "markdown",
   "metadata": {
    "application/vnd.databricks.v1+cell": {
     "cellMetadata": {},
     "inputWidgets": {},
     "nuid": "74d7071b-6847-4642-9405-32c950b50972",
     "showTitle": false,
     "tableResultSettingsMap": {},
     "title": ""
    }
   },
   "source": [
    "KMeans: O modelo KMeans foi treinado e aplicado para agrupar os dados em dois clusters.\n",
    "\n",
    "- Agregação por Cluster: Foram calculadas as somas de pedidos, valores e retenções para cada cluster.\n",
    "\n",
    "- O Cluster 0 apresentou uma vantagem significativa para a ação. Por esse motivo, os próximos passos incluem aprofundar a análise desse cluster, verificando a possibilidade de segmentá-lo ainda mais para otimizar os indicadores. Para os próximoas passos, será interessante incluir novas variáveis no modelo e criar uma próxima campanha de cupons para realizar testes A/B, além de análises temporais para avaliar o desempenho ao longo do tempo."
   ]
  },
  {
   "cell_type": "code",
   "execution_count": 0,
   "metadata": {
    "application/vnd.databricks.v1+cell": {
     "cellMetadata": {
      "byteLimit": 2048000,
      "rowLimit": 10000
     },
     "inputWidgets": {},
     "nuid": "42d2184b-49ef-4902-a7a3-668ba1dc65b3",
     "showTitle": false,
     "tableResultSettingsMap": {},
     "title": ""
    }
   },
   "outputs": [],
   "source": [
    "# Filtrar só onde is_target == True\n",
    "target_retention_df = df.filter(F.col(\"is_target\") == True)"
   ]
  },
  {
   "cell_type": "code",
   "execution_count": 0,
   "metadata": {
    "application/vnd.databricks.v1+cell": {
     "cellMetadata": {
      "byteLimit": 2048000,
      "rowLimit": 10000
     },
     "inputWidgets": {},
     "nuid": "0cd255b6-df46-41f1-9256-b2534ff51ce8",
     "showTitle": false,
     "tableResultSettingsMap": {},
     "title": ""
    }
   },
   "outputs": [],
   "source": [
    "target_retention_df = target_retention_df[[\"customer_id\", \"is_target\", \"delivery_address_city\", \"delivery_address_state\", \"origin_platform\", \"order_scheduled\", \"total_orders\", \"total_merchants\", \"total_amount\", \"is_retained\"]]"
   ]
  },
  {
   "cell_type": "code",
   "execution_count": 0,
   "metadata": {
    "application/vnd.databricks.v1+cell": {
     "cellMetadata": {
      "byteLimit": 2048000,
      "rowLimit": 10000
     },
     "inputWidgets": {},
     "nuid": "ff7ce3a3-58ec-468e-8788-158622bdb6b7",
     "showTitle": false,
     "tableResultSettingsMap": {},
     "title": ""
    }
   },
   "outputs": [],
   "source": [
    "\n",
    "#Transformar booleanos para inteiro (0/1)\n",
    "bool_cols = ['is_target', 'order_scheduled', 'is_retained']\n",
    "for col in bool_cols:\n",
    "    target_retention_df = target_retention_df.withColumn(col, target_retention_df[col].cast('int'))\n",
    "\n",
    "# Colunas categóricas\n",
    "cat_cols = ['delivery_address_city', 'delivery_address_state', 'origin_platform']\n",
    "index_output_cols = [c + \"_idx\" for c in cat_cols]\n",
    "encoder_output_cols = [c + \"_vec\" for c in cat_cols]\n",
    "\n",
    "indexers = [StringIndexer(inputCol=c, outputCol=c+\"_idx\", handleInvalid=\"keep\") for c in cat_cols]\n",
    "\n",
    "# OneHotEncoder para todas as colunas indexadas\n",
    "encoder = OneHotEncoder(inputCols=index_output_cols, outputCols=encoder_output_cols)\n",
    "\n",
    "# Pipeline\n",
    "pipeline = Pipeline(stages=indexers + [encoder])\n",
    "target_retention_df = pipeline.fit(target_retention_df).transform(target_retention_df)\n",
    "\n",
    "# Montar vetor de features\n",
    "feature_cols = ['total_orders', 'total_merchants', 'total_amount'] + bool_cols + encoder_output_cols\n",
    "assembler = VectorAssembler(inputCols=feature_cols, outputCol=\"features\")\n",
    "target_retention_df = assembler.transform(target_retention_df)\n",
    "\n",
    "# KMeans (distância Euclidiana)\n",
    "k = 2\n",
    "kmeans = KMeans(featuresCol=\"features\", predictionCol=\"cluster\", k=k, seed=42)\n",
    "model = kmeans.fit(target_retention_df)\n",
    "target_retention_df = model.transform(target_retention_df)\n",
    "\n",
    "# Agregar por cluster\n",
    "agg_df = target_retention_df.groupBy('cluster').agg(\n",
    "    spark_sum('total_orders').alias('total_orders_sum'),\n",
    "    spark_sum('total_amount').alias('total_amount_sum'),\n",
    "    spark_sum('is_retained').alias('is_retained_sum')\n",
    ")\n",
    "\n",
    "agg_df.show()\n"
   ]
  },
  {
   "cell_type": "code",
   "execution_count": 0,
   "metadata": {
    "application/vnd.databricks.v1+cell": {
     "cellMetadata": {
      "byteLimit": 2048000,
      "rowLimit": 10000
     },
     "inputWidgets": {},
     "nuid": "10e2e70a-08f6-4b5b-9d3b-e67bde81324b",
     "showTitle": false,
     "tableResultSettingsMap": {},
     "title": ""
    }
   },
   "outputs": [
    {
     "output_type": "stream",
     "name": "stdout",
     "output_type": "stream",
     "text": [
      "+-------+------------------+-------------------+------------------+-------------+--------------------+------------------+\n|cluster|  avg_total_orders|avg_total_merchants|  avg_total_amount|avg_is_target| avg_order_scheduled|   avg_is_retained|\n+-------+------------------+-------------------+------------------+-------------+--------------------+------------------+\n|      1|2.3144596691133335| 2.3144596691133335|100.05501232025068|          1.0|3.020307767188593E-4|0.5041567257256344|\n|      0|12.033033238626638| 12.033033238626638|   742.23355321261|          1.0| 5.47701365830281E-4|0.9959607024270016|\n+-------+------------------+-------------------+------------------+-------------+--------------------+------------------+\n\n"
     ]
    }
   ],
   "source": [
    "agg_stats = target_retention_df.groupBy('cluster').agg(\n",
    "    avg('total_orders').alias('avg_total_orders'),\n",
    "    avg('total_merchants').alias('avg_total_merchants'),\n",
    "    avg('total_amount').alias('avg_total_amount'),\n",
    "    avg('is_target').alias('avg_is_target'),\n",
    "    avg('order_scheduled').alias('avg_order_scheduled'),\n",
    "    avg('is_retained').alias('avg_is_retained')\n",
    ")\n",
    "\n",
    "agg_stats.show()\n"
   ]
  },
  {
   "cell_type": "code",
   "execution_count": 0,
   "metadata": {
    "application/vnd.databricks.v1+cell": {
     "cellMetadata": {
      "byteLimit": 2048000,
      "rowLimit": 10000
     },
     "inputWidgets": {},
     "nuid": "1a55ba8f-9b97-44bb-92f2-f1934fa2157c",
     "showTitle": false,
     "tableResultSettingsMap": {},
     "title": ""
    }
   },
   "outputs": [
    {
     "output_type": "stream",
     "name": "stdout",
     "output_type": "stream",
     "text": [
      "+----------------------------------------------------------------+---------+-----------------------+----------------------+---------------+---------------+------------+---------------+------------------+-----------+-------------------------+--------------------------+-------------------+-------------------------+--------------------------+-------------------+-----------------------------------------------------------------------------+-------+------------------------------+\n|customer_id                                                     |is_target|delivery_address_city  |delivery_address_state|origin_platform|order_scheduled|total_orders|total_merchants|total_amount      |is_retained|delivery_address_city_idx|delivery_address_state_idx|origin_platform_idx|delivery_address_city_vec|delivery_address_state_vec|origin_platform_vec|features                                                                     |cluster|combined_key                  |\n+----------------------------------------------------------------+---------+-----------------------+----------------------+---------------+---------------+------------+---------------+------------------+-----------+-------------------------+--------------------------+-------------------+-------------------------+--------------------------+-------------------+-----------------------------------------------------------------------------+-------+------------------------------+\n|0001226e5175177581c0e520732ba58a61dfa96d57be0caef75f5bc948887a8c|1        |RIO DE JANEIRO         |RJ                    |ANDROID        |0              |2           |2              |86.5              |1          |1.0                      |1.0                       |0.0                |(191,[1],[1.0])          |(23,[1],[1.0])            |(4,[0],[1.0])      |(224,[0,1,2,3,5,7,198,220],[2.0,2.0,86.5,1.0,1.0,1.0,1.0,1.0])               |1      |RIO DE JANEIRO_RJ_ANDROID     |\n|00021cd56b6d6c980c3b48ca0fdf8c53cf3fea776d74ab401d02b84a5bc1bbad|1        |CAMPINAS               |SP                    |ANDROID        |0              |3           |3              |47.8              |1          |9.0                      |0.0                       |0.0                |(191,[9],[1.0])          |(23,[0],[1.0])            |(4,[0],[1.0])      |(224,[0,1,2,3,5,15,197,220],[3.0,3.0,47.8,1.0,1.0,1.0,1.0,1.0])              |1      |CAMPINAS_SP_ANDROID           |\n|00021f6dc15d10418b7765cdcdb18c5535c753e53b42f1278b762b3b94c982b5|1        |SAO PAULO              |SP                    |ANDROID        |0              |1           |1              |128.6             |0          |0.0                      |0.0                       |0.0                |(191,[0],[1.0])          |(23,[0],[1.0])            |(4,[0],[1.0])      |(224,[0,1,2,3,6,197,220],[1.0,1.0,128.6,1.0,1.0,1.0,1.0])                    |1      |SAO PAULO_SP_ANDROID          |\n|00021f6dc15d10418b7765cdcdb18c5535c753e53b42f1278b762b3b94c982b5|1        |GUARULHOS              |SP                    |ANDROID        |0              |1           |1              |46.0              |0          |20.0                     |0.0                       |0.0                |(191,[20],[1.0])         |(23,[0],[1.0])            |(4,[0],[1.0])      |(224,[0,1,2,3,26,197,220],[1.0,1.0,46.0,1.0,1.0,1.0,1.0])                    |1      |GUARULHOS_SP_ANDROID          |\n|00029b26fb2121119b6d07a275088befd3535f26f38787d5f03995dafd7c4c55|1        |RIO DE JANEIRO         |RJ                    |IOS            |0              |1           |1              |54.6              |0          |1.0                      |1.0                       |1.0                |(191,[1],[1.0])          |(23,[1],[1.0])            |(4,[1],[1.0])      |(224,[0,1,2,3,7,198,221],[1.0,1.0,54.6,1.0,1.0,1.0,1.0])                     |1      |RIO DE JANEIRO_RJ_IOS         |\n|000405bb6de6550fec397a30cb9a5b4876726f68f372d5cadd0dc3f2801c35b9|1        |RIO DE JANEIRO         |RJ                    |IOS            |0              |3           |3              |175.07            |1          |1.0                      |1.0                       |1.0                |(191,[1],[1.0])          |(23,[1],[1.0])            |(4,[1],[1.0])      |(224,[0,1,2,3,5,7,198,221],[3.0,3.0,175.07,1.0,1.0,1.0,1.0,1.0])             |1      |RIO DE JANEIRO_RJ_IOS         |\n|0005bc77d13c12d944c05d1d8ec183c2923c1f4ddbac9779b7bfd7b86dd61956|1        |CURITIBA               |PR                    |IOS            |0              |5           |5              |315.9             |1          |6.0                      |3.0                       |1.0                |(191,[6],[1.0])          |(23,[3],[1.0])            |(4,[1],[1.0])      |(224,[0,1,2,3,5,12,200,221],[5.0,5.0,315.9,1.0,1.0,1.0,1.0,1.0])             |1      |CURITIBA_PR_IOS               |\n|000949d1dc848191d6f304b93938219e3fa40fc8d7361e5c70a6c3783542442f|1        |SAO PAULO              |SP                    |IOS            |0              |7           |7              |440.32000000000005|1          |0.0                      |0.0                       |1.0                |(191,[0],[1.0])          |(23,[0],[1.0])            |(4,[1],[1.0])      |(224,[0,1,2,3,5,6,197,221],[7.0,7.0,440.32000000000005,1.0,1.0,1.0,1.0,1.0]) |0      |SAO PAULO_SP_IOS              |\n|000b00a8ed79b373fa6d753b7787b5ce5f5ab8563d014123b5c10f4cbb9b3855|1        |JUIZ DE FORA           |MG                    |DESKTOP        |0              |2           |2              |69.69999999999999 |1          |10.0                     |2.0                       |2.0                |(191,[10],[1.0])         |(23,[2],[1.0])            |(4,[2],[1.0])      |(224,[0,1,2,3,5,16,199,222],[2.0,2.0,69.69999999999999,1.0,1.0,1.0,1.0,1.0]) |1      |JUIZ DE FORA_MG_DESKTOP       |\n|000bcdcc4266f8340396079e919e7038a381a1d0462e4974a7b971ddbefd59ae|1        |JABOATAO DOS GUARARAPES|PE                    |IOS            |0              |2           |2              |247.9             |1          |44.0                     |4.0                       |1.0                |(191,[44],[1.0])         |(23,[4],[1.0])            |(4,[1],[1.0])      |(224,[0,1,2,3,5,50,201,221],[2.0,2.0,247.9,1.0,1.0,1.0,1.0,1.0])             |1      |JABOATAO DOS GUARARAPES_PE_IOS|\n|000bcdcc4266f8340396079e919e7038a381a1d0462e4974a7b971ddbefd59ae|1        |RECIFE                 |PE                    |IOS            |0              |5           |5              |370.6             |1          |4.0                      |4.0                       |1.0                |(191,[4],[1.0])          |(23,[4],[1.0])            |(4,[1],[1.0])      |(224,[0,1,2,3,5,10,201,221],[5.0,5.0,370.6,1.0,1.0,1.0,1.0,1.0])             |1      |RECIFE_PE_IOS                 |\n|000efeb24da772c599cb55e91981ef67b686993920103e69716b6690e044b231|1        |NOVA IGUACU            |RJ                    |ANDROID        |0              |1           |1              |51.8              |0          |46.0                     |1.0                       |0.0                |(191,[46],[1.0])         |(23,[1],[1.0])            |(4,[0],[1.0])      |(224,[0,1,2,3,52,198,220],[1.0,1.0,51.8,1.0,1.0,1.0,1.0])                    |1      |NOVA IGUACU_RJ_ANDROID        |\n|0010c10673b278b9f8e7e2ff5ee872f9415e3d7f4b4bea80723cb6579c237711|1        |SAO PAULO              |SP                    |DESKTOP        |0              |1           |1              |100.5             |0          |0.0                      |0.0                       |2.0                |(191,[0],[1.0])          |(23,[0],[1.0])            |(4,[2],[1.0])      |(224,[0,1,2,3,6,197,222],[1.0,1.0,100.5,1.0,1.0,1.0,1.0])                    |1      |SAO PAULO_SP_DESKTOP          |\n|0010c10673b278b9f8e7e2ff5ee872f9415e3d7f4b4bea80723cb6579c237711|1        |DIADEMA                |SP                    |DESKTOP        |0              |2           |2              |139.23000000000002|1          |43.0                     |0.0                       |2.0                |(191,[43],[1.0])         |(23,[0],[1.0])            |(4,[2],[1.0])      |(224,[0,1,2,3,5,49,197,222],[2.0,2.0,139.23000000000002,1.0,1.0,1.0,1.0,1.0])|1      |DIADEMA_SP_DESKTOP            |\n|0011bb0e7ebe3917e8023a8bc72120fb69b67de69979eb876103a239688c5353|1        |RIO DE JANEIRO         |RJ                    |ANDROID        |0              |1           |1              |40.0              |0          |1.0                      |1.0                       |0.0                |(191,[1],[1.0])          |(23,[1],[1.0])            |(4,[0],[1.0])      |(224,[0,1,2,3,7,198,220],[1.0,1.0,40.0,1.0,1.0,1.0,1.0])                     |1      |RIO DE JANEIRO_RJ_ANDROID     |\n|001482950273962376b1c62b8ea40031ffa1f5d64dfd93a93ca891c91153bff2|1        |SAO PAULO              |SP                    |ANDROID        |0              |1           |1              |43.0              |0          |0.0                      |0.0                       |0.0                |(191,[0],[1.0])          |(23,[0],[1.0])            |(4,[0],[1.0])      |(224,[0,1,2,3,6,197,220],[1.0,1.0,43.0,1.0,1.0,1.0,1.0])                     |1      |SAO PAULO_SP_ANDROID          |\n|0015f1e5b35a3d7b66d9fd64271e1633200d44bbcdb63b4000de5283431e2080|1        |RIO DE JANEIRO         |RJ                    |IOS            |0              |1           |1              |49.9              |0          |1.0                      |1.0                       |1.0                |(191,[1],[1.0])          |(23,[1],[1.0])            |(4,[1],[1.0])      |(224,[0,1,2,3,7,198,221],[1.0,1.0,49.9,1.0,1.0,1.0,1.0])                     |1      |RIO DE JANEIRO_RJ_IOS         |\n|001996767cf375801c5dea311af087e7a07d755f0e29c40fb8f6597fc925927e|1        |RIO DE JANEIRO         |RJ                    |IOS            |0              |10          |10             |344.39            |1          |1.0                      |1.0                       |1.0                |(191,[1],[1.0])          |(23,[1],[1.0])            |(4,[1],[1.0])      |(224,[0,1,2,3,5,7,198,221],[10.0,10.0,344.39,1.0,1.0,1.0,1.0,1.0])           |1      |RIO DE JANEIRO_RJ_IOS         |\n|001c9f6e442228cd09962c42c4c91f49aeaa066a0a94fb49afeca8c3a4083629|1        |CURITIBA               |PR                    |ANDROID        |0              |3           |3              |118.0             |1          |6.0                      |3.0                       |0.0                |(191,[6],[1.0])          |(23,[3],[1.0])            |(4,[0],[1.0])      |(224,[0,1,2,3,5,12,200,220],[3.0,3.0,118.0,1.0,1.0,1.0,1.0,1.0])             |1      |CURITIBA_PR_ANDROID           |\n|001c9f6e442228cd09962c42c4c91f49aeaa066a0a94fb49afeca8c3a4083629|1        |ITAPEVI                |SP                    |ANDROID        |0              |1           |1              |26.9              |0          |81.0                     |0.0                       |0.0                |(191,[81],[1.0])         |(23,[0],[1.0])            |(4,[0],[1.0])      |(224,[0,1,2,3,87,197,220],[1.0,1.0,26.9,1.0,1.0,1.0,1.0])                    |1      |ITAPEVI_SP_ANDROID            |\n+----------------------------------------------------------------+---------+-----------------------+----------------------+---------------+---------------+------------+---------------+------------------+-----------+-------------------------+--------------------------+-------------------+-------------------------+--------------------------+-------------------+-----------------------------------------------------------------------------+-------+------------------------------+\nonly showing top 20 rows\n\n"
     ]
    }
   ],
   "source": [
    "# Criando chave combinada para avaliar grupos de maior impacto\n",
    "\n",
    "target_retention_df = target_retention_df.withColumn(\n",
    "    \"combined_key\",\n",
    "    F.concat_ws(\"_\", \n",
    "                F.col(\"delivery_address_city\"), \n",
    "                F.col(\"delivery_address_state\"), \n",
    "                F.col(\"origin_platform\"))\n",
    ")\n",
    "\n",
    "target_retention_df.show(truncate=False)"
   ]
  },
  {
   "cell_type": "code",
   "execution_count": 0,
   "metadata": {
    "application/vnd.databricks.v1+cell": {
     "cellMetadata": {
      "byteLimit": 2048000,
      "rowLimit": 10000
     },
     "inputWidgets": {},
     "nuid": "361b8957-06be-4924-a241-11880a7a7a08",
     "showTitle": false,
     "tableResultSettingsMap": {},
     "title": ""
    }
   },
   "outputs": [
    {
     "output_type": "stream",
     "name": "stdout",
     "output_type": "stream",
     "text": [
      "+-------+--------------------+-----+\n|cluster|        combined_key|count|\n+-------+--------------------+-----+\n|      1|    SAO PAULO_SP_IOS|54104|\n|      1|SAO PAULO_SP_ANDROID|43803|\n|      1|RIO DE JANEIRO_RJ...|31230|\n|      1|RIO DE JANEIRO_RJ...|29223|\n|      1|SAO PAULO_SP_DESKTOP|21282|\n|      1|RIO DE JANEIRO_RJ...|10432|\n|      1|    FORTALEZA_CE_IOS| 7945|\n|      1|BELO HORIZONTE_MG...| 7647|\n|      1|     BRASILIA_DF_IOS| 6811|\n|      1|BELO HORIZONTE_MG...| 6800|\n|      1|   RECIFE_PE_ANDROID| 6686|\n|      1|FORTALEZA_CE_ANDROID| 6544|\n|      1|       RECIFE_PE_IOS| 6469|\n|      0|    SAO PAULO_SP_IOS| 6446|\n|      1| BRASILIA_DF_ANDROID| 6310|\n|      1| CURITIBA_PR_ANDROID| 6116|\n|      1|     CURITIBA_PR_IOS| 6052|\n|      1| SALVADOR_BA_ANDROID| 5599|\n|      1|     SALVADOR_BA_IOS| 5493|\n|      1|PORTO ALEGRE_RS_A...| 5312|\n+-------+--------------------+-----+\nonly showing top 20 rows\n\n"
     ]
    }
   ],
   "source": [
    "target_retention_df.groupBy('cluster', 'combined_key').count().orderBy('count', ascending=False).show()"
   ]
  },
  {
   "cell_type": "code",
   "execution_count": 0,
   "metadata": {
    "application/vnd.databricks.v1+cell": {
     "cellMetadata": {
      "byteLimit": 2048000,
      "rowLimit": 10000
     },
     "inputWidgets": {},
     "nuid": "578056b4-d599-4d00-bef1-9b44a036ccdf",
     "showTitle": false,
     "tableResultSettingsMap": {},
     "title": ""
    }
   },
   "outputs": [
    {
     "output_type": "stream",
     "name": "stdout",
     "output_type": "stream",
     "text": [
      "+-------+--------------------+-----+--------+--------------+\n|cluster|        combined_key|total|retained|retention_rate|\n+-------+--------------------+-----+--------+--------------+\n|      0|  GOIANIA_GO_ANDROID|   45|      45|           1.0|\n|      0|  NITEROI_RJ_DESKTOP|   56|      56|           1.0|\n|      0|SAO GONCALO_RJ_AN...|    2|       2|           1.0|\n|      0|  JANDIRA_SP_ANDROID|   10|      10|           1.0|\n|      0|PARNAMIRIM_RN_AND...|    5|       5|           1.0|\n|      0|     CONTAGEM_MG_IOS|    9|       9|           1.0|\n|      0|SAO JOSE DO RIO P...|   68|      68|           1.0|\n|      0|  DIADEMA_SP_DESKTOP|    5|       5|           1.0|\n|      0|GOIANIA_GO_WINDOW...|    1|       1|           1.0|\n|      0|SANTO ANDRE_SP_AN...|   63|      63|           1.0|\n|      0|  VITORIA_ES_ANDROID|  116|     116|           1.0|\n|      0|SAO BERNARDO DO C...|   11|      11|           1.0|\n|      0|CAMPINA GRANDE_PB...|    7|       7|           1.0|\n|      0|   RECIFE_PE_ANDROID|  281|     281|           1.0|\n|      0|CAMPINA GRANDE_PB...|   13|      13|           1.0|\n|      0|APARECIDA DE GOIA...|    1|       1|           1.0|\n|      0|     CURITIBA_PR_IOS|  338|     338|           1.0|\n|      0|MOGI DAS CRUZES_S...|   21|      21|           1.0|\n|      0|SAO PAULO_SP_WIND...|   17|      17|           1.0|\n|      0|      JUNDIAI_SP_IOS|   32|      32|           1.0|\n+-------+--------------------+-----+--------+--------------+\nonly showing top 20 rows\n\n"
     ]
    }
   ],
   "source": [
    "target_retention_df.groupBy('cluster', 'combined_key') \\\n",
    "    .agg(\n",
    "        F.count('*').alias('total'),\n",
    "        F.sum(F.col('is_retained')).alias('retained'),\n",
    "        (F.sum(F.col('is_retained')) / F.count('*')).alias('retention_rate')\n",
    "    ) \\\n",
    "    .orderBy('retention_rate', ascending=False) \\\n",
    "    .show()\n"
   ]
  },
  {
   "cell_type": "code",
   "execution_count": 0,
   "metadata": {
    "application/vnd.databricks.v1+cell": {
     "cellMetadata": {
      "byteLimit": 2048000,
      "rowLimit": 10000
     },
     "inputWidgets": {},
     "nuid": "6f98363e-5fcb-4538-ab50-4dee1dd47b65",
     "showTitle": false,
     "tableResultSettingsMap": {},
     "title": ""
    }
   },
   "outputs": [
    {
     "output_type": "stream",
     "name": "stdout",
     "output_type": "stream",
     "text": [
      "+-------+---------------------+-----+\n|cluster|delivery_address_city|count|\n+-------+---------------------+-----+\n|      0|             SAO JOSE|   12|\n|      1| SAO BERNARDO DO C...| 3762|\n|      0|       BELO HORIZONTE|  449|\n|      1|           SEROPEDICA|    1|\n|      1|              CUBATAO|    3|\n|      0|      TABOAO DA SERRA|   17|\n|      1|              FORMOSA|    9|\n|      1|       RIO DE JANEIRO|71707|\n|      1|               SOBRAL|   16|\n|      0|              NITEROI|  546|\n|      0| SAO BERNARDO DO C...|  135|\n|      0|       CAMPINA GRANDE|   24|\n|      1|              TAUBATE|  372|\n|      0|           CAMARAGIBE|    1|\n|      1|             PAULISTA|   91|\n|      1|                BELEM| 2987|\n|      1| SAO JOSE DO RIO P...| 5093|\n|      0|   SAO CAETANO DO SUL|  140|\n|      0|        VOLTA REDONDA|   27|\n|      0|      DUQUE DE CAXIAS|   29|\n+-------+---------------------+-----+\nonly showing top 20 rows\n\n+-------+----------------------+-----+\n|cluster|delivery_address_state|count|\n+-------+----------------------+-----+\n|      0|                    MG|  769|\n|      1|                    SE| 1184|\n|      0|                    DF|  973|\n|      1|                    SC| 9728|\n|      0|                    MT|    5|\n|      0|                    MA|   32|\n|      1|                    PI|  119|\n|      0|                    MS|   44|\n|      0|                    SC|  320|\n|      1|                    RN| 4599|\n|      1|                    AM| 5606|\n|      0|                    BA|  668|\n|      1|                    PE|18664|\n|      1|                    PR|22834|\n|      1|                    MT|  490|\n|      0|                    AL|   87|\n|      0|                    PR|  836|\n|      1|                    MS| 2187|\n|      1|                    MG|26261|\n|      0|                    CE| 1337|\n+-------+----------------------+-----+\nonly showing top 20 rows\n\n+-------+---------------+------+\n|cluster|origin_platform| count|\n+-------+---------------+------+\n|      1|        DESKTOP| 72699|\n|      0|            IOS| 16396|\n|      1|            IOS|186403|\n|      0|        ANDROID|  8602|\n|      0|        DESKTOP|  4114|\n|      1|  WINDOWS_PHONE|  4500|\n|      0|  WINDOWS_PHONE|   101|\n|      1|        ANDROID|196616|\n+-------+---------------+------+\n\n"
     ]
    }
   ],
   "source": [
    "target_retention_df.groupBy('cluster', 'delivery_address_city').count().show()\n",
    "target_retention_df.groupBy('cluster', 'delivery_address_state').count().show()\n",
    "target_retention_df.groupBy('cluster', 'origin_platform').count().show()"
   ]
  }
 ],
 "metadata": {
  "application/vnd.databricks.v1+notebook": {
   "computePreferences": null,
   "dashboards": [],
   "environmentMetadata": {
    "base_environment": "",
    "environment_version": "1"
   },
   "inputWidgetPreferences": null,
   "language": "python",
   "notebookMetadata": {
    "pythonIndentUnit": 4
   },
   "notebookName": "cupons_analysis",
   "widgets": {}
  }
 },
 "nbformat": 4,
 "nbformat_minor": 0
}